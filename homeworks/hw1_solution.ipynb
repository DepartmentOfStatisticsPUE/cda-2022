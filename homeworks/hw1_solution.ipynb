{
  "nbformat": 4,
  "nbformat_minor": 0,
  "metadata": {
    "colab": {
      "name": "hw1-solution.ipynb",
      "provenance": [],
      "collapsed_sections": [],
      "authorship_tag": "ABX9TyPauYH5WeDsSKXs51de4a82",
      "include_colab_link": true
    },
    "kernelspec": {
      "name": "python3",
      "display_name": "Python 3"
    },
    "language_info": {
      "name": "python"
    }
  },
  "cells": [
    {
      "cell_type": "markdown",
      "metadata": {
        "id": "view-in-github",
        "colab_type": "text"
      },
      "source": [
        "<a href=\"https://colab.research.google.com/github/DepartmentOfStatisticsPUE/cda-2022/blob/main/homeworks/hw1_solution.ipynb\" target=\"_parent\"><img src=\"https://colab.research.google.com/assets/colab-badge.svg\" alt=\"Open In Colab\"/></a>"
      ]
    },
    {
      "cell_type": "markdown",
      "source": [
        "## Exercise\n",
        "\n",
        "Assume that $X$ follows Poisson distribution given by \n",
        "\n",
        "$$\n",
        "P(X=x_i, \\lambda_i) = \\frac{\\lambda_i^x e^{-\\lambda_i}}{x_i!},\n",
        "$$\n",
        "\n",
        "where $\\lambda_i = \\theta_0 + \\theta_1 \\times z_i$, $\\theta_0=0.5$, $\\theta_1=0.5$, and $z_i \\sim \\text{Bern}(0.7)$ and number of observations is equal to $n=10,000$.\n",
        "\n",
        "Tasks:\n",
        "\n",
        "+ generate $z_i$,\n",
        "+ generate $\\lambda_i$ according to $\\theta_0 + \\theta_1 \\times z_i$,\n",
        "+ generate $\\boldsymbol{X} \\sim \\text{Poisson}(\\boldsymbol{\\lambda})$\n",
        "+ derive log-likelihood, gradient and hessian,\n",
        "+ obtain MLE of $\\boldsymbol{\\theta} = (\\theta_0, \\theta_1)$ using Newton-Raphson method. "
      ],
      "metadata": {
        "id": "GqVml2r5G5iS"
      }
    },
    {
      "cell_type": "markdown",
      "source": [
        "## Derivation of ll, grad and hess"
      ],
      "metadata": {
        "id": "0mjWq8NAHTwd"
      }
    },
    {
      "cell_type": "markdown",
      "source": [
        "Log-likelihood \n",
        "\n",
        "$$\n",
        "\\log L(\\theta_0, \\theta_1; X_i, z_i) = -\\lambda_i + x_i \\log(\\lambda_i) = -(\\theta_0 + \\theta_1z_i) + x_i \\log(\\theta_0 + \\theta_1z_i)\n",
        "$$\n",
        "\n",
        "Gradient \n",
        "\n",
        "$$\n",
        "\\frac{\\partial \\log L_i}{\\partial \\mathbf{\\theta}} = \n",
        "\\begin{bmatrix}\n",
        "\\frac{\\partial \\log L_i}{\\partial \\theta_0} \\\\\n",
        "\\frac{\\partial \\log L_i}{\\partial \\theta_1}\n",
        "\\end{bmatrix} = \n",
        "\\begin{bmatrix}\n",
        "\\frac{x_i}{\\theta_0 + \\theta_1 z_i} - 1\\\\\n",
        "\\frac{x_i z_i}{\\theta_0 + \\theta_1 z_i} - z_i\n",
        "\\end{bmatrix}\n",
        "$$\n",
        "\n",
        "Hessian\n",
        "\n",
        "$$\n",
        "\\frac{\\partial^2 \\log L_i}{\\partial \\mathbf{\\theta}^2} = \n",
        "\\begin{bmatrix}\n",
        "\\frac{\\partial^2 \\log L_i}{\\partial \\theta_0^2} & \\frac{\\partial^2 \\log L_i}{\\partial \\theta_1 \\partial\\theta_0} \\\\\n",
        "\\frac{\\partial^2 \\log L_i}{\\partial \\theta_0 \\partial\\theta_1} & \\frac{\\partial^2 \\log L_i}{\\partial \\theta_1^2} \\\\\n",
        "\\end{bmatrix} = \n",
        "\\begin{bmatrix}\n",
        "\\frac{-x_i}{(\\theta_0+ \\theta_1 z_i)^2} & \\frac{-x_i z_i}{(\\theta_0+ \\theta_1 z_i)^2} \\\\\n",
        "\\frac{-x_i z_i}{(\\theta_0+ \\theta_1 z_i)^2} & \\frac{-x_i z_i^2}{(\\theta_0+ \\theta_1 z_i)^2} \\\\\n",
        "\\end{bmatrix}\n",
        "$$"
      ],
      "metadata": {
        "id": "WFI3A9wAHYGZ"
      }
    },
    {
      "cell_type": "markdown",
      "source": [
        "Solution using R only"
      ],
      "metadata": {
        "id": "mBf5_YmmHKG3"
      }
    },
    {
      "cell_type": "code",
      "execution_count": 11,
      "metadata": {
        "id": "gdpAWHp_G1JA",
        "colab": {
          "base_uri": "https://localhost:8080/"
        },
        "outputId": "5d42824b-1193-4597-8c7b-61567664d608"
      },
      "outputs": [
        {
          "output_type": "stream",
          "name": "stdout",
          "text": [
            "The rpy2.ipython extension is already loaded. To reload it, use:\n",
            "  %reload_ext rpy2.ipython\n"
          ]
        }
      ],
      "source": [
        "%load_ext rpy2.ipython"
      ]
    },
    {
      "cell_type": "code",
      "source": [
        "%%R\n",
        "install.packages(\"maxLik\")"
      ],
      "metadata": {
        "id": "0zvCraYpHEFa"
      },
      "execution_count": null,
      "outputs": []
    },
    {
      "cell_type": "code",
      "source": [
        "%%R\n",
        "library(maxLik)"
      ],
      "metadata": {
        "id": "l5SeXoOdHGyz"
      },
      "execution_count": 17,
      "outputs": []
    },
    {
      "cell_type": "markdown",
      "source": [
        "Generate data"
      ],
      "metadata": {
        "id": "XQFwzaIBH3Ht"
      }
    },
    {
      "cell_type": "code",
      "source": [
        "%%R\n",
        "set.seed(123)\n",
        "n <- 10000\n",
        "z <- rbinom(n = n, prob = 0.7, size = 1)\n",
        "theta_true <- c(0.5, 0.5)\n",
        "lambda_true <- theta_true[1] + theta_true[2]*z ## lambda_i = 0.5 + 0.5*z_i\n",
        "X <- rpois(n = n, lambda = lambda_true)\n",
        "table(X)"
      ],
      "metadata": {
        "colab": {
          "base_uri": "https://localhost:8080/"
        },
        "id": "xgaLeOikHjMd",
        "outputId": "30998255-b52e-4309-f9cb-f58207eb6edb"
      },
      "execution_count": 14,
      "outputs": [
        {
          "output_type": "stream",
          "name": "stdout",
          "text": [
            "X\n",
            "   0    1    2    3    4    5    6    7 \n",
            "4401 3453 1576  442  104   20    3    1 \n"
          ]
        }
      ]
    },
    {
      "cell_type": "markdown",
      "source": [
        "Functions"
      ],
      "metadata": {
        "id": "JbuvYRKvHpmU"
      }
    },
    {
      "cell_type": "code",
      "source": [
        "%%R\n",
        "ll <- function(theta, z, X) {\n",
        "  \n",
        "  lam <- theta[1]+theta[2]*z\n",
        "  l <- X*log(lam) - lam\n",
        "  return(sum(l))\n",
        "}\n",
        "\n",
        "\n",
        "ll_grad <- function(theta, z, X) {\n",
        "  \n",
        "  lam <- theta[1]+theta[2]*z\n",
        "\n",
        "  l_g <- matrix(0, nrow = NROW(lam), ncol = 2)\n",
        "  \n",
        "  l_g[,1] <- X/lam - 1\n",
        "  l_g[,2] <- X*z/lam - z\n",
        "\n",
        "  return(colSums(l_g))\n",
        "}\n",
        "\n",
        "ll_hess <- function(theta, z, X) {\n",
        "  \n",
        "  lam <- theta[1]+theta[2]*z\n",
        "\n",
        "  l_h <- matrix(0, nrow = 2, ncol = 2)\n",
        "\n",
        "  l_h[1,1] <- sum(-X / lam^2)\n",
        "  l_h[2,2] <- sum(-X * z^2 / lam^2)\n",
        "  l_h[1,2] <- l_h[2,1] <- sum(-X * z/ lam^2)\n",
        "  \n",
        "  return(l_h)\n",
        "}"
      ],
      "metadata": {
        "id": "Tsb7S0bAHqw6"
      },
      "execution_count": 15,
      "outputs": []
    },
    {
      "cell_type": "code",
      "source": [
        "%%R\n",
        "solution <- maxLik(logLik = ll, grad =  ll_grad, hess = ll_hess, \n",
        "                   start = c(theta0 = 1, theta1 = 1), z = z, X = X, method = \"NR\")\n",
        "summary(solution)"
      ],
      "metadata": {
        "id": "WBTwnfU7Hxr1"
      },
      "execution_count": null,
      "outputs": []
    },
    {
      "cell_type": "markdown",
      "source": [
        "```r\n",
        "--------------------------------------------\n",
        "Maximum Likelihood estimation\n",
        "Newton-Raphson maximisation, 4 iterations\n",
        "Return code 1: gradient close to zero (gradtol)\n",
        "Log-Likelihood: -9508.655 \n",
        "2  free parameters\n",
        "Estimates:\n",
        "       Estimate Std. error t value Pr(> t)    \n",
        "theta0  0.48171    0.01277   37.71  <2e-16 ***\n",
        "theta1  0.51858    0.01747   29.69  <2e-16 ***\n",
        "---\n",
        "Signif. codes:  0 ‘***’ 0.001 ‘**’ 0.01 ‘*’ 0.05 ‘.’ 0.1 ‘ ’ 1\n",
        "--------------------------------------------\n",
        "\n",
        "```"
      ],
      "metadata": {
        "id": "WJqpYMtFO2Mk"
      }
    }
  ]
}