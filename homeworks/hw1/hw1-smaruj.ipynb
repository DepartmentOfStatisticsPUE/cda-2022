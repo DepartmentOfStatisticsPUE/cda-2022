{
  "nbformat": 4,
  "nbformat_minor": 0,
  "metadata": {
    "colab": {
      "name": "Maxlik_and_Poisson_Alicja_Smaruj.ipynb",
      "provenance": [],
      "collapsed_sections": []
    },
    "kernelspec": {
      "name": "python3",
      "display_name": "Python 3"
    }
  },
  "cells": [
    {
      "cell_type": "markdown",
      "metadata": {
        "id": "aLJZ_LQt25Do"
      },
      "source": [
        "# **Maxlik and Poisson**\n",
        "\n",
        "**Alicja_Smaruj**\n",
        "\n",
        "\"Informatyka i ekonomtria\" \n",
        "\n",
        "studia stacjonarne\n",
        "\n",
        "rok 3, semestr 6"
      ]
    },
    {
      "cell_type": "code",
      "metadata": {
        "id": "TGAqE4Sxh2Ib",
        "colab": {
          "base_uri": "https://localhost:8080/"
        },
        "outputId": "0b3f7672-987f-4bd7-8bb9-86ebdd40d6df"
      },
      "source": [
        "%load_ext rpy2.ipython"
      ],
      "execution_count": 26,
      "outputs": [
        {
          "output_type": "stream",
          "name": "stdout",
          "text": [
            "The rpy2.ipython extension is already loaded. To reload it, use:\n",
            "  %reload_ext rpy2.ipython\n"
          ]
        }
      ]
    },
    {
      "cell_type": "markdown",
      "metadata": {
        "id": "AQQmz26P21h4"
      },
      "source": [
        "#Homework\n",
        "\n",
        "\n",
        "Assume that $X$ follows Poisson distribution given by \n",
        "    \n",
        "  \\begin{equation}\n",
        "      P(X=x, \\lambda_i) = \\frac{\\lambda^x e^{-\\lambda}}{x!},\n",
        "  \\end{equation}\n",
        "\n",
        "  where $\\lambda_i = \\theta_0 + \\theta_1 \\times z_i$, $\\theta_0=0.5$, $\\theta_1=0.5$, and $z_i \\sim \\text{Bern}(0.7)$ and number of observations is equal to $n=10,000$.\n",
        "\n",
        "Tasks:\n",
        "\n",
        "  1. generate $z_i$,\n",
        "  2. generate $\\lambda_i$ according to $\\theta_0 + \\theta_1 \\times z_i$,\n",
        "  3. generate $X \\sim Poisson(\\lambda_i)$,\n",
        "  4. derive log-likelihood, gradient and hessian (by hand, \\LaTeX code for equations are preferred),\n",
        "  5. obtain MLE of $\\boldsymbol{\\theta} = (\\theta_0, \\theta_1)$ using Newton-Raphson method (gradient and hessian should be applied). \n",
        "\n"
      ]
    },
    {
      "cell_type": "code",
      "source": [
        "%%R\n",
        "install.packages(\"maxLik\")"
      ],
      "metadata": {
        "id": "LgcF29O13sKv",
        "colab": {
          "base_uri": "https://localhost:8080/"
        },
        "outputId": "161d5e23-dde4-4b39-b755-dd278267c571"
      },
      "execution_count": 27,
      "outputs": [
        {
          "output_type": "stream",
          "name": "stderr",
          "text": [
            "R[write to console]: \n",
            "\n",
            "R[write to console]: \n",
            "R[write to console]: The downloaded source packages are in\n",
            "\t‘/tmp/Rtmp4pJt4x/downloaded_packages’\n",
            "R[write to console]: \n",
            "R[write to console]: \n",
            "\n"
          ]
        }
      ]
    },
    {
      "cell_type": "code",
      "source": [
        "%%R\n",
        "library(maxLik)"
      ],
      "metadata": {
        "id": "P5wskJS2oXKT"
      },
      "execution_count": 28,
      "outputs": []
    },
    {
      "cell_type": "markdown",
      "source": [
        "1. Generate $z_i \\sim \\text{Bern}(0.7)$ and number of observations is equal to $n=10,000$\n"
      ],
      "metadata": {
        "id": "qVMbb5i5F2Qs"
      }
    },
    {
      "cell_type": "code",
      "source": [
        "%%R\n",
        "z <- rbinom(n = 10000, size = 1, prob = 0.7)"
      ],
      "metadata": {
        "id": "f52qhdBVF13O"
      },
      "execution_count": 30,
      "outputs": []
    },
    {
      "cell_type": "markdown",
      "source": [
        "2. Generate $\\lambda_i$ according to $\\theta_0 + \\theta_1 \\times z_i$,  $\\theta_0=0.5$, $\\theta_1=0.5$\n"
      ],
      "metadata": {
        "id": "XI0If-YEHPfz"
      }
    },
    {
      "cell_type": "code",
      "source": [
        "%%R\n",
        "lambda <- 0.5 + 0.5*z"
      ],
      "metadata": {
        "id": "PxmhhL0SHP3k"
      },
      "execution_count": 31,
      "outputs": []
    },
    {
      "cell_type": "markdown",
      "source": [
        "3. Generate $X \\sim Poisson(\\lambda_i)$"
      ],
      "metadata": {
        "id": "gWXDsYLsHQH7"
      }
    },
    {
      "cell_type": "code",
      "source": [
        "%%R\n",
        "x <- rpois(10000, lambda)"
      ],
      "metadata": {
        "id": "JcW2lQN9HQW9"
      },
      "execution_count": 32,
      "outputs": []
    },
    {
      "cell_type": "markdown",
      "source": [
        "4. Derive log-likelihood, gradient and hessian (by hand, \\LaTeX code for equations are preferred)"
      ],
      "metadata": {
        "id": "0nI9cF8DIx7j"
      }
    },
    {
      "cell_type": "markdown",
      "source": [
        "###**For parameter λ**\n",
        "\n",
        "Poisson distribution\n",
        "\n",
        "\\begin{equation}\n",
        "    P(X=x, \\lambda_i) = \\frac{\\lambda^x e^{-\\lambda}}{x!},\n",
        "\\end{equation}\n",
        "\n",
        "Likelihood function for Poisson distribution is:\n",
        "\n",
        "\\begin{equation}\n",
        "    L = \\prod_i^{n} \\frac{\\lambda^x e^{-\\lambda}}{x_i!},\n",
        "\\end{equation}\n",
        "\n",
        "The log-likelihood function is:\n",
        "\n",
        "\\begin{equation}\n",
        "   \\ln L = -n\\lambda + \\sum_i^{n} x_i \\ln \\lambda - \\sum_i^{n} \\ln(x_i!),\n",
        "\\end{equation}\n",
        "\n",
        "Gradient:\n",
        "\n",
        "\\begin{equation}\n",
        "    \\frac{\\partial \\log L}{\\partial \\lambda} = -n - \\frac{\\sum_i^{n} x_i}{\\lambda},   \n",
        "\\end{equation}\n",
        "\n",
        "Hessian:\n",
        "\n",
        "\\begin{equation}\n",
        "    \\frac{\\partial^2 \\log L}{\\partial \\lambda^2} = \\frac{\\sum_i^{n} x_i}{\\lambda^2}.\n",
        "\\end{equation}\n",
        "\n",
        "###**For parameters $\\boldsymbol{\\theta} = (\\theta_0, \\theta_1)$**\n",
        "\n",
        "Poisson distribution\n",
        "\n",
        "\\begin{equation}\n",
        "    P(X=x, \\boldsymbol{\\theta}) = \\frac{(\\theta_0 + \\theta_1 \\times z)^x e^{-\\theta_0 - \\theta_1 \\times z}}{x!},\n",
        "\\end{equation}\n",
        "\n",
        "Likelihood function for Poisson distribution is:\n",
        "\n",
        "\\begin{equation}\n",
        "    L = \\prod_i^{n} \\frac{(\\theta_0 + \\theta_1 \\times z)^x e^{-\\theta_0 - \\theta_1 \\times z}}{x_i!},\n",
        "\\end{equation}\n",
        "\n",
        "The log-likelihood function is:\n",
        "\n",
        "\\begin{equation}\n",
        "   \\ln L = -n(\\theta_0 + \\theta_1 \\times z) + \\sum_i^{n} x_i \\ln(\\theta_0 + \\theta_1 \\times z) - \\sum_i^{n} \\ln(x_i!) \n",
        "\\end{equation}\n",
        "\n",
        "Gradient:\n",
        "\n",
        "\\begin{equation}\n",
        "    \\frac{\\partial \\log L}{\\partial \\theta_0} = -n + \\frac{\\sum_i^{n} x_i}{\\theta_0 + \\theta_1 \\times z}   \n",
        "\\end{equation}\n",
        "\n",
        "\\begin{equation}\n",
        "    \\frac{\\partial \\log L}{\\partial \\theta_1} = -n z + \\frac{\\sum_i^{n} x_i z}{\\theta_0 + \\theta_1 \\times z}   \n",
        "\\end{equation}\n",
        "\n",
        "Hessian:\n",
        "\n",
        "\\begin{equation}\n",
        "    H = \\begin{bmatrix}\n",
        "    \\frac{\\partial^2 \\log L}{\\partial \\theta_0^2} & \\frac{\\partial^2 \\log L}{\\partial \\theta_0 \\partial \\theta_1} \\\\\n",
        "    \\frac{\\partial^2 \\log L}{\\partial \\theta_0 \\partial \\theta_1} & \\frac{\\partial^2 \\log L}{\\partial \\theta_1^2}\n",
        "  \\end{bmatrix}       \n",
        "\\end{equation}\n",
        "\n",
        "\n",
        "\\begin{equation}\n",
        "    H = \\begin{bmatrix}\n",
        "    -\\frac{\\sum_i^{n} x_i}{(\\theta_0 + \\theta_1 \\times z)^2} & -\\frac{\\sum_i^{n} x_i z}{(\\theta_0 + \\theta_1 \\times z)^2} \\\\\n",
        "    -\\frac{\\sum_i^{n} x_i z}{(\\theta_0 + \\theta_1 \\times z)^2} & -\\frac{\\sum_i^{n} x_i z^2}{(\\theta_0 + \\theta_1 \\times z)^2}\n",
        "  \\end{bmatrix}       \n",
        "\\end{equation}"
      ],
      "metadata": {
        "id": "r3o4fbtKC8LW"
      }
    },
    {
      "cell_type": "markdown",
      "source": [
        " 5. Obtain MLE of $\\boldsymbol{\\theta} = (\\theta_0, \\theta_1)$ using Newton-Raphson method (gradient and hessian should be applied)."
      ],
      "metadata": {
        "id": "74AdApDoI1u8"
      }
    },
    {
      "cell_type": "code",
      "source": [
        "%%R\n",
        "## log-likelihood function\n",
        "ll <- function(param, x, z) {\n",
        "  m <- -10000*(param[1] + param[2]*z) + sum(x)*log(param[1] + param[2]*z)-log(factorial(x))\n",
        "  m\n",
        "}\n",
        "\n",
        "## gradient\n",
        "grad <- function(param, x, z)  {\n",
        "  g <- numeric(2)\n",
        "  g[1] <- -10000 + sum(x) / (param[1] + param[2]*z)\n",
        "  g[2] <- -10000*z + sum(x)*z / (param[1] + param[2]*z)\n",
        "  g\n",
        "}\n",
        "\n",
        "\n",
        "## hessian\n",
        "hess <- function(param, x, z) {\n",
        "  h <- matrix(0, nrow = 2, ncol = 2)\n",
        "  h[1, 1] <- unique(-sum(x)/(param[1] + param[2]*z)^2)[1]\n",
        "  h[1, 2] <- unique(-(sum(x)*z)/(param[1] + param[2]*z)^2)[1] \n",
        "  h[2, 1] <- h[1, 2]\n",
        "  h[2, 2] <- unique(-(sum(x)*z^2)/(param[1] + param[2]*z)^2)[1]\n",
        "  h\n",
        "}\n",
        "\n",
        "## with gradient and hessian\n",
        "results <- maxLik(logLik = ll,  grad = grad, \n",
        "            hess = hess, start = c(1, 1), x = x, z = z, method = \"NR\")\n",
        "\n",
        "summary(results)"
      ],
      "metadata": {
        "id": "TfJylJZ_I2E4",
        "colab": {
          "base_uri": "https://localhost:8080/"
        },
        "outputId": "72f632d5-7e35-41ce-bf12-b8faf9949f62"
      },
      "execution_count": 43,
      "outputs": [
        {
          "output_type": "stream",
          "name": "stdout",
          "text": [
            "--------------------------------------------\n",
            "Maximum Likelihood estimation\n",
            "Newton-Raphson maximisation, 6 iterations\n",
            "Return code 1: gradient close to zero (gradtol)\n",
            "Log-Likelihood: -103702437 \n",
            "2  free parameters\n",
            "Estimates:\n",
            "     Estimate Std. error t value Pr(> t)\n",
            "[1,]   0.4236        Inf       0       1\n",
            "[2,]   0.4236        Inf       0       1\n",
            "--------------------------------------------\n"
          ]
        }
      ]
    }
  ]
}