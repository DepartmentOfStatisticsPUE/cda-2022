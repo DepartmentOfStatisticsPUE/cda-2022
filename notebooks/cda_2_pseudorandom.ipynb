{
  "nbformat": 4,
  "nbformat_minor": 0,
  "metadata": {
    "colab": {
      "name": "cda-2-pseudorandom.ipynb",
      "provenance": [],
      "collapsed_sections": [],
      "authorship_tag": "ABX9TyM4OM68sF9NIsHUMMu3UJIY",
      "include_colab_link": true
    },
    "kernelspec": {
      "name": "python3",
      "display_name": "Python 3"
    },
    "language_info": {
      "name": "python"
    }
  },
  "cells": [
    {
      "cell_type": "markdown",
      "metadata": {
        "id": "view-in-github",
        "colab_type": "text"
      },
      "source": [
        "<a href=\"https://colab.research.google.com/github/DepartmentOfStatisticsPUE/cda-2022/blob/main/notebooks/cda_2_pseudorandom.ipynb\" target=\"_parent\"><img src=\"https://colab.research.google.com/assets/colab-badge.svg\" alt=\"Open In Colab\"/></a>"
      ]
    },
    {
      "cell_type": "markdown",
      "source": [
        "## Setup environment"
      ],
      "metadata": {
        "id": "z9KBFv1Y8jwP"
      }
    },
    {
      "cell_type": "markdown",
      "source": [
        "### Python libraries"
      ],
      "metadata": {
        "id": "NrGPFtgj8kz-"
      }
    },
    {
      "cell_type": "code",
      "execution_count": 1,
      "metadata": {
        "id": "_smU6Mdd8fJ1"
      },
      "outputs": [],
      "source": [
        "import scipy.stats as st\n",
        "import numpy as np\n",
        "import pandas as pd"
      ]
    },
    {
      "cell_type": "markdown",
      "source": [
        "## Setup R via Python"
      ],
      "metadata": {
        "id": "LhBSXLYP8sew"
      }
    },
    {
      "cell_type": "code",
      "source": [
        "%load_ext rpy2.ipython"
      ],
      "metadata": {
        "id": "O2nOtt8D8oS0"
      },
      "execution_count": 2,
      "outputs": []
    },
    {
      "cell_type": "markdown",
      "source": [
        "## Setup Julia via Python"
      ],
      "metadata": {
        "id": "j2SpckMx8xgo"
      }
    },
    {
      "cell_type": "code",
      "source": [
        "%%bash\n",
        "wget https://julialang-s3.julialang.org/bin/linux/x64/1.7/julia-1.7.2-linux-x86_64.tar.gz\n",
        "tar zxvf julia-1.7.2-linux-x86_64.tar.gz\n",
        "## pythons module\n",
        "pip install julia"
      ],
      "metadata": {
        "id": "nIwGu7sT8umU"
      },
      "execution_count": null,
      "outputs": []
    },
    {
      "cell_type": "markdown",
      "source": [
        "Install python's julia module and setup Julia"
      ],
      "metadata": {
        "id": "L4hd35-f86Fc"
      }
    },
    {
      "cell_type": "code",
      "source": [
        "import julia\n",
        "julia.install(julia = \"/content/julia-1.7.2/bin/julia\")\n",
        "from julia import Julia\n",
        "jl = Julia(runtime=\"/content/julia-1.7.2/bin/julia\",compiled_modules=False)\n",
        "%load_ext julia.magic"
      ],
      "metadata": {
        "colab": {
          "base_uri": "https://localhost:8080/"
        },
        "id": "j1isvHqb80P0",
        "outputId": "b2501e9c-7026-4a5e-e629-805c7ed2911c"
      },
      "execution_count": 4,
      "outputs": [
        {
          "output_type": "stream",
          "name": "stdout",
          "text": [
            "Initializing Julia interpreter. This may take some time...\n"
          ]
        },
        {
          "output_type": "stream",
          "name": "stderr",
          "text": [
            "/usr/local/lib/python3.7/dist-packages/julia/magic.py:166: UserWarning: Incompatible upstream libraries. Got ImportError: No module named 'prompt_toolkit.lexers'\n",
            "  warnings.warn(template.format(err))\n",
            "/usr/local/lib/python3.7/dist-packages/julia/magic.py:174: UserWarning: Incompatible upstream libraries. Got ImportError: cannot import name 'Completion' from 'IPython.core.completer' (/usr/local/lib/python3.7/dist-packages/IPython/core/completer.py)\n",
            "  warnings.warn(template.format(err))\n"
          ]
        }
      ]
    },
    {
      "cell_type": "markdown",
      "source": [
        "Install relevant Julia packages and load them"
      ],
      "metadata": {
        "id": "1RN87UKm82H0"
      }
    },
    {
      "cell_type": "code",
      "source": [
        "%%julia\n",
        "using Pkg\n",
        "Pkg.add(\"Distributions\")\n",
        "Pkg.add(\"DataFrames\")\n",
        "using Distributions\n",
        "using DataFrames\n",
        "using Random\n",
        "Pkg.status()"
      ],
      "metadata": {
        "colab": {
          "base_uri": "https://localhost:8080/"
        },
        "id": "gSgr5lvJ88cB",
        "outputId": "dc523013-d773-4b9b-90cb-939757eea93c"
      },
      "execution_count": 13,
      "outputs": [
        {
          "output_type": "stream",
          "name": "stderr",
          "text": [
            "   Resolving package versions...\n",
            "  No Changes to `~/.julia/environments/v1.7/Project.toml`\n",
            "  No Changes to `~/.julia/environments/v1.7/Manifest.toml`\n",
            "   Resolving package versions...\n",
            "  No Changes to `~/.julia/environments/v1.7/Project.toml`\n",
            "  No Changes to `~/.julia/environments/v1.7/Manifest.toml`\n"
          ]
        },
        {
          "output_type": "stream",
          "name": "stdout",
          "text": [
            "      Status `~/.julia/environments/v1.7/Project.toml`\n",
            "  [a93c6f00] DataFrames v1.3.2\n",
            "  [31c24e10] Distributions v0.25.49\n",
            "  [438e738f] PyCall v1.93.1\n"
          ]
        }
      ]
    },
    {
      "cell_type": "markdown",
      "source": [
        "# Exercies\n",
        "\n",
        "Generate\n",
        "\n",
        "$$\n",
        "\\begin{cases}\n",
        "X_1 & \\sim N(4, 1.5)  \\\\\n",
        "X_2 & \\sim Exp(1) \\\\\n",
        "\\epsilon & \\sim N(0,1) \n",
        "\\end{cases}\n",
        "$$\n",
        "\n",
        "We will calculate the following variable\n",
        "\n",
        "$$\n",
        "Y = 2 + 2.5*X_1 - 3*X_2 + \\epsilon.\n",
        "$$\n",
        "\n",
        "Then, let's assume that probability of success is generated from the following function (it is called logit or logistic function)\n",
        "\n",
        "$$\n",
        "p = \\frac{\\exp(0.5 + 0.5*X_1 + 1*X_2)}{1 + \\exp(0.5 + 0.5*X_1 + 1*X_2)}\n",
        "$$\n",
        "\n",
        "or\n",
        "\n",
        "$$\n",
        "\\text{logit}(p) = 0.5 + 0.5*X_1 + 1*X_2\n",
        "$$\n",
        "\n",
        "where $X_1$ and $X_2$ are the same as above and then we generate variable $Y_2$ from Bernoulli distribution with $p$ as a parameter\n",
        "\n",
        "$$\n",
        "Y_2 \\sim \\text{Bern}(p)\n",
        "$$\n",
        "\n",
        "\n"
      ],
      "metadata": {
        "id": "tpkNF6Ox9GCH"
      }
    },
    {
      "cell_type": "markdown",
      "source": [
        "## Solution in R"
      ],
      "metadata": {
        "id": "8hnt6Krc9hhN"
      }
    },
    {
      "cell_type": "code",
      "source": [
        "%%R\n",
        "set.seed(1)\n",
        "N <- 100000\n",
        "x1 <- rnorm(N, 4,  1.5) ## random variable from normal dist\n",
        "x2 <- rexp(N, 1) ## random variable from exp dist\n",
        "epsilon <- rnorm(N) ## random variable from normal dist\n",
        "y1 <- 2 + 2.5*x1 - 3*x2 + epsilon\n",
        "p <- exp(0.5 + 0.5*x1 + x2) / (1 + exp(0.5 + 0.5*x1 + x2))\n",
        "y2 <- rbinom(n = length(p), size = 1, prob = p)\n",
        "ex1 <- data.frame(x1,x2,y1,p, y2)\n",
        "head(ex1)"
      ],
      "metadata": {
        "colab": {
          "base_uri": "https://localhost:8080/"
        },
        "id": "-8D9FT_t9ahq",
        "outputId": "e01ac4fe-925e-4c93-dfdd-d481d59e8485"
      },
      "execution_count": 6,
      "outputs": [
        {
          "output_type": "stream",
          "name": "stdout",
          "text": [
            "        x1        x2        y1         p y2\n",
            "1 3.060319 0.5713136  8.068432 0.9309563  1\n",
            "2 4.275465 0.0508544 13.117475 0.9363498  1\n",
            "3 2.746557 0.3050659  7.945739 0.8982879  1\n",
            "4 6.392921 0.5102495 16.429954 0.9853233  1\n",
            "5 4.494262 0.9660488 11.839728 0.9761814  1\n",
            "6 2.769297 0.5253947  9.202053 0.9175900  1\n"
          ]
        }
      ]
    },
    {
      "cell_type": "markdown",
      "source": [
        "## Solution in Python"
      ],
      "metadata": {
        "id": "FyFP5D1H98q_"
      }
    },
    {
      "cell_type": "code",
      "source": [
        "np.random.seed(1)\n",
        "N = 100000\n",
        "x1 = st.norm(4,1.5).rvs(N)\n",
        "x2 = st.expon(1).rvs(N)\n",
        "epsilon = st.norm(0,1).rvs(N)\n",
        "y1 = 2 + 2.5*x1 - 3*x2 + epsilon\n",
        "p  = np.exp(0.5 + 0.5*x1 + 1*x2) / (1 + np.exp(0.5 + 0.5*x1 + 1*x2))\n",
        "y2 = st.bernoulli(p).rvs(N)\n",
        "ex1 = pd.DataFrame({\"x1\": x1, \"x2\": x2, \"y1\":y1,\"p\":p, \"y2\":y2})\n",
        "ex1.head()"
      ],
      "metadata": {
        "colab": {
          "base_uri": "https://localhost:8080/",
          "height": 206
        },
        "id": "6kCV_C6d-PLH",
        "outputId": "70e0c57f-63a7-4292-e96a-2528dae8dda7"
      },
      "execution_count": 7,
      "outputs": [
        {
          "output_type": "execute_result",
          "data": {
            "text/html": [
              "\n",
              "  <div id=\"df-cf804ba8-d70e-40e8-ab45-b5eeb0d1a3fc\">\n",
              "    <div class=\"colab-df-container\">\n",
              "      <div>\n",
              "<style scoped>\n",
              "    .dataframe tbody tr th:only-of-type {\n",
              "        vertical-align: middle;\n",
              "    }\n",
              "\n",
              "    .dataframe tbody tr th {\n",
              "        vertical-align: top;\n",
              "    }\n",
              "\n",
              "    .dataframe thead th {\n",
              "        text-align: right;\n",
              "    }\n",
              "</style>\n",
              "<table border=\"1\" class=\"dataframe\">\n",
              "  <thead>\n",
              "    <tr style=\"text-align: right;\">\n",
              "      <th></th>\n",
              "      <th>x1</th>\n",
              "      <th>x2</th>\n",
              "      <th>y1</th>\n",
              "      <th>p</th>\n",
              "      <th>y2</th>\n",
              "    </tr>\n",
              "  </thead>\n",
              "  <tbody>\n",
              "    <tr>\n",
              "      <th>0</th>\n",
              "      <td>6.436518</td>\n",
              "      <td>1.762151</td>\n",
              "      <td>14.325169</td>\n",
              "      <td>0.995850</td>\n",
              "      <td>1</td>\n",
              "    </tr>\n",
              "    <tr>\n",
              "      <th>1</th>\n",
              "      <td>3.082365</td>\n",
              "      <td>1.471667</td>\n",
              "      <td>4.882759</td>\n",
              "      <td>0.971051</td>\n",
              "      <td>1</td>\n",
              "    </tr>\n",
              "    <tr>\n",
              "      <th>2</th>\n",
              "      <td>3.207742</td>\n",
              "      <td>2.251618</td>\n",
              "      <td>2.569307</td>\n",
              "      <td>0.987327</td>\n",
              "      <td>1</td>\n",
              "    </tr>\n",
              "    <tr>\n",
              "      <th>3</th>\n",
              "      <td>2.390547</td>\n",
              "      <td>1.034158</td>\n",
              "      <td>5.507306</td>\n",
              "      <td>0.938741</td>\n",
              "      <td>1</td>\n",
              "    </tr>\n",
              "    <tr>\n",
              "      <th>4</th>\n",
              "      <td>5.298111</td>\n",
              "      <td>1.896112</td>\n",
              "      <td>8.712747</td>\n",
              "      <td>0.993601</td>\n",
              "      <td>1</td>\n",
              "    </tr>\n",
              "  </tbody>\n",
              "</table>\n",
              "</div>\n",
              "      <button class=\"colab-df-convert\" onclick=\"convertToInteractive('df-cf804ba8-d70e-40e8-ab45-b5eeb0d1a3fc')\"\n",
              "              title=\"Convert this dataframe to an interactive table.\"\n",
              "              style=\"display:none;\">\n",
              "        \n",
              "  <svg xmlns=\"http://www.w3.org/2000/svg\" height=\"24px\"viewBox=\"0 0 24 24\"\n",
              "       width=\"24px\">\n",
              "    <path d=\"M0 0h24v24H0V0z\" fill=\"none\"/>\n",
              "    <path d=\"M18.56 5.44l.94 2.06.94-2.06 2.06-.94-2.06-.94-.94-2.06-.94 2.06-2.06.94zm-11 1L8.5 8.5l.94-2.06 2.06-.94-2.06-.94L8.5 2.5l-.94 2.06-2.06.94zm10 10l.94 2.06.94-2.06 2.06-.94-2.06-.94-.94-2.06-.94 2.06-2.06.94z\"/><path d=\"M17.41 7.96l-1.37-1.37c-.4-.4-.92-.59-1.43-.59-.52 0-1.04.2-1.43.59L10.3 9.45l-7.72 7.72c-.78.78-.78 2.05 0 2.83L4 21.41c.39.39.9.59 1.41.59.51 0 1.02-.2 1.41-.59l7.78-7.78 2.81-2.81c.8-.78.8-2.07 0-2.86zM5.41 20L4 18.59l7.72-7.72 1.47 1.35L5.41 20z\"/>\n",
              "  </svg>\n",
              "      </button>\n",
              "      \n",
              "  <style>\n",
              "    .colab-df-container {\n",
              "      display:flex;\n",
              "      flex-wrap:wrap;\n",
              "      gap: 12px;\n",
              "    }\n",
              "\n",
              "    .colab-df-convert {\n",
              "      background-color: #E8F0FE;\n",
              "      border: none;\n",
              "      border-radius: 50%;\n",
              "      cursor: pointer;\n",
              "      display: none;\n",
              "      fill: #1967D2;\n",
              "      height: 32px;\n",
              "      padding: 0 0 0 0;\n",
              "      width: 32px;\n",
              "    }\n",
              "\n",
              "    .colab-df-convert:hover {\n",
              "      background-color: #E2EBFA;\n",
              "      box-shadow: 0px 1px 2px rgba(60, 64, 67, 0.3), 0px 1px 3px 1px rgba(60, 64, 67, 0.15);\n",
              "      fill: #174EA6;\n",
              "    }\n",
              "\n",
              "    [theme=dark] .colab-df-convert {\n",
              "      background-color: #3B4455;\n",
              "      fill: #D2E3FC;\n",
              "    }\n",
              "\n",
              "    [theme=dark] .colab-df-convert:hover {\n",
              "      background-color: #434B5C;\n",
              "      box-shadow: 0px 1px 3px 1px rgba(0, 0, 0, 0.15);\n",
              "      filter: drop-shadow(0px 1px 2px rgba(0, 0, 0, 0.3));\n",
              "      fill: #FFFFFF;\n",
              "    }\n",
              "  </style>\n",
              "\n",
              "      <script>\n",
              "        const buttonEl =\n",
              "          document.querySelector('#df-cf804ba8-d70e-40e8-ab45-b5eeb0d1a3fc button.colab-df-convert');\n",
              "        buttonEl.style.display =\n",
              "          google.colab.kernel.accessAllowed ? 'block' : 'none';\n",
              "\n",
              "        async function convertToInteractive(key) {\n",
              "          const element = document.querySelector('#df-cf804ba8-d70e-40e8-ab45-b5eeb0d1a3fc');\n",
              "          const dataTable =\n",
              "            await google.colab.kernel.invokeFunction('convertToInteractive',\n",
              "                                                     [key], {});\n",
              "          if (!dataTable) return;\n",
              "\n",
              "          const docLinkHtml = 'Like what you see? Visit the ' +\n",
              "            '<a target=\"_blank\" href=https://colab.research.google.com/notebooks/data_table.ipynb>data table notebook</a>'\n",
              "            + ' to learn more about interactive tables.';\n",
              "          element.innerHTML = '';\n",
              "          dataTable['output_type'] = 'display_data';\n",
              "          await google.colab.output.renderOutput(dataTable, element);\n",
              "          const docLink = document.createElement('div');\n",
              "          docLink.innerHTML = docLinkHtml;\n",
              "          element.appendChild(docLink);\n",
              "        }\n",
              "      </script>\n",
              "    </div>\n",
              "  </div>\n",
              "  "
            ],
            "text/plain": [
              "         x1        x2         y1         p  y2\n",
              "0  6.436518  1.762151  14.325169  0.995850   1\n",
              "1  3.082365  1.471667   4.882759  0.971051   1\n",
              "2  3.207742  2.251618   2.569307  0.987327   1\n",
              "3  2.390547  1.034158   5.507306  0.938741   1\n",
              "4  5.298111  1.896112   8.712747  0.993601   1"
            ]
          },
          "metadata": {},
          "execution_count": 7
        }
      ]
    },
    {
      "cell_type": "markdown",
      "source": [
        "## Solution in Julia"
      ],
      "metadata": {
        "id": "BFi-E592AndK"
      }
    },
    {
      "cell_type": "code",
      "source": [
        "%%julia\n",
        "Random.seed!(1)\n",
        "N = 100_000\n",
        "x1 = rand(Normal(4,1.5), N)\n",
        "x2 = rand(Exponential(1), N)\n",
        "epsilon = randn(N)\n",
        "y1 = @. 2 + 2.5*x1 - 3*x2 + epsilon\n",
        "p  = @. exp(0.5 + 0.5*x1 + 1*x2) / (1 + exp(0.5 + 0.5*x1 + 1*x2))\n",
        "y2 = rand.(Bernoulli.(p), 1)\n",
        "y2 = vcat(y2...)\n",
        "ex1 = DataFrame(x1=x1,x2=x2,y1=y1,p=p,y2=y2)\n",
        "first(ex1,5)"
      ],
      "metadata": {
        "colab": {
          "base_uri": "https://localhost:8080/"
        },
        "id": "_mGy6Eg-9-pd",
        "outputId": "e007e7cc-de75-4113-d7d0-4315862d42ce"
      },
      "execution_count": 8,
      "outputs": [
        {
          "output_type": "execute_result",
          "data": {
            "text/plain": [
              "<PyCall.jlwrap 5×5 DataFrame\n",
              " Row │ x1       x2        y1        p         y2\n",
              "     │ Float64  Float64   Float64   Float64   Bool\n",
              "─────┼──────────────────────────────────────────────\n",
              "   1 │ 3.89413  2.04521    4.73037  0.988929  false\n",
              "   2 │ 4.79722  0.413854  12.2767   0.964854   true\n",
              "   3 │ 2.78972  0.181897   7.77235  0.888624   true\n",
              "   4 │ 7.68549  0.697491  18.6629   0.993569   true\n",
              "   5 │ 5.74731  0.807885  14.9342   0.984955   true>"
            ]
          },
          "metadata": {},
          "execution_count": 8
        }
      ]
    }
  ]
}