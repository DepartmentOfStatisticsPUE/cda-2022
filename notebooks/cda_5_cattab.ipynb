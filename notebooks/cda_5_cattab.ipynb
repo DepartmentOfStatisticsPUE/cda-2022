{
  "nbformat": 4,
  "nbformat_minor": 0,
  "metadata": {
    "colab": {
      "name": "cda_5_cattab.ipynb",
      "provenance": [],
      "collapsed_sections": [],
      "authorship_tag": "ABX9TyMF566L+JOo3EIOz9nPJZSx",
      "include_colab_link": true
    },
    "kernelspec": {
      "name": "python3",
      "display_name": "Python 3"
    },
    "language_info": {
      "name": "python"
    }
  },
  "cells": [
    {
      "cell_type": "markdown",
      "metadata": {
        "id": "view-in-github",
        "colab_type": "text"
      },
      "source": [
        "<a href=\"https://colab.research.google.com/github/DepartmentOfStatisticsPUE/cda-2022/blob/main/notebooks/cda_5_cattab.ipynb\" target=\"_parent\"><img src=\"https://colab.research.google.com/assets/colab-badge.svg\" alt=\"Open In Colab\"/></a>"
      ]
    },
    {
      "cell_type": "markdown",
      "source": [
        "## Installation of required modules, packages etc."
      ],
      "metadata": {
        "id": "cNRTCph7IWs_"
      }
    },
    {
      "cell_type": "code",
      "source": [
        "!pip install pingouin "
      ],
      "metadata": {
        "id": "ocNKc6TiEHpO"
      },
      "execution_count": null,
      "outputs": []
    },
    {
      "cell_type": "code",
      "execution_count": 10,
      "metadata": {
        "id": "OHQn9TRMDtnW"
      },
      "outputs": [],
      "source": [
        "import numpy as np\n",
        "import scipy.stats as st\n",
        "import pingouin as pg\n",
        "import pandas as pd"
      ]
    },
    {
      "cell_type": "code",
      "source": [
        "%load_ext rpy2.ipython"
      ],
      "metadata": {
        "id": "M5iao4xaJNrY"
      },
      "execution_count": 44,
      "outputs": []
    },
    {
      "cell_type": "code",
      "source": [
        "%%R\n",
        "install.packages(\"vcd\")"
      ],
      "metadata": {
        "id": "SsJbJvCjJRfr"
      },
      "execution_count": null,
      "outputs": []
    },
    {
      "cell_type": "code",
      "source": [
        "%%R\n",
        "library(vcd)"
      ],
      "metadata": {
        "colab": {
          "base_uri": "https://localhost:8080/"
        },
        "id": "gSo9m-77JVEk",
        "outputId": "5438ffed-92bf-49bd-e8d3-0dbd53691a60"
      },
      "execution_count": 46,
      "outputs": [
        {
          "output_type": "stream",
          "name": "stderr",
          "text": [
            "R[write to console]: Loading required package: grid\n",
            "\n"
          ]
        }
      ]
    },
    {
      "cell_type": "code",
      "source": [
        "%%bash\n",
        "wget -q https://julialang-s3.julialang.org/bin/linux/x64/1.7/julia-1.7.2-linux-x86_64.tar.gz\n",
        "tar zxvf julia-1.7.2-linux-x86_64.tar.gz\n",
        "## python's module\n",
        "pip install julia"
      ],
      "metadata": {
        "id": "yflVT2cjORc-"
      },
      "execution_count": null,
      "outputs": []
    },
    {
      "cell_type": "code",
      "source": [
        "import julia\n",
        "julia.install(julia = \"/content/julia-1.7.2/bin/julia\")\n",
        "from julia import Julia\n",
        "jl = Julia(runtime=\"/content/julia-1.7.2/bin/julia\",compiled_modules=False)\n",
        "%load_ext julia.magic"
      ],
      "metadata": {
        "colab": {
          "base_uri": "https://localhost:8080/"
        },
        "id": "_qPdvfCaOTZ6",
        "outputId": "3d53aa83-e06e-4d00-b515-00d102addcc6"
      },
      "execution_count": 91,
      "outputs": [
        {
          "output_type": "stream",
          "name": "stderr",
          "text": [
            "\n",
            "Precompiling PyCall...\n",
            "Precompiling PyCall... DONE\n",
            "PyCall is installed and built successfully.\n",
            "\n",
            "PyCall is setup for non-default Julia runtime (executable) `/content/julia-1.7.2/bin/julia`.\n",
            "To use this Julia runtime, PyJulia has to be initialized first by\n",
            "    from julia import Julia\n",
            "    Julia(runtime='/content/julia-1.7.2/bin/julia')\n"
          ]
        },
        {
          "output_type": "stream",
          "name": "stdout",
          "text": [
            "Initializing Julia interpreter. This may take some time...\n"
          ]
        },
        {
          "output_type": "stream",
          "name": "stderr",
          "text": [
            "/usr/local/lib/python3.7/dist-packages/julia/magic.py:166: UserWarning: Incompatible upstream libraries. Got ImportError: No module named 'prompt_toolkit.lexers'\n",
            "  warnings.warn(template.format(err))\n",
            "/usr/local/lib/python3.7/dist-packages/julia/magic.py:174: UserWarning: Incompatible upstream libraries. Got ImportError: cannot import name 'Completion' from 'IPython.core.completer' (/usr/local/lib/python3.7/dist-packages/IPython/core/completer.py)\n",
            "  warnings.warn(template.format(err))\n"
          ]
        }
      ]
    },
    {
      "cell_type": "code",
      "source": [
        "%%julia\n",
        "using Pkg\n",
        "Pkg.add(\"Distributions\")\n",
        "Pkg.add(\"HypothesisTests\")\n",
        "Pkg.add(\"StatsBase\")\n",
        "Pkg.add(\"DataFrames\")"
      ],
      "metadata": {
        "id": "sUGXgp6lOVJg"
      },
      "execution_count": null,
      "outputs": []
    },
    {
      "cell_type": "code",
      "source": [
        "%%julia\n",
        "using Random\n",
        "using Distributions\n",
        "using HypothesisTests\n",
        "using StatsBase\n",
        "using DataFrames"
      ],
      "metadata": {
        "id": "llXvtFQTOdce"
      },
      "execution_count": 94,
      "outputs": []
    },
    {
      "cell_type": "markdown",
      "source": [
        "# 1. Contingency tables -- $\\chi^2$ test and Cramer's V correlation coefficient"
      ],
      "metadata": {
        "id": "TMKSCpvDD9zi"
      }
    },
    {
      "cell_type": "markdown",
      "source": [
        "### R solution"
      ],
      "metadata": {
        "id": "udYj5i3MJZc3"
      }
    },
    {
      "cell_type": "code",
      "source": [
        "%%R\n",
        "data = matrix(data = c(762, 327, 468, 484, 239, 477),\n",
        "              nrow = 2, ncol = 3, byrow = T,\n",
        "              dimnames = list(c(\"F\", \"M\"), c('demo', 'ind', 'rep')))\n",
        "data"
      ],
      "metadata": {
        "colab": {
          "base_uri": "https://localhost:8080/"
        },
        "id": "E9RI5eMVJY-1",
        "outputId": "4e5d4da7-a316-41a6-a984-964ddab1779a"
      },
      "execution_count": 68,
      "outputs": [
        {
          "output_type": "stream",
          "name": "stdout",
          "text": [
            "  demo ind rep\n",
            "F  762 327 468\n",
            "M  484 239 477\n"
          ]
        }
      ]
    },
    {
      "cell_type": "code",
      "source": [
        "%%R\n",
        "chisq.test(data)"
      ],
      "metadata": {
        "colab": {
          "base_uri": "https://localhost:8080/"
        },
        "id": "KkWFbxkSJrNx",
        "outputId": "3fc22163-6145-44f6-bc6c-22801d248e28"
      },
      "execution_count": 50,
      "outputs": [
        {
          "output_type": "stream",
          "name": "stdout",
          "text": [
            "\n",
            "\tPearson's Chi-squared test\n",
            "\n",
            "data:  data\n",
            "X-squared = 30.07, df = 2, p-value = 2.954e-07\n",
            "\n"
          ]
        }
      ]
    },
    {
      "cell_type": "code",
      "source": [
        "%%R\n",
        "assocstats(data)"
      ],
      "metadata": {
        "colab": {
          "base_uri": "https://localhost:8080/"
        },
        "id": "AnSI6_OUJubV",
        "outputId": "3f9c9153-ec50-4b69-848f-0b87d97a8efe"
      },
      "execution_count": 51,
      "outputs": [
        {
          "output_type": "stream",
          "name": "stdout",
          "text": [
            "                    X^2 df   P(> X^2)\n",
            "Likelihood Ratio 30.017  2 3.0336e-07\n",
            "Pearson          30.070  2 2.9536e-07\n",
            "\n",
            "Phi-Coefficient   : NA \n",
            "Contingency Coeff.: 0.104 \n",
            "Cramer's V        : 0.104 \n"
          ]
        }
      ]
    },
    {
      "cell_type": "markdown",
      "source": [
        "Using xtabs / table"
      ],
      "metadata": {
        "id": "Id6nzpz2Jy-Q"
      }
    },
    {
      "cell_type": "code",
      "source": [
        "%%R\n",
        "summary(as.table(data))"
      ],
      "metadata": {
        "colab": {
          "base_uri": "https://localhost:8080/"
        },
        "id": "St2aMrcxJ2PA",
        "outputId": "d2aab6d8-28b2-40c8-ef82-b6ee8281c87b"
      },
      "execution_count": 54,
      "outputs": [
        {
          "output_type": "stream",
          "name": "stdout",
          "text": [
            "Number of cases in table: 2757 \n",
            "Number of factors: 2 \n",
            "Test for independence of all factors:\n",
            "\tChisq = 30.07, df = 2, p-value = 2.954e-07\n"
          ]
        }
      ]
    },
    {
      "cell_type": "code",
      "source": [
        "%%R\n",
        "data <- as.data.frame(data)\n",
        "data$sex <- rownames(data)\n",
        "data_long <- reshape(data, \n",
        "                     direction = \"long\",\n",
        "                     varying = list(1:3),\n",
        "                     v.names = \"counts\")\n",
        "\n",
        "xtabs(counts ~ sex + time, data_long) |> summary()"
      ],
      "metadata": {
        "colab": {
          "base_uri": "https://localhost:8080/"
        },
        "id": "Urvfb4hDJ6Qw",
        "outputId": "a0fb7a7d-79d9-44c6-e65d-44fbedb51635"
      },
      "execution_count": 89,
      "outputs": [
        {
          "output_type": "stream",
          "name": "stdout",
          "text": [
            "Call: xtabs(formula = counts ~ sex + time, data = data_long)\n",
            "Number of cases in table: 2757 \n",
            "Number of factors: 2 \n",
            "Test for independence of all factors:\n",
            "\tChisq = 30.07, df = 2, p-value = 2.954e-07\n"
          ]
        }
      ]
    },
    {
      "cell_type": "markdown",
      "source": [
        "### Python solution"
      ],
      "metadata": {
        "id": "RcFDXRFZJXf6"
      }
    },
    {
      "cell_type": "code",
      "source": [
        "data = np.array([[ 762, 327, 468], [484, 239, 477]])\n",
        "data"
      ],
      "metadata": {
        "colab": {
          "base_uri": "https://localhost:8080/"
        },
        "id": "a6onwScKEfMM",
        "outputId": "9624a55e-eaff-4ccc-ccba-3dc5443508af"
      },
      "execution_count": 2,
      "outputs": [
        {
          "output_type": "execute_result",
          "data": {
            "text/plain": [
              "array([[762, 327, 468],\n",
              "       [484, 239, 477]])"
            ]
          },
          "metadata": {},
          "execution_count": 2
        }
      ]
    },
    {
      "cell_type": "code",
      "source": [
        "st.chi2_contingency(data)"
      ],
      "metadata": {
        "colab": {
          "base_uri": "https://localhost:8080/"
        },
        "id": "i3OYEzd7EtWK",
        "outputId": "9a60a551-0583-4732-94f0-f486b999ee25"
      },
      "execution_count": 3,
      "outputs": [
        {
          "output_type": "execute_result",
          "data": {
            "text/plain": [
              "(30.070149095754672,\n",
              " 2.9535891832117595e-07,\n",
              " 2,\n",
              " array([[703.67138194, 319.64526659, 533.68335147],\n",
              "        [542.32861806, 246.35473341, 411.31664853]]))"
            ]
          },
          "metadata": {},
          "execution_count": 3
        }
      ]
    },
    {
      "cell_type": "markdown",
      "source": [
        "Pingouin requires a `pd.DataFrame` to work."
      ],
      "metadata": {
        "id": "X5KXcHrJFskX"
      }
    },
    {
      "cell_type": "code",
      "source": [
        "data_df = pd.DataFrame(data, columns = ['demo', 'ind', 'rep'], index = ['F', 'M'])\n",
        "\n",
        "data_long = (data_df\n",
        "  .stack()\n",
        "  .reset_index()\n",
        "  .rename(columns={'level_0' : 'sex', \n",
        "                   'level_1' : 'party',\n",
        "                   0 : 'counts'})\n",
        "  )\n",
        "\n",
        "data_long = data_long.reindex(data_long.index.repeat(data_long.counts))\n",
        "\n",
        "pg.chi2_independence(data_long, x = \"sex\", y = \"party\")"
      ],
      "metadata": {
        "colab": {
          "base_uri": "https://localhost:8080/"
        },
        "id": "HJpVqJ8fFqHI",
        "outputId": "aafdb875-0750-4175-fa99-df95e239322e"
      },
      "execution_count": 43,
      "outputs": [
        {
          "output_type": "execute_result",
          "data": {
            "text/plain": [
              "(party        demo         ind         rep\n",
              " sex                                      \n",
              " F      703.671382  319.645267  533.683351\n",
              " M      542.328618  246.354733  411.316649, party  demo  ind  rep\n",
              " sex                  \n",
              " F       762  327  468\n",
              " M       484  239  477,                  test    lambda       chi2  dof          pval    cramer  \\\n",
              " 0             pearson  1.000000  30.070149  2.0  2.953589e-07  0.104436   \n",
              " 1        cressie-read  0.666667  30.043391  2.0  2.993371e-07  0.104389   \n",
              " 2      log-likelihood  0.000000  30.016693  2.0  3.033598e-07  0.104343   \n",
              " 3       freeman-tukey -0.500000  30.020001  2.0  3.028584e-07  0.104349   \n",
              " 4  mod-log-likelihood -1.000000  30.043220  2.0  2.993627e-07  0.104389   \n",
              " 5              neyman -2.000000  30.149263  2.0  2.839035e-07  0.104573   \n",
              " \n",
              "       power  \n",
              " 0  0.999239  \n",
              " 1  0.999233  \n",
              " 2  0.999227  \n",
              " 3  0.999227  \n",
              " 4  0.999233  \n",
              " 5  0.999258  )"
            ]
          },
          "metadata": {},
          "execution_count": 43
        }
      ]
    },
    {
      "cell_type": "markdown",
      "source": [
        "### Julia solution"
      ],
      "metadata": {
        "id": "xgQGoArIMaOi"
      }
    },
    {
      "cell_type": "code",
      "source": [
        "%%julia\n",
        "data = [762 327 468; 484 239 477]\n",
        "res = ChisqTest(data)"
      ],
      "metadata": {
        "colab": {
          "base_uri": "https://localhost:8080/"
        },
        "id": "Ge9By3e7Mbi8",
        "outputId": "05bce54e-fc11-4694-8e74-0142f9b0523d"
      },
      "execution_count": 102,
      "outputs": [
        {
          "output_type": "execute_result",
          "data": {
            "text/plain": [
              "<PyCall.jlwrap Pearson's Chi-square Test\n",
              "-------------------------\n",
              "Population details:\n",
              "    parameter of interest:   Multinomial Probabilities\n",
              "    value under h_0:         [0.255231, 0.19671, 0.11594, 0.0893561, 0.193574, 0.14919]\n",
              "    point estimate:          [0.276387, 0.175553, 0.118607, 0.0866884, 0.16975, 0.173014]\n",
              "    95% confidence interval: [(0.2545, 0.2994), (0.1573, 0.1955), (0.1033, 0.1358), (0.07357, 0.1019), (0.1517, 0.1894), (0.1548, 0.1928)]\n",
              "\n",
              "Test summary:\n",
              "    outcome with 95% confidence: reject h_0\n",
              "    one-sided p-value:           <1e-06\n",
              "\n",
              "Details:\n",
              "    Sample size:        2757\n",
              "    statistic:          30.070149095754687\n",
              "    degrees of freedom: 2\n",
              "    residuals:          [2.19886, -2.50467, 0.41137, -0.468583, -2.84324, 3.23867]\n",
              "    std. residuals:     [4.50205, -4.50205, 0.699452, -0.699452, -5.31595, 5.31595]\n",
              ">"
            ]
          },
          "metadata": {},
          "execution_count": 102
        }
      ]
    },
    {
      "cell_type": "code",
      "source": [
        "## Cramer's V\n",
        "%%julia\n",
        "sqrt(res.stat / sum(data))"
      ],
      "metadata": {
        "colab": {
          "base_uri": "https://localhost:8080/"
        },
        "id": "N03FKjmAQA34",
        "outputId": "304b3a27-0c60-4917-988b-c34486333bf4"
      },
      "execution_count": 108,
      "outputs": [
        {
          "output_type": "execute_result",
          "data": {
            "text/plain": [
              "0.1044358023564678"
            ]
          },
          "metadata": {},
          "execution_count": 108
        }
      ]
    },
    {
      "cell_type": "markdown",
      "source": [
        "# 2. Capture-recapture\n"
      ],
      "metadata": {
        "id": "qWtd40noMcDp"
      }
    },
    {
      "cell_type": "markdown",
      "source": [
        "### R solution"
      ],
      "metadata": {
        "id": "ysQ-PaC7Olf9"
      }
    },
    {
      "cell_type": "code",
      "source": [
        "%%R\n",
        "\n",
        "## size\n",
        "n_1 <- 39862\n",
        "n_2 <- 1819\n",
        "n_11 <- 374\n",
        "\n",
        "## population\n",
        "N <- n_1*n_2/n_11 \n",
        "\n",
        "## variance and std. error\n",
        "varN <- n_1^2*n_2*(n_2-n_11)/n_11^3\n",
        "seN <- sqrt(varN)\n",
        "\n",
        "## confidence interval\n",
        "z95 <- qnorm(1-0.05/2)\n",
        "cat(\"95% CI :\", N-z95*seN, N+z95*seN)"
      ],
      "metadata": {
        "colab": {
          "base_uri": "https://localhost:8080/"
        },
        "id": "dJYLdSkkMd5f",
        "outputId": "d795f99f-e13b-4b95-eef4-dba025151b59"
      },
      "execution_count": 109,
      "outputs": [
        {
          "output_type": "stream",
          "name": "stdout",
          "text": [
            "95% CI : 176361.7 211386.8"
          ]
        }
      ]
    },
    {
      "cell_type": "code",
      "source": [
        "%%R\n",
        "\n",
        "set.seed(123)\n",
        "## calculate p vector\n",
        "p <- c(n_11, n_1-n_11, n_2 - n_11, \n",
        "      round(N) - (n_1 + n_2 - n_11))/round(N)\n",
        "## 500 bootstrap samples\n",
        "b_samples <- rmultinom(n = 500, size = round(N), prob = p)\n",
        "## estimate N_b and standard error\n",
        "N_b <- (b_samples[1,]+b_samples[2,])*\n",
        "       (b_samples[1,]+b_samples[3,])/b_samples[1,]\n",
        "seN_b <- sd(N_b)\n",
        "\n",
        "## confidence interval\n",
        "cat(\"95% CI :\", quantile(N_b, c(0.025, 0.975)))"
      ],
      "metadata": {
        "colab": {
          "base_uri": "https://localhost:8080/"
        },
        "id": "gA-dsgrOOs_P",
        "outputId": "98c5e126-1cc4-4ec4-c0f5-a9c4637f131b"
      },
      "execution_count": 119,
      "outputs": [
        {
          "output_type": "stream",
          "name": "stdout",
          "text": [
            "95% CI : 177125.8 212115.5"
          ]
        }
      ]
    },
    {
      "cell_type": "markdown",
      "source": [
        "### Python solution\n"
      ],
      "metadata": {
        "id": "EZP8PJcyOnbZ"
      }
    },
    {
      "cell_type": "code",
      "source": [
        "## size\n",
        "n_1 = 39862\n",
        "n_2 = 1819\n",
        "n_11 = 374\n",
        "\n",
        "## population\n",
        "N = n_1*n_2/n_11 \n",
        "\n",
        "## variance and std. error\n",
        "varN = n_1**2*n_2*(n_2-n_11)/n_11**3\n",
        "seN = np.sqrt(varN)\n",
        "\n",
        "## confidence interval\n",
        "z95 = st.norm.ppf(1-0.05/2)\n",
        "\n",
        "N-z95*seN, N+z95*seN"
      ],
      "metadata": {
        "colab": {
          "base_uri": "https://localhost:8080/"
        },
        "id": "uWMuFiCvQ9Zi",
        "outputId": "c2de8d81-a0a9-4563-b080-6768d8af5f5e"
      },
      "execution_count": 118,
      "outputs": [
        {
          "output_type": "execute_result",
          "data": {
            "text/plain": [
              "(176361.6962197761, 211386.84923476938)"
            ]
          },
          "metadata": {},
          "execution_count": 118
        }
      ]
    },
    {
      "cell_type": "code",
      "source": [
        "np.random.seed(1)\n",
        "## calculate p vector\n",
        "p = np.array([n_11, n_1-n_11, n_2 - n_11, round(N) - np.sum(n_1 + n_2 - n_11)]) / round(N)\n",
        "p\n",
        "## 500 bootstrap samples\n",
        "b_samples = st.multinomial(n = round(N), p = p).rvs(500)\n",
        "## estimate N_b and standard error\n",
        "N_b =  (b_samples[:,0]+b_samples[:,1])*(b_samples[:,0]+b_samples[:,2])/b_samples[:,0]\n",
        "seN_b = np.std(N_b)\n",
        "## confidence interval\n",
        "np.quantile(N_b, [0.025, 0.975])"
      ],
      "metadata": {
        "colab": {
          "base_uri": "https://localhost:8080/"
        },
        "id": "Eu3jWFr3Rl12",
        "outputId": "8fe04943-839e-4059-f284-ec1b2cc03bff"
      },
      "execution_count": 134,
      "outputs": [
        {
          "output_type": "execute_result",
          "data": {
            "text/plain": [
              "array([176652.21276063, 212446.08990597])"
            ]
          },
          "metadata": {},
          "execution_count": 134
        }
      ]
    },
    {
      "cell_type": "markdown",
      "source": [
        "### Julia solution"
      ],
      "metadata": {
        "id": "VIz3oxvkOp4n"
      }
    },
    {
      "cell_type": "code",
      "source": [
        "%%julia\n",
        "\n",
        "n_1 = 39862\n",
        "n_2 = 1819\n",
        "n_11 = 374\n",
        "\n",
        "## population\n",
        "N = n_1*n_2/n_11 \n",
        "\n",
        "## variance and std. error\n",
        "varN = n_1^2*n_2*(n_2-n_11)/n_11^3\n",
        "seN = sqrt(varN)\n",
        "\n",
        "## confidence interval\n",
        "z95 = quantile(Normal(), 1-0.05/2)\n",
        "[N-z95*seN, N+z95*seN]"
      ],
      "metadata": {
        "colab": {
          "base_uri": "https://localhost:8080/"
        },
        "id": "WEEinB3-SgWP",
        "outputId": "9e874e71-7daf-4c50-f2a9-b246e979c605"
      },
      "execution_count": 135,
      "outputs": [
        {
          "output_type": "execute_result",
          "data": {
            "text/plain": [
              "array([176361.69621978, 211386.84923477])"
            ]
          },
          "metadata": {},
          "execution_count": 135
        }
      ]
    },
    {
      "cell_type": "code",
      "source": [
        "%%julia\n",
        "\n",
        "Random.seed!(123)\n",
        "p = @. [n_11, n_1-n_11, n_2 - n_11,  N - sum(n_1 + n_2 - n_11)] / N\n",
        "\n",
        "d = rand(Multinomial(Int(round(N)), p), 500)\n",
        "N_b = @. (d[1,:] + d[2,:])*(d[1,:] + d[3,:]) / d[1,:]\n",
        "quantile(N_b, [0.025, 0.975])\n"
      ],
      "metadata": {
        "colab": {
          "base_uri": "https://localhost:8080/"
        },
        "id": "EXqYogxmSjLD",
        "outputId": "055b57b9-f6f0-4a2f-f127-8812fee63d54"
      },
      "execution_count": 137,
      "outputs": [
        {
          "output_type": "execute_result",
          "data": {
            "text/plain": [
              "array([179716.59743744, 212716.56941803])"
            ]
          },
          "metadata": {},
          "execution_count": 137
        }
      ]
    }
  ]
}