{
  "nbformat": 4,
  "nbformat_minor": 0,
  "metadata": {
    "colab": {
      "name": "cda_6_ca.ipynb",
      "provenance": [],
      "collapsed_sections": [],
      "authorship_tag": "ABX9TyOPNox3DNldL/pBI7Ph6OFW",
      "include_colab_link": true
    },
    "kernelspec": {
      "name": "python3",
      "display_name": "Python 3"
    },
    "language_info": {
      "name": "python"
    }
  },
  "cells": [
    {
      "cell_type": "markdown",
      "metadata": {
        "id": "view-in-github",
        "colab_type": "text"
      },
      "source": [
        "<a href=\"https://colab.research.google.com/github/DepartmentOfStatisticsPUE/cda-2022/blob/main/notebooks/cda_6_ca.ipynb\" target=\"_parent\"><img src=\"https://colab.research.google.com/assets/colab-badge.svg\" alt=\"Open In Colab\"/></a>"
      ]
    },
    {
      "cell_type": "markdown",
      "source": [
        "# Setup "
      ],
      "metadata": {
        "id": "0LaClgAkko9j"
      }
    },
    {
      "cell_type": "markdown",
      "source": [
        "Setup Python"
      ],
      "metadata": {
        "id": "Cqf19-3FnVZF"
      }
    },
    {
      "cell_type": "code",
      "source": [
        "## we need to install github version of this package\n",
        "!pip install git+https://github.com/MaxHalford/Prince"
      ],
      "metadata": {
        "id": "oh-IiMsjyFf3"
      },
      "execution_count": null,
      "outputs": []
    },
    {
      "cell_type": "code",
      "execution_count": 2,
      "metadata": {
        "id": "TqU6LGKEx8Z2"
      },
      "outputs": [],
      "source": [
        "import pandas as pd\n",
        "import prince "
      ]
    },
    {
      "cell_type": "markdown",
      "source": [
        "Setup R"
      ],
      "metadata": {
        "id": "Zg13ej91nTj3"
      }
    },
    {
      "cell_type": "code",
      "source": [
        "%load_ext rpy2.ipython"
      ],
      "metadata": {
        "id": "e9a24eQDnQUk"
      },
      "execution_count": 20,
      "outputs": []
    },
    {
      "cell_type": "code",
      "source": [
        "%%R\n",
        "install.packages(\"ca\")"
      ],
      "metadata": {
        "id": "GbOy7NUmnS3q"
      },
      "execution_count": null,
      "outputs": []
    },
    {
      "cell_type": "code",
      "source": [
        "%%R\n",
        "library(ca)"
      ],
      "metadata": {
        "id": "laPANJeOnc6B"
      },
      "execution_count": 22,
      "outputs": []
    },
    {
      "cell_type": "markdown",
      "source": [
        "Setup Julia"
      ],
      "metadata": {
        "id": "Bi6IXWNeoYBp"
      }
    },
    {
      "cell_type": "code",
      "source": [
        "%%bash\n",
        "wget -q https://julialang-s3.julialang.org/bin/linux/x64/1.7/julia-1.7.2-linux-x86_64.tar.gz\n",
        "tar zxvf julia-1.7.2-linux-x86_64.tar.gz\n",
        "## python's module\n",
        "pip install julia"
      ],
      "metadata": {
        "id": "cIYBn-YzoXsv"
      },
      "execution_count": null,
      "outputs": []
    },
    {
      "cell_type": "code",
      "source": [
        "import julia\n",
        "julia.install(julia = \"/content/julia-1.7.2/bin/julia\")\n",
        "from julia import Julia\n",
        "jl = Julia(runtime=\"/content/julia-1.7.2/bin/julia\",compiled_modules=False)\n",
        "%load_ext julia.magic"
      ],
      "metadata": {
        "colab": {
          "base_uri": "https://localhost:8080/"
        },
        "id": "O0GLdAh1ocOI",
        "outputId": "e167c939-0117-48fe-8a11-658c24d7d6c0"
      },
      "execution_count": 30,
      "outputs": [
        {
          "output_type": "stream",
          "name": "stderr",
          "text": [
            "\n",
            "Precompiling PyCall...\n",
            "Precompiling PyCall... DONE\n",
            "PyCall is installed and built successfully.\n",
            "\n",
            "PyCall is setup for non-default Julia runtime (executable) `/content/julia-1.7.2/bin/julia`.\n",
            "To use this Julia runtime, PyJulia has to be initialized first by\n",
            "    from julia import Julia\n",
            "    Julia(runtime='/content/julia-1.7.2/bin/julia')\n"
          ]
        },
        {
          "output_type": "stream",
          "name": "stdout",
          "text": [
            "Initializing Julia interpreter. This may take some time...\n"
          ]
        },
        {
          "output_type": "stream",
          "name": "stderr",
          "text": [
            "/usr/local/lib/python3.7/dist-packages/julia/magic.py:166: UserWarning: Incompatible upstream libraries. Got ImportError: No module named 'prompt_toolkit.lexers'\n",
            "  warnings.warn(template.format(err))\n",
            "/usr/local/lib/python3.7/dist-packages/julia/magic.py:174: UserWarning: Incompatible upstream libraries. Got ImportError: cannot import name 'Completion' from 'IPython.core.completer' (/usr/local/lib/python3.7/dist-packages/IPython/core/completer.py)\n",
            "  warnings.warn(template.format(err))\n"
          ]
        }
      ]
    },
    {
      "cell_type": "code",
      "source": [
        "%%julia\n",
        "using Pkg\n",
        "Pkg.add(\"Plots\")\n",
        "Pkg.add(\"StatsBase\")\n",
        "Pkg.add(\"DataFrames\")"
      ],
      "metadata": {
        "id": "ci4Dt6gPoe9g"
      },
      "execution_count": null,
      "outputs": []
    },
    {
      "cell_type": "code",
      "source": [
        "%%julia\n",
        "using LinearAlgebra\n",
        "using Plots\n",
        "using DataFrames\n",
        "rowSums(x) = sum(x, dims = 2);\n",
        "colSums(x) = sum(x, dims = 1);"
      ],
      "metadata": {
        "id": "pyykGby3ojeP"
      },
      "execution_count": 49,
      "outputs": []
    },
    {
      "cell_type": "markdown",
      "source": [
        "### Solution in Python"
      ],
      "metadata": {
        "id": "KW3HQxwrnj7T"
      }
    },
    {
      "cell_type": "markdown",
      "source": [
        "data"
      ],
      "metadata": {
        "id": "x3hqxr1xnlGz"
      }
    },
    {
      "cell_type": "code",
      "source": [
        "X = pd.DataFrame(\n",
        "    data=[\n",
        "          [1933, 1175, 1186],\n",
        "          [646, 579, 671],\n",
        "          [707, 780, 767],\n",
        "          [768, 962, 1126]\n",
        "          ],\n",
        "          columns=pd.Series([\"Realised\", \"Refusals\", \"Errors\"]),\n",
        "          index=pd.Series(['Rural', 'city 20k', 'city 20k-100k', 'city 100k+'])\n",
        "          )\n",
        "X"
      ],
      "metadata": {
        "colab": {
          "base_uri": "https://localhost:8080/",
          "height": 175
        },
        "id": "bslHxOKZyLst",
        "outputId": "f2370abb-e539-4b2e-98b6-a0c82b172371"
      },
      "execution_count": 3,
      "outputs": [
        {
          "output_type": "execute_result",
          "data": {
            "text/plain": [
              "               Realised  Refusals  Errors\n",
              "Rural              1933      1175    1186\n",
              "city 20k            646       579     671\n",
              "city 20k-100k       707       780     767\n",
              "city 100k+          768       962    1126"
            ],
            "text/html": [
              "\n",
              "  <div id=\"df-2c5b4bb7-d55c-4ece-a1dc-a5ac8c8391ed\">\n",
              "    <div class=\"colab-df-container\">\n",
              "      <div>\n",
              "<style scoped>\n",
              "    .dataframe tbody tr th:only-of-type {\n",
              "        vertical-align: middle;\n",
              "    }\n",
              "\n",
              "    .dataframe tbody tr th {\n",
              "        vertical-align: top;\n",
              "    }\n",
              "\n",
              "    .dataframe thead th {\n",
              "        text-align: right;\n",
              "    }\n",
              "</style>\n",
              "<table border=\"1\" class=\"dataframe\">\n",
              "  <thead>\n",
              "    <tr style=\"text-align: right;\">\n",
              "      <th></th>\n",
              "      <th>Realised</th>\n",
              "      <th>Refusals</th>\n",
              "      <th>Errors</th>\n",
              "    </tr>\n",
              "  </thead>\n",
              "  <tbody>\n",
              "    <tr>\n",
              "      <th>Rural</th>\n",
              "      <td>1933</td>\n",
              "      <td>1175</td>\n",
              "      <td>1186</td>\n",
              "    </tr>\n",
              "    <tr>\n",
              "      <th>city 20k</th>\n",
              "      <td>646</td>\n",
              "      <td>579</td>\n",
              "      <td>671</td>\n",
              "    </tr>\n",
              "    <tr>\n",
              "      <th>city 20k-100k</th>\n",
              "      <td>707</td>\n",
              "      <td>780</td>\n",
              "      <td>767</td>\n",
              "    </tr>\n",
              "    <tr>\n",
              "      <th>city 100k+</th>\n",
              "      <td>768</td>\n",
              "      <td>962</td>\n",
              "      <td>1126</td>\n",
              "    </tr>\n",
              "  </tbody>\n",
              "</table>\n",
              "</div>\n",
              "      <button class=\"colab-df-convert\" onclick=\"convertToInteractive('df-2c5b4bb7-d55c-4ece-a1dc-a5ac8c8391ed')\"\n",
              "              title=\"Convert this dataframe to an interactive table.\"\n",
              "              style=\"display:none;\">\n",
              "        \n",
              "  <svg xmlns=\"http://www.w3.org/2000/svg\" height=\"24px\"viewBox=\"0 0 24 24\"\n",
              "       width=\"24px\">\n",
              "    <path d=\"M0 0h24v24H0V0z\" fill=\"none\"/>\n",
              "    <path d=\"M18.56 5.44l.94 2.06.94-2.06 2.06-.94-2.06-.94-.94-2.06-.94 2.06-2.06.94zm-11 1L8.5 8.5l.94-2.06 2.06-.94-2.06-.94L8.5 2.5l-.94 2.06-2.06.94zm10 10l.94 2.06.94-2.06 2.06-.94-2.06-.94-.94-2.06-.94 2.06-2.06.94z\"/><path d=\"M17.41 7.96l-1.37-1.37c-.4-.4-.92-.59-1.43-.59-.52 0-1.04.2-1.43.59L10.3 9.45l-7.72 7.72c-.78.78-.78 2.05 0 2.83L4 21.41c.39.39.9.59 1.41.59.51 0 1.02-.2 1.41-.59l7.78-7.78 2.81-2.81c.8-.78.8-2.07 0-2.86zM5.41 20L4 18.59l7.72-7.72 1.47 1.35L5.41 20z\"/>\n",
              "  </svg>\n",
              "      </button>\n",
              "      \n",
              "  <style>\n",
              "    .colab-df-container {\n",
              "      display:flex;\n",
              "      flex-wrap:wrap;\n",
              "      gap: 12px;\n",
              "    }\n",
              "\n",
              "    .colab-df-convert {\n",
              "      background-color: #E8F0FE;\n",
              "      border: none;\n",
              "      border-radius: 50%;\n",
              "      cursor: pointer;\n",
              "      display: none;\n",
              "      fill: #1967D2;\n",
              "      height: 32px;\n",
              "      padding: 0 0 0 0;\n",
              "      width: 32px;\n",
              "    }\n",
              "\n",
              "    .colab-df-convert:hover {\n",
              "      background-color: #E2EBFA;\n",
              "      box-shadow: 0px 1px 2px rgba(60, 64, 67, 0.3), 0px 1px 3px 1px rgba(60, 64, 67, 0.15);\n",
              "      fill: #174EA6;\n",
              "    }\n",
              "\n",
              "    [theme=dark] .colab-df-convert {\n",
              "      background-color: #3B4455;\n",
              "      fill: #D2E3FC;\n",
              "    }\n",
              "\n",
              "    [theme=dark] .colab-df-convert:hover {\n",
              "      background-color: #434B5C;\n",
              "      box-shadow: 0px 1px 3px 1px rgba(0, 0, 0, 0.15);\n",
              "      filter: drop-shadow(0px 1px 2px rgba(0, 0, 0, 0.3));\n",
              "      fill: #FFFFFF;\n",
              "    }\n",
              "  </style>\n",
              "\n",
              "      <script>\n",
              "        const buttonEl =\n",
              "          document.querySelector('#df-2c5b4bb7-d55c-4ece-a1dc-a5ac8c8391ed button.colab-df-convert');\n",
              "        buttonEl.style.display =\n",
              "          google.colab.kernel.accessAllowed ? 'block' : 'none';\n",
              "\n",
              "        async function convertToInteractive(key) {\n",
              "          const element = document.querySelector('#df-2c5b4bb7-d55c-4ece-a1dc-a5ac8c8391ed');\n",
              "          const dataTable =\n",
              "            await google.colab.kernel.invokeFunction('convertToInteractive',\n",
              "                                                     [key], {});\n",
              "          if (!dataTable) return;\n",
              "\n",
              "          const docLinkHtml = 'Like what you see? Visit the ' +\n",
              "            '<a target=\"_blank\" href=https://colab.research.google.com/notebooks/data_table.ipynb>data table notebook</a>'\n",
              "            + ' to learn more about interactive tables.';\n",
              "          element.innerHTML = '';\n",
              "          dataTable['output_type'] = 'display_data';\n",
              "          await google.colab.output.renderOutput(dataTable, element);\n",
              "          const docLink = document.createElement('div');\n",
              "          docLink.innerHTML = docLinkHtml;\n",
              "          element.appendChild(docLink);\n",
              "        }\n",
              "      </script>\n",
              "    </div>\n",
              "  </div>\n",
              "  "
            ]
          },
          "metadata": {},
          "execution_count": 3
        }
      ]
    },
    {
      "cell_type": "markdown",
      "source": [
        "main function"
      ],
      "metadata": {
        "id": "OupzbM8SlcJ9"
      }
    },
    {
      "cell_type": "code",
      "source": [
        "ca = prince.CA(n_components=2)\n",
        "fitted_ca = ca.fit(X)"
      ],
      "metadata": {
        "id": "pvKdOHQqysFB"
      },
      "execution_count": 4,
      "outputs": []
    },
    {
      "cell_type": "markdown",
      "source": [
        "Principal inertias (eigenvalues):"
      ],
      "metadata": {
        "id": "fSNumzzjlnYY"
      }
    },
    {
      "cell_type": "code",
      "source": [
        "pd.DataFrame({\"eigenvalues\" : fitted_ca.eigenvalues_,\n",
        "              \"percentage\": fitted_ca.explained_inertia_})"
      ],
      "metadata": {
        "colab": {
          "base_uri": "https://localhost:8080/",
          "height": 112
        },
        "id": "2doW4NKGloDh",
        "outputId": "542830e2-a75b-4622-ce51-fc18479ba1ee"
      },
      "execution_count": 11,
      "outputs": [
        {
          "output_type": "execute_result",
          "data": {
            "text/plain": [
              "   eigenvalues  percentage\n",
              "0     0.025020    0.974227\n",
              "1     0.000662    0.025773"
            ],
            "text/html": [
              "\n",
              "  <div id=\"df-caea5860-55ad-48eb-bcc1-837390cf42a6\">\n",
              "    <div class=\"colab-df-container\">\n",
              "      <div>\n",
              "<style scoped>\n",
              "    .dataframe tbody tr th:only-of-type {\n",
              "        vertical-align: middle;\n",
              "    }\n",
              "\n",
              "    .dataframe tbody tr th {\n",
              "        vertical-align: top;\n",
              "    }\n",
              "\n",
              "    .dataframe thead th {\n",
              "        text-align: right;\n",
              "    }\n",
              "</style>\n",
              "<table border=\"1\" class=\"dataframe\">\n",
              "  <thead>\n",
              "    <tr style=\"text-align: right;\">\n",
              "      <th></th>\n",
              "      <th>eigenvalues</th>\n",
              "      <th>percentage</th>\n",
              "    </tr>\n",
              "  </thead>\n",
              "  <tbody>\n",
              "    <tr>\n",
              "      <th>0</th>\n",
              "      <td>0.025020</td>\n",
              "      <td>0.974227</td>\n",
              "    </tr>\n",
              "    <tr>\n",
              "      <th>1</th>\n",
              "      <td>0.000662</td>\n",
              "      <td>0.025773</td>\n",
              "    </tr>\n",
              "  </tbody>\n",
              "</table>\n",
              "</div>\n",
              "      <button class=\"colab-df-convert\" onclick=\"convertToInteractive('df-caea5860-55ad-48eb-bcc1-837390cf42a6')\"\n",
              "              title=\"Convert this dataframe to an interactive table.\"\n",
              "              style=\"display:none;\">\n",
              "        \n",
              "  <svg xmlns=\"http://www.w3.org/2000/svg\" height=\"24px\"viewBox=\"0 0 24 24\"\n",
              "       width=\"24px\">\n",
              "    <path d=\"M0 0h24v24H0V0z\" fill=\"none\"/>\n",
              "    <path d=\"M18.56 5.44l.94 2.06.94-2.06 2.06-.94-2.06-.94-.94-2.06-.94 2.06-2.06.94zm-11 1L8.5 8.5l.94-2.06 2.06-.94-2.06-.94L8.5 2.5l-.94 2.06-2.06.94zm10 10l.94 2.06.94-2.06 2.06-.94-2.06-.94-.94-2.06-.94 2.06-2.06.94z\"/><path d=\"M17.41 7.96l-1.37-1.37c-.4-.4-.92-.59-1.43-.59-.52 0-1.04.2-1.43.59L10.3 9.45l-7.72 7.72c-.78.78-.78 2.05 0 2.83L4 21.41c.39.39.9.59 1.41.59.51 0 1.02-.2 1.41-.59l7.78-7.78 2.81-2.81c.8-.78.8-2.07 0-2.86zM5.41 20L4 18.59l7.72-7.72 1.47 1.35L5.41 20z\"/>\n",
              "  </svg>\n",
              "      </button>\n",
              "      \n",
              "  <style>\n",
              "    .colab-df-container {\n",
              "      display:flex;\n",
              "      flex-wrap:wrap;\n",
              "      gap: 12px;\n",
              "    }\n",
              "\n",
              "    .colab-df-convert {\n",
              "      background-color: #E8F0FE;\n",
              "      border: none;\n",
              "      border-radius: 50%;\n",
              "      cursor: pointer;\n",
              "      display: none;\n",
              "      fill: #1967D2;\n",
              "      height: 32px;\n",
              "      padding: 0 0 0 0;\n",
              "      width: 32px;\n",
              "    }\n",
              "\n",
              "    .colab-df-convert:hover {\n",
              "      background-color: #E2EBFA;\n",
              "      box-shadow: 0px 1px 2px rgba(60, 64, 67, 0.3), 0px 1px 3px 1px rgba(60, 64, 67, 0.15);\n",
              "      fill: #174EA6;\n",
              "    }\n",
              "\n",
              "    [theme=dark] .colab-df-convert {\n",
              "      background-color: #3B4455;\n",
              "      fill: #D2E3FC;\n",
              "    }\n",
              "\n",
              "    [theme=dark] .colab-df-convert:hover {\n",
              "      background-color: #434B5C;\n",
              "      box-shadow: 0px 1px 3px 1px rgba(0, 0, 0, 0.15);\n",
              "      filter: drop-shadow(0px 1px 2px rgba(0, 0, 0, 0.3));\n",
              "      fill: #FFFFFF;\n",
              "    }\n",
              "  </style>\n",
              "\n",
              "      <script>\n",
              "        const buttonEl =\n",
              "          document.querySelector('#df-caea5860-55ad-48eb-bcc1-837390cf42a6 button.colab-df-convert');\n",
              "        buttonEl.style.display =\n",
              "          google.colab.kernel.accessAllowed ? 'block' : 'none';\n",
              "\n",
              "        async function convertToInteractive(key) {\n",
              "          const element = document.querySelector('#df-caea5860-55ad-48eb-bcc1-837390cf42a6');\n",
              "          const dataTable =\n",
              "            await google.colab.kernel.invokeFunction('convertToInteractive',\n",
              "                                                     [key], {});\n",
              "          if (!dataTable) return;\n",
              "\n",
              "          const docLinkHtml = 'Like what you see? Visit the ' +\n",
              "            '<a target=\"_blank\" href=https://colab.research.google.com/notebooks/data_table.ipynb>data table notebook</a>'\n",
              "            + ' to learn more about interactive tables.';\n",
              "          element.innerHTML = '';\n",
              "          dataTable['output_type'] = 'display_data';\n",
              "          await google.colab.output.renderOutput(dataTable, element);\n",
              "          const docLink = document.createElement('div');\n",
              "          docLink.innerHTML = docLinkHtml;\n",
              "          element.appendChild(docLink);\n",
              "        }\n",
              "      </script>\n",
              "    </div>\n",
              "  </div>\n",
              "  "
            ]
          },
          "metadata": {},
          "execution_count": 11
        }
      ]
    },
    {
      "cell_type": "markdown",
      "source": [
        "Row and column masses"
      ],
      "metadata": {
        "id": "lS5AFkJdmJRD"
      }
    },
    {
      "cell_type": "code",
      "source": [
        "fitted_ca.row_masses_"
      ],
      "metadata": {
        "colab": {
          "base_uri": "https://localhost:8080/"
        },
        "id": "7EPc280qmO9D",
        "outputId": "9120453f-f342-4813-d15f-4f4b482c0afa"
      },
      "execution_count": 14,
      "outputs": [
        {
          "output_type": "execute_result",
          "data": {
            "text/plain": [
              "Rural            0.380000\n",
              "city 20k         0.167788\n",
              "city 20k-100k    0.199469\n",
              "city 100k+       0.252743\n",
              "dtype: float64"
            ]
          },
          "metadata": {},
          "execution_count": 14
        }
      ]
    },
    {
      "cell_type": "code",
      "source": [
        "fitted_ca.row_masses_"
      ],
      "metadata": {
        "colab": {
          "base_uri": "https://localhost:8080/"
        },
        "id": "qk2OxR__mV7X",
        "outputId": "10c8c24c-715f-4f60-88ba-533b8e66b995"
      },
      "execution_count": 15,
      "outputs": [
        {
          "output_type": "execute_result",
          "data": {
            "text/plain": [
              "Rural            0.380000\n",
              "city 20k         0.167788\n",
              "city 20k-100k    0.199469\n",
              "city 100k+       0.252743\n",
              "dtype: float64"
            ]
          },
          "metadata": {},
          "execution_count": 15
        }
      ]
    },
    {
      "cell_type": "markdown",
      "source": [
        "Contributions to dimensions"
      ],
      "metadata": {
        "id": "RaQ135TWmb7d"
      }
    },
    {
      "cell_type": "code",
      "source": [
        "fitted_ca.row_contributions()"
      ],
      "metadata": {
        "colab": {
          "base_uri": "https://localhost:8080/",
          "height": 175
        },
        "id": "I8gf96gHmXS6",
        "outputId": "9e30af92-7f4d-42b7-d5e8-78dcdc6c0c64"
      },
      "execution_count": 17,
      "outputs": [
        {
          "output_type": "execute_result",
          "data": {
            "text/plain": [
              "                      0         1\n",
              "Rural          0.558114  0.002483\n",
              "city 20k       0.011356  0.185119\n",
              "city 20k-100k  0.062987  0.701798\n",
              "city 100k+     0.367543  0.110601"
            ],
            "text/html": [
              "\n",
              "  <div id=\"df-4565be8a-b2fe-4cfa-acf6-47ac82c63795\">\n",
              "    <div class=\"colab-df-container\">\n",
              "      <div>\n",
              "<style scoped>\n",
              "    .dataframe tbody tr th:only-of-type {\n",
              "        vertical-align: middle;\n",
              "    }\n",
              "\n",
              "    .dataframe tbody tr th {\n",
              "        vertical-align: top;\n",
              "    }\n",
              "\n",
              "    .dataframe thead th {\n",
              "        text-align: right;\n",
              "    }\n",
              "</style>\n",
              "<table border=\"1\" class=\"dataframe\">\n",
              "  <thead>\n",
              "    <tr style=\"text-align: right;\">\n",
              "      <th></th>\n",
              "      <th>0</th>\n",
              "      <th>1</th>\n",
              "    </tr>\n",
              "  </thead>\n",
              "  <tbody>\n",
              "    <tr>\n",
              "      <th>Rural</th>\n",
              "      <td>0.558114</td>\n",
              "      <td>0.002483</td>\n",
              "    </tr>\n",
              "    <tr>\n",
              "      <th>city 20k</th>\n",
              "      <td>0.011356</td>\n",
              "      <td>0.185119</td>\n",
              "    </tr>\n",
              "    <tr>\n",
              "      <th>city 20k-100k</th>\n",
              "      <td>0.062987</td>\n",
              "      <td>0.701798</td>\n",
              "    </tr>\n",
              "    <tr>\n",
              "      <th>city 100k+</th>\n",
              "      <td>0.367543</td>\n",
              "      <td>0.110601</td>\n",
              "    </tr>\n",
              "  </tbody>\n",
              "</table>\n",
              "</div>\n",
              "      <button class=\"colab-df-convert\" onclick=\"convertToInteractive('df-4565be8a-b2fe-4cfa-acf6-47ac82c63795')\"\n",
              "              title=\"Convert this dataframe to an interactive table.\"\n",
              "              style=\"display:none;\">\n",
              "        \n",
              "  <svg xmlns=\"http://www.w3.org/2000/svg\" height=\"24px\"viewBox=\"0 0 24 24\"\n",
              "       width=\"24px\">\n",
              "    <path d=\"M0 0h24v24H0V0z\" fill=\"none\"/>\n",
              "    <path d=\"M18.56 5.44l.94 2.06.94-2.06 2.06-.94-2.06-.94-.94-2.06-.94 2.06-2.06.94zm-11 1L8.5 8.5l.94-2.06 2.06-.94-2.06-.94L8.5 2.5l-.94 2.06-2.06.94zm10 10l.94 2.06.94-2.06 2.06-.94-2.06-.94-.94-2.06-.94 2.06-2.06.94z\"/><path d=\"M17.41 7.96l-1.37-1.37c-.4-.4-.92-.59-1.43-.59-.52 0-1.04.2-1.43.59L10.3 9.45l-7.72 7.72c-.78.78-.78 2.05 0 2.83L4 21.41c.39.39.9.59 1.41.59.51 0 1.02-.2 1.41-.59l7.78-7.78 2.81-2.81c.8-.78.8-2.07 0-2.86zM5.41 20L4 18.59l7.72-7.72 1.47 1.35L5.41 20z\"/>\n",
              "  </svg>\n",
              "      </button>\n",
              "      \n",
              "  <style>\n",
              "    .colab-df-container {\n",
              "      display:flex;\n",
              "      flex-wrap:wrap;\n",
              "      gap: 12px;\n",
              "    }\n",
              "\n",
              "    .colab-df-convert {\n",
              "      background-color: #E8F0FE;\n",
              "      border: none;\n",
              "      border-radius: 50%;\n",
              "      cursor: pointer;\n",
              "      display: none;\n",
              "      fill: #1967D2;\n",
              "      height: 32px;\n",
              "      padding: 0 0 0 0;\n",
              "      width: 32px;\n",
              "    }\n",
              "\n",
              "    .colab-df-convert:hover {\n",
              "      background-color: #E2EBFA;\n",
              "      box-shadow: 0px 1px 2px rgba(60, 64, 67, 0.3), 0px 1px 3px 1px rgba(60, 64, 67, 0.15);\n",
              "      fill: #174EA6;\n",
              "    }\n",
              "\n",
              "    [theme=dark] .colab-df-convert {\n",
              "      background-color: #3B4455;\n",
              "      fill: #D2E3FC;\n",
              "    }\n",
              "\n",
              "    [theme=dark] .colab-df-convert:hover {\n",
              "      background-color: #434B5C;\n",
              "      box-shadow: 0px 1px 3px 1px rgba(0, 0, 0, 0.15);\n",
              "      filter: drop-shadow(0px 1px 2px rgba(0, 0, 0, 0.3));\n",
              "      fill: #FFFFFF;\n",
              "    }\n",
              "  </style>\n",
              "\n",
              "      <script>\n",
              "        const buttonEl =\n",
              "          document.querySelector('#df-4565be8a-b2fe-4cfa-acf6-47ac82c63795 button.colab-df-convert');\n",
              "        buttonEl.style.display =\n",
              "          google.colab.kernel.accessAllowed ? 'block' : 'none';\n",
              "\n",
              "        async function convertToInteractive(key) {\n",
              "          const element = document.querySelector('#df-4565be8a-b2fe-4cfa-acf6-47ac82c63795');\n",
              "          const dataTable =\n",
              "            await google.colab.kernel.invokeFunction('convertToInteractive',\n",
              "                                                     [key], {});\n",
              "          if (!dataTable) return;\n",
              "\n",
              "          const docLinkHtml = 'Like what you see? Visit the ' +\n",
              "            '<a target=\"_blank\" href=https://colab.research.google.com/notebooks/data_table.ipynb>data table notebook</a>'\n",
              "            + ' to learn more about interactive tables.';\n",
              "          element.innerHTML = '';\n",
              "          dataTable['output_type'] = 'display_data';\n",
              "          await google.colab.output.renderOutput(dataTable, element);\n",
              "          const docLink = document.createElement('div');\n",
              "          docLink.innerHTML = docLinkHtml;\n",
              "          element.appendChild(docLink);\n",
              "        }\n",
              "      </script>\n",
              "    </div>\n",
              "  </div>\n",
              "  "
            ]
          },
          "metadata": {},
          "execution_count": 17
        }
      ]
    },
    {
      "cell_type": "code",
      "source": [
        "fitted_ca.column_contributions()"
      ],
      "metadata": {
        "colab": {
          "base_uri": "https://localhost:8080/",
          "height": 144
        },
        "id": "1RkC6X1Jmj9G",
        "outputId": "38698185-adf8-48f1-eaae-87ee50dcf072"
      },
      "execution_count": 19,
      "outputs": [
        {
          "output_type": "execute_result",
          "data": {
            "text/plain": [
              "                 0         1\n",
              "Realised  0.632050  0.009189\n",
              "Refusals  0.106887  0.583733\n",
              "Errors    0.261063  0.407078"
            ],
            "text/html": [
              "\n",
              "  <div id=\"df-6c710a4b-480f-461b-9d53-a6212b5ab4dd\">\n",
              "    <div class=\"colab-df-container\">\n",
              "      <div>\n",
              "<style scoped>\n",
              "    .dataframe tbody tr th:only-of-type {\n",
              "        vertical-align: middle;\n",
              "    }\n",
              "\n",
              "    .dataframe tbody tr th {\n",
              "        vertical-align: top;\n",
              "    }\n",
              "\n",
              "    .dataframe thead th {\n",
              "        text-align: right;\n",
              "    }\n",
              "</style>\n",
              "<table border=\"1\" class=\"dataframe\">\n",
              "  <thead>\n",
              "    <tr style=\"text-align: right;\">\n",
              "      <th></th>\n",
              "      <th>0</th>\n",
              "      <th>1</th>\n",
              "    </tr>\n",
              "  </thead>\n",
              "  <tbody>\n",
              "    <tr>\n",
              "      <th>Realised</th>\n",
              "      <td>0.632050</td>\n",
              "      <td>0.009189</td>\n",
              "    </tr>\n",
              "    <tr>\n",
              "      <th>Refusals</th>\n",
              "      <td>0.106887</td>\n",
              "      <td>0.583733</td>\n",
              "    </tr>\n",
              "    <tr>\n",
              "      <th>Errors</th>\n",
              "      <td>0.261063</td>\n",
              "      <td>0.407078</td>\n",
              "    </tr>\n",
              "  </tbody>\n",
              "</table>\n",
              "</div>\n",
              "      <button class=\"colab-df-convert\" onclick=\"convertToInteractive('df-6c710a4b-480f-461b-9d53-a6212b5ab4dd')\"\n",
              "              title=\"Convert this dataframe to an interactive table.\"\n",
              "              style=\"display:none;\">\n",
              "        \n",
              "  <svg xmlns=\"http://www.w3.org/2000/svg\" height=\"24px\"viewBox=\"0 0 24 24\"\n",
              "       width=\"24px\">\n",
              "    <path d=\"M0 0h24v24H0V0z\" fill=\"none\"/>\n",
              "    <path d=\"M18.56 5.44l.94 2.06.94-2.06 2.06-.94-2.06-.94-.94-2.06-.94 2.06-2.06.94zm-11 1L8.5 8.5l.94-2.06 2.06-.94-2.06-.94L8.5 2.5l-.94 2.06-2.06.94zm10 10l.94 2.06.94-2.06 2.06-.94-2.06-.94-.94-2.06-.94 2.06-2.06.94z\"/><path d=\"M17.41 7.96l-1.37-1.37c-.4-.4-.92-.59-1.43-.59-.52 0-1.04.2-1.43.59L10.3 9.45l-7.72 7.72c-.78.78-.78 2.05 0 2.83L4 21.41c.39.39.9.59 1.41.59.51 0 1.02-.2 1.41-.59l7.78-7.78 2.81-2.81c.8-.78.8-2.07 0-2.86zM5.41 20L4 18.59l7.72-7.72 1.47 1.35L5.41 20z\"/>\n",
              "  </svg>\n",
              "      </button>\n",
              "      \n",
              "  <style>\n",
              "    .colab-df-container {\n",
              "      display:flex;\n",
              "      flex-wrap:wrap;\n",
              "      gap: 12px;\n",
              "    }\n",
              "\n",
              "    .colab-df-convert {\n",
              "      background-color: #E8F0FE;\n",
              "      border: none;\n",
              "      border-radius: 50%;\n",
              "      cursor: pointer;\n",
              "      display: none;\n",
              "      fill: #1967D2;\n",
              "      height: 32px;\n",
              "      padding: 0 0 0 0;\n",
              "      width: 32px;\n",
              "    }\n",
              "\n",
              "    .colab-df-convert:hover {\n",
              "      background-color: #E2EBFA;\n",
              "      box-shadow: 0px 1px 2px rgba(60, 64, 67, 0.3), 0px 1px 3px 1px rgba(60, 64, 67, 0.15);\n",
              "      fill: #174EA6;\n",
              "    }\n",
              "\n",
              "    [theme=dark] .colab-df-convert {\n",
              "      background-color: #3B4455;\n",
              "      fill: #D2E3FC;\n",
              "    }\n",
              "\n",
              "    [theme=dark] .colab-df-convert:hover {\n",
              "      background-color: #434B5C;\n",
              "      box-shadow: 0px 1px 3px 1px rgba(0, 0, 0, 0.15);\n",
              "      filter: drop-shadow(0px 1px 2px rgba(0, 0, 0, 0.3));\n",
              "      fill: #FFFFFF;\n",
              "    }\n",
              "  </style>\n",
              "\n",
              "      <script>\n",
              "        const buttonEl =\n",
              "          document.querySelector('#df-6c710a4b-480f-461b-9d53-a6212b5ab4dd button.colab-df-convert');\n",
              "        buttonEl.style.display =\n",
              "          google.colab.kernel.accessAllowed ? 'block' : 'none';\n",
              "\n",
              "        async function convertToInteractive(key) {\n",
              "          const element = document.querySelector('#df-6c710a4b-480f-461b-9d53-a6212b5ab4dd');\n",
              "          const dataTable =\n",
              "            await google.colab.kernel.invokeFunction('convertToInteractive',\n",
              "                                                     [key], {});\n",
              "          if (!dataTable) return;\n",
              "\n",
              "          const docLinkHtml = 'Like what you see? Visit the ' +\n",
              "            '<a target=\"_blank\" href=https://colab.research.google.com/notebooks/data_table.ipynb>data table notebook</a>'\n",
              "            + ' to learn more about interactive tables.';\n",
              "          element.innerHTML = '';\n",
              "          dataTable['output_type'] = 'display_data';\n",
              "          await google.colab.output.renderOutput(dataTable, element);\n",
              "          const docLink = document.createElement('div');\n",
              "          docLink.innerHTML = docLinkHtml;\n",
              "          element.appendChild(docLink);\n",
              "        }\n",
              "      </script>\n",
              "    </div>\n",
              "  </div>\n",
              "  "
            ]
          },
          "metadata": {},
          "execution_count": 19
        }
      ]
    },
    {
      "cell_type": "markdown",
      "source": [
        "Plot"
      ],
      "metadata": {
        "id": "TVFetRM1moX-"
      }
    },
    {
      "cell_type": "code",
      "source": [
        "ca.plot_coordinates(\n",
        "    X=X,\n",
        "    ax=None,\n",
        "    figsize=(6, 6),\n",
        "    x_component=0,\n",
        "    y_component=1,\n",
        "    show_row_labels=True,\n",
        "    show_col_labels=True)"
      ],
      "metadata": {
        "colab": {
          "base_uri": "https://localhost:8080/",
          "height": 422
        },
        "id": "LEAJq8M0zKkC",
        "outputId": "c525b619-73f2-4ae1-d177-b0c508244d28"
      },
      "execution_count": null,
      "outputs": [
        {
          "output_type": "execute_result",
          "data": {
            "text/plain": [
              "<matplotlib.axes._subplots.AxesSubplot at 0x7fa3ea174250>"
            ]
          },
          "metadata": {},
          "execution_count": 10
        },
        {
          "output_type": "display_data",
          "data": {
            "text/plain": [
              "<Figure size 432x432 with 1 Axes>"
            ],
            "image/png": "[encoded data removed]"
          },
          "metadata": {
            "needs_background": "light"
          }
        }
      ]
    },
    {
      "cell_type": "markdown",
      "source": [
        "### Solution in R"
      ],
      "metadata": {
        "id": "hDc02KkNnoR5"
      }
    },
    {
      "cell_type": "code",
      "source": [
        "%%R\n",
        "data <- matrix(data = c(1933, 1175, 1186, 646, 579, 671, 707, 780, 767,768, 962, 1126), \n",
        "               ncol = 3, byrow = TRUE)\n",
        "rownames(data) <- c(\"rural\",\"c20\",\"c20_100\",\"c100\")\n",
        "colnames(data) <- c(\"realized\",\"refused\",\"errors\")\n",
        "data"
      ],
      "metadata": {
        "colab": {
          "base_uri": "https://localhost:8080/"
        },
        "id": "0WtiNPZ2npn6",
        "outputId": "1262d038-7e79-4677-a398-1ffeb5f573e4"
      },
      "execution_count": 24,
      "outputs": [
        {
          "output_type": "stream",
          "name": "stdout",
          "text": [
            "        realized refused errors\n",
            "rural       1933    1175   1186\n",
            "c20          646     579    671\n",
            "c20_100      707     780    767\n",
            "c100         768     962   1126\n"
          ]
        }
      ]
    },
    {
      "cell_type": "code",
      "source": [
        "%%R\n",
        "fitted_ca <- ca(data)\n",
        "fitted_ca"
      ],
      "metadata": {
        "colab": {
          "base_uri": "https://localhost:8080/"
        },
        "id": "skI7HNvVn7f_",
        "outputId": "49576647-a62e-46a3-d7c8-ad774f06d1c6"
      },
      "execution_count": 26,
      "outputs": [
        {
          "output_type": "stream",
          "name": "stdout",
          "text": [
            "\n",
            " Principal inertias (eigenvalues):\n",
            "           1       2       \n",
            "Value      0.02502 0.000662\n",
            "Percentage 97.42%  2.58%   \n",
            "\n",
            "\n",
            " Rows:\n",
            "            rural       c20  c20_100      c100\n",
            "Mass     0.380000  0.167788 0.199469  0.252743\n",
            "ChiDist  0.191706  0.049230 0.101139  0.191503\n",
            "Inertia  0.013965  0.000407 0.002040  0.009269\n",
            "Dim. 1  -1.211908  0.260156 0.561935  1.205908\n",
            "Dim. 2  -0.080827 -1.050377 1.875721 -0.661515\n",
            "\n",
            "\n",
            " Columns:\n",
            "         realized  refused    errors\n",
            "Mass     0.358761 0.309381  0.331858\n",
            "ChiDist  0.209989 0.099462  0.143158\n",
            "Inertia  0.015820 0.003061  0.006801\n",
            "Dim. 1  -1.327312 0.587780  0.886945\n",
            "Dim. 2  -0.160041 1.373601 -1.107548\n"
          ]
        }
      ]
    },
    {
      "cell_type": "code",
      "source": [
        "%%R\n",
        "summary(fitted_ca)"
      ],
      "metadata": {
        "colab": {
          "base_uri": "https://localhost:8080/"
        },
        "id": "QVe2h4Ein_3K",
        "outputId": "939973f7-9fcc-4c55-ea14-bddb03782b7e"
      },
      "execution_count": 27,
      "outputs": [
        {
          "output_type": "stream",
          "name": "stdout",
          "text": [
            "\n",
            "Principal inertias (eigenvalues):\n",
            "\n",
            " dim    value      %   cum%   scree plot               \n",
            " 1      0.025020  97.4  97.4  ************************ \n",
            " 2      0.000662   2.6 100.0  *                        \n",
            "        -------- -----                                 \n",
            " Total: 0.025681 100.0                                 \n",
            "\n",
            "\n",
            "Rows:\n",
            "    name   mass  qlt  inr    k=1  cor ctr    k=2 cor ctr  \n",
            "1 | rurl |  380 1000  544 | -192 1000 558 |   -2   0   2 |\n",
            "2 |  c20 |  168 1000   16 |   41  699  11 |  -27 301 185 |\n",
            "3 | c20_ |  199 1000   79 |   89  772  63 |   48 228 702 |\n",
            "4 | c100 |  253 1000  361 |  191  992 368 |  -17   8 111 |\n",
            "\n",
            "Columns:\n",
            "    name   mass  qlt  inr    k=1  cor ctr    k=2 cor ctr  \n",
            "1 | rlzd |  359 1000  616 | -210 1000 632 |   -4   0   9 |\n",
            "2 | rfsd |  309 1000  119 |   93  874 107 |   35 126 584 |\n",
            "3 | errr |  332 1000  265 |  140  960 261 |  -28  40 407 |\n"
          ]
        }
      ]
    },
    {
      "cell_type": "code",
      "source": [
        "%%R\n",
        "plot(fitted_ca)"
      ],
      "metadata": {
        "colab": {
          "base_uri": "https://localhost:8080/",
          "height": 497
        },
        "id": "n68iRR0woCR7",
        "outputId": "86aa35aa-d257-4278-f3ea-78bb6c8afdc5"
      },
      "execution_count": 28,
      "outputs": [
        {
          "output_type": "display_data",
          "data": {
            "image/png": "[encoded data removed]"
          },
          "metadata": {}
        }
      ]
    },
    {
      "cell_type": "markdown",
      "source": [
        "### Solution in Julia"
      ],
      "metadata": {
        "id": "ar2iuGqVpVlU"
      }
    },
    {
      "cell_type": "markdown",
      "source": [
        "There's no function for CA in Julia so we need to develop our own."
      ],
      "metadata": {
        "id": "N0dMKhpWqEqt"
      }
    },
    {
      "cell_type": "code",
      "source": [
        "%%julia\n",
        "function ca(m)\n",
        "    P = m/sum(m);\n",
        "    r = rowSums(P); ## rowsums\n",
        "    c = colSums(P); ## colsums\n",
        "    Dr = Diagonal(r[:]); ## diagm(0 => r[:]); dense matrix\n",
        "    Dc  = Diagonal(c[:]); ## diagm(0 => c[:]); dense matrix\n",
        "    A = Dr^(-0.5)*(P - r*c)*Dc^(-0.5)\n",
        "    U,Γ,V=svd(A);\n",
        "    X = Dr^(-1/2) * U * Diagonal(Γ) \n",
        "    Y = Dc^(-1/2) * V * Diagonal(Γ)\n",
        "    return(X, Y)\n",
        "end"
      ],
      "metadata": {
        "colab": {
          "base_uri": "https://localhost:8080/"
        },
        "id": "nmVVptUApXmI",
        "outputId": "13c22141-3dc0-48d5-b84f-ad9437b05f94"
      },
      "execution_count": 35,
      "outputs": [
        {
          "output_type": "execute_result",
          "data": {
            "text/plain": [
              "<PyCall.jlwrap ca>"
            ]
          },
          "metadata": {},
          "execution_count": 35
        }
      ]
    },
    {
      "cell_type": "code",
      "source": [
        "%%julia\n",
        "m = [1933 1175 1186;\n",
        "     646 579 671;\n",
        "     707 780 767;\n",
        "     768 962 1126]"
      ],
      "metadata": {
        "colab": {
          "base_uri": "https://localhost:8080/"
        },
        "id": "VRBMWW1fpaP8",
        "outputId": "85455d6f-5704-429b-a660-aff602a88a45"
      },
      "execution_count": 36,
      "outputs": [
        {
          "output_type": "execute_result",
          "data": {
            "text/plain": [
              "array([[1933, 1175, 1186],\n",
              "       [ 646,  579,  671],\n",
              "       [ 707,  780,  767],\n",
              "       [ 768,  962, 1126]], dtype=int64)"
            ]
          },
          "metadata": {},
          "execution_count": 36
        }
      ]
    },
    {
      "cell_type": "code",
      "source": [
        "%%julia\n",
        "X,Y=ca(m);\n",
        "println(\"---------- row coords ----------\")\n",
        "println(X[:,1:2])\n",
        "println(\"---------- col coords ----------\")\n",
        "println(Y[:,1:2])"
      ],
      "metadata": {
        "colab": {
          "base_uri": "https://localhost:8080/"
        },
        "id": "gF5FmIP3pbjB",
        "outputId": "9eab4ae2-ecb9-4d07-80ca-6746aa81ed4d"
      },
      "execution_count": 41,
      "outputs": [
        {
          "output_type": "stream",
          "name": "stdout",
          "text": [
            "]---------- row coords ----------\n",
            "[-0.19169441439217788 -0.0020794537459330573; 0.041150421679717296 -0.027023131502777537; 0.0888845191795802 0.048256824784295396; 0.19074541654919247 -0.0170188555145307]\n",
            "---------- col coords ----------\n",
            "[-0.20994852661622657 -0.004117381503035959; 0.09297255442552536 0.035338745368908034; 0.1402931404348125 -0.0284939704523718]\n"
          ]
        }
      ]
    },
    {
      "cell_type": "code",
      "source": [
        "%%julia\n",
        "res = DataFrame(vcat(X[:,1:2], Y[:,1:2]), :auto);\n",
        "res.label = [\"Rural\", \"city 20k\", \"city 20k-100k\", \"city 100k+\", \"Realised\",\"Refusals\",\"Errors\"];\n",
        "res.color = [\"red\", \"red\", \"red\", \"red\", \"blue\",\"blue\",\"blue\"];\n",
        "res"
      ],
      "metadata": {
        "colab": {
          "base_uri": "https://localhost:8080/"
        },
        "id": "re0fVj3zpgBA",
        "outputId": "bfd5caa2-ed50-48ff-cbfe-40a2c6105a6b"
      },
      "execution_count": 43,
      "outputs": [
        {
          "output_type": "execute_result",
          "data": {
            "text/plain": [
              "<PyCall.jlwrap 7×4 DataFrame\n",
              " Row │ x1          x2           label          color\n",
              "     │ Float64     Float64      String         String\n",
              "─────┼────────────────────────────────────────────────\n",
              "   1 │ -0.191694   -0.00207945  Rural          red\n",
              "   2 │  0.0411504  -0.0270231   city 20k       red\n",
              "   3 │  0.0888845   0.0482568   city 20k-100k  red\n",
              "   4 │  0.190745   -0.0170189   city 100k+     red\n",
              "   5 │ -0.209949   -0.00411738  Realised       blue\n",
              "   6 │  0.0929726   0.0353387   Refusals       blue\n",
              "   7 │  0.140293   -0.028494    Errors         blue>"
            ]
          },
          "metadata": {},
          "execution_count": 43
        }
      ]
    },
    {
      "cell_type": "code",
      "source": [
        "%%julia\n",
        "scatter(res.x1, res.x2, text = res.label, color = res.color)"
      ],
      "metadata": {
        "id": "CaNL1AbNpiNX"
      },
      "execution_count": null,
      "outputs": []
    }
  ]
}