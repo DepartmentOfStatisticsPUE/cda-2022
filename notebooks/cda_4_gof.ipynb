{
  "nbformat": 4,
  "nbformat_minor": 0,
  "metadata": {
    "colab": {
      "name": "cda_4_gof.ipynb",
      "provenance": [],
      "collapsed_sections": [],
      "authorship_tag": "ABX9TyN7iMfZq2TxjVzfY2crirpg",
      "include_colab_link": true
    },
    "kernelspec": {
      "name": "python3",
      "display_name": "Python 3"
    },
    "language_info": {
      "name": "python"
    }
  },
  "cells": [
    {
      "cell_type": "markdown",
      "metadata": {
        "id": "view-in-github",
        "colab_type": "text"
      },
      "source": [
        "<a href=\"https://colab.research.google.com/github/DepartmentOfStatisticsPUE/cda-2022/blob/main/notebooks/cda_4_gof.ipynb\" target=\"_parent\"><img src=\"https://colab.research.google.com/assets/colab-badge.svg\" alt=\"Open In Colab\"/></a>"
      ]
    },
    {
      "cell_type": "markdown",
      "source": [
        "## Setup environment"
      ],
      "metadata": {
        "id": "mkzPNRw1Sk4k"
      }
    },
    {
      "cell_type": "markdown",
      "source": [
        "### Python libraries"
      ],
      "metadata": {
        "id": "WM8_gHwDTp8P"
      }
    },
    {
      "cell_type": "code",
      "execution_count": 67,
      "metadata": {
        "id": "wxOH_c_TSKmM"
      },
      "outputs": [],
      "source": [
        "import scipy.stats as st\n",
        "from scipy.optimize import minimize\n",
        "import numpy as np\n",
        "import pandas as pd"
      ]
    },
    {
      "cell_type": "markdown",
      "source": [
        "## Setup R via Python"
      ],
      "metadata": {
        "id": "NX1jMDufT2W0"
      }
    },
    {
      "cell_type": "code",
      "source": [
        "%load_ext rpy2.ipython"
      ],
      "metadata": {
        "id": "9yUv3YJ7SlnH",
        "colab": {
          "base_uri": "https://localhost:8080/"
        },
        "outputId": "8c0c989d-d639-49d9-b1ed-5a313b2c29eb"
      },
      "execution_count": 64,
      "outputs": [
        {
          "output_type": "stream",
          "name": "stdout",
          "text": [
            "The rpy2.ipython extension is already loaded. To reload it, use:\n",
            "  %reload_ext rpy2.ipython\n"
          ]
        }
      ]
    },
    {
      "cell_type": "code",
      "source": [
        "%%R\n",
        "install.packages(\"vcd\")\n",
        "install.packages(\"fitdistrplus\")"
      ],
      "metadata": {
        "id": "tQ2Pq4mdT4vF"
      },
      "execution_count": null,
      "outputs": []
    },
    {
      "cell_type": "code",
      "source": [
        "%%R\n",
        "library(vcd)\n",
        "library(fitdistrplus)"
      ],
      "metadata": {
        "colab": {
          "base_uri": "https://localhost:8080/"
        },
        "id": "fc26Q3CLUGev",
        "outputId": "68d5f865-d237-4434-b39e-8f0723885fde"
      },
      "execution_count": 7,
      "outputs": [
        {
          "output_type": "stream",
          "name": "stderr",
          "text": [
            "R[write to console]: Loading required package: grid\n",
            "\n",
            "R[write to console]: Loading required package: MASS\n",
            "\n",
            "R[write to console]: Loading required package: survival\n",
            "\n"
          ]
        }
      ]
    },
    {
      "cell_type": "markdown",
      "source": [
        "## Setup Julia via Python"
      ],
      "metadata": {
        "id": "QFZIqeDEUJ9Q"
      }
    },
    {
      "cell_type": "code",
      "source": [
        "%%bash\n",
        "wget -q https://julialang-s3.julialang.org/bin/linux/x64/1.7/julia-1.7.2-linux-x86_64.tar.gz\n",
        "tar zxvf julia-1.7.2-linux-x86_64.tar.gz\n",
        "## python's module\n",
        "pip install julia"
      ],
      "metadata": {
        "id": "kHQMsiAWUKtS"
      },
      "execution_count": null,
      "outputs": []
    },
    {
      "cell_type": "code",
      "source": [
        "import julia\n",
        "julia.install(julia = \"/content/julia-1.7.2/bin/julia\")\n",
        "from julia import Julia\n",
        "jl = Julia(runtime=\"/content/julia-1.7.2/bin/julia\",compiled_modules=False)\n",
        "%load_ext julia.magic"
      ],
      "metadata": {
        "id": "iXt4bjxlUQxp",
        "colab": {
          "base_uri": "https://localhost:8080/"
        },
        "outputId": "2e72351d-86f1-4152-b7dc-5a13011a5dba"
      },
      "execution_count": 27,
      "outputs": [
        {
          "output_type": "stream",
          "name": "stderr",
          "text": [
            "\n",
            "Precompiling PyCall...\n",
            "Precompiling PyCall... DONE\n",
            "PyCall is installed and built successfully.\n",
            "\n",
            "PyCall is setup for non-default Julia runtime (executable) `/content/julia-1.7.2/bin/julia`.\n",
            "To use this Julia runtime, PyJulia has to be initialized first by\n",
            "    from julia import Julia\n",
            "    Julia(runtime='/content/julia-1.7.2/bin/julia')\n"
          ]
        },
        {
          "output_type": "stream",
          "name": "stdout",
          "text": [
            "Initializing Julia interpreter. This may take some time...\n"
          ]
        },
        {
          "output_type": "stream",
          "name": "stderr",
          "text": [
            "/usr/local/lib/python3.7/dist-packages/julia/magic.py:166: UserWarning: Incompatible upstream libraries. Got ImportError: No module named 'prompt_toolkit.lexers'\n",
            "  warnings.warn(template.format(err))\n",
            "/usr/local/lib/python3.7/dist-packages/julia/magic.py:174: UserWarning: Incompatible upstream libraries. Got ImportError: cannot import name 'Completion' from 'IPython.core.completer' (/usr/local/lib/python3.7/dist-packages/IPython/core/completer.py)\n",
            "  warnings.warn(template.format(err))\n"
          ]
        }
      ]
    },
    {
      "cell_type": "code",
      "source": [
        "%%julia\n",
        "using Pkg\n",
        "Pkg.add(\"Distributions\")\n",
        "Pkg.add(\"Optim\")\n",
        "Pkg.add(\"HypothesisTests\")\n",
        "Pkg.add(\"StatsBase\")\n",
        "using Distributions\n",
        "using Random\n",
        "using HypothesisTests\n",
        "using Optim\n",
        "using StatsBase"
      ],
      "metadata": {
        "id": "jsOjnBvnUSV_"
      },
      "execution_count": null,
      "outputs": []
    },
    {
      "cell_type": "code",
      "source": [
        "%%julia\n",
        "Pkg.status()"
      ],
      "metadata": {
        "colab": {
          "base_uri": "https://localhost:8080/"
        },
        "id": "EbYj69bBlgp4",
        "outputId": "c2acb789-1453-4a8a-a9df-225eaddf271c"
      },
      "execution_count": 29,
      "outputs": [
        {
          "output_type": "stream",
          "name": "stdout",
          "text": [
            "      Status `~/.julia/environments/v1.7/Project.toml`\n",
            "  [31c24e10] Distributions v0.25.51\n",
            "  [09f84164] HypothesisTests v0.10.8\n",
            "  [429524aa] Optim v1.6.2\n",
            "  [438e738f] PyCall v1.93.1\n",
            "  [2913bbd2] StatsBase v0.33.16\n"
          ]
        }
      ]
    },
    {
      "cell_type": "markdown",
      "source": [
        "## Solution in R"
      ],
      "metadata": {
        "id": "XxdM-ZJOYIn-"
      }
    },
    {
      "cell_type": "code",
      "source": [
        "%%R\n",
        "set.seed(1)\n",
        "n <- 10000\n",
        "x <- rnbinom(n, mu = 3, size = 2)\n",
        "fitdistr(x = x, densfun = \"negative binomial\")"
      ],
      "metadata": {
        "colab": {
          "base_uri": "https://localhost:8080/"
        },
        "id": "fqYbxI4LYJdR",
        "outputId": "750e7006-fdba-4e6e-8848-08da7a169ffe"
      },
      "execution_count": 23,
      "outputs": [
        {
          "output_type": "stream",
          "name": "stdout",
          "text": [
            "      size          mu    \n",
            "  2.01336939   3.00049449 \n",
            " (0.05148793) (0.02733434)\n"
          ]
        }
      ]
    },
    {
      "cell_type": "code",
      "source": [
        "%%R\n",
        "cat(x, sep = \"\\n\", file = \"nb_sim.txt\")"
      ],
      "metadata": {
        "id": "yftkdXjFr-1S"
      },
      "execution_count": 12,
      "outputs": []
    },
    {
      "cell_type": "code",
      "source": [
        "%%R\n",
        "gof_nb <- goodfit(x, \"nbinomial\")\n",
        "gof_po <- goodfit(x, \"poisson\")\n",
        "summary(gof_nb)\n",
        "summary(gof_po)"
      ],
      "metadata": {
        "colab": {
          "base_uri": "https://localhost:8080/"
        },
        "id": "wxcpCsPrYUMA",
        "outputId": "35886e84-ef77-4c7b-88b7-63aebd5209f6"
      },
      "execution_count": null,
      "outputs": [
        {
          "output_type": "stream",
          "name": "stdout",
          "text": [
            "\n",
            "\t Goodness-of-fit test for nbinomial distribution\n",
            "\n",
            "                      X^2 df  P(> X^2)\n",
            "Likelihood Ratio 21.27568 18 0.2657337\n",
            "\n",
            "\t Goodness-of-fit test for poisson distribution\n",
            "\n",
            "                      X^2 df P(> X^2)\n",
            "Likelihood Ratio 5112.284 19        0\n"
          ]
        }
      ]
    },
    {
      "cell_type": "markdown",
      "source": [
        "Note that we may use $\\chi^2$ test but the degrees of freedom and p-value is incorrect as it does not account for number of parameters."
      ],
      "metadata": {
        "id": "o0fegsa1aloS"
      }
    },
    {
      "cell_type": "code",
      "source": [
        "%%R\n",
        "chisq.test(x = gof_nb$observed, p = gof_nb$fitted/sum(gof_nb$fitted)) \n",
        "## should be 15 istead of 17"
      ],
      "metadata": {
        "colab": {
          "base_uri": "https://localhost:8080/"
        },
        "id": "UZhmh2UbZGtU",
        "outputId": "64b7c4f5-c401-435e-f6e8-c9a2e132faf8"
      },
      "execution_count": null,
      "outputs": [
        {
          "output_type": "stream",
          "name": "stdout",
          "text": [
            "\n",
            "\tChi-squared test for given probabilities\n",
            "\n",
            "data:  gof_nb$observed\n",
            "X-squared = 15.718, df = 17, p-value = 0.5439\n",
            "\n"
          ]
        }
      ]
    },
    {
      "cell_type": "code",
      "source": [
        "%%R\n",
        "pchisq(15.718, 15, lower.tail = FALSE)"
      ],
      "metadata": {
        "colab": {
          "base_uri": "https://localhost:8080/"
        },
        "id": "qiyHBCTSxLLo",
        "outputId": "337b39a4-efb9-47e1-8437-418e9b7d4115"
      },
      "execution_count": null,
      "outputs": [
        {
          "output_type": "stream",
          "name": "stdout",
          "text": [
            "[1] 0.4010371\n"
          ]
        }
      ]
    },
    {
      "cell_type": "code",
      "source": [
        "%%R\n",
        "rootogram(gof_nb)\n",
        "rootogram(gof_po)"
      ],
      "metadata": {
        "colab": {
          "base_uri": "https://localhost:8080/",
          "height": 977
        },
        "id": "bP1dbwrfYqE7",
        "outputId": "7aa74155-34aa-406c-e3e0-1b82af9583e2"
      },
      "execution_count": null,
      "outputs": [
        {
          "output_type": "display_data",
          "data": {
            "image/png": "[encoded data removed]"
          },
          "metadata": {}
        },
        {
          "output_type": "display_data",
          "data": {
            "image/png": "[encoded data removed]"
          },
          "metadata": {}
        }
      ]
    },
    {
      "cell_type": "markdown",
      "source": [
        "## Solution in Python"
      ],
      "metadata": {
        "id": "YsaYPWjIa-0W"
      }
    },
    {
      "cell_type": "markdown",
      "source": [
        "Python uses a different specification of negative binomial than we specified in R so we need to rewrite it as follows: \n",
        "\n",
        "$$\n",
        "p = \\frac{\\text{size}}{\\text{size} + \\mu}.\n",
        "$$"
      ],
      "metadata": {
        "id": "j_wQp-cqd3Ah"
      }
    },
    {
      "cell_type": "code",
      "source": [
        "np.random.seed(1)\n",
        "N = 1000\n",
        "x = st.nbinom(n = 2, p = 2/(2+3)).rvs(N)\n",
        "np.mean(x)"
      ],
      "metadata": {
        "colab": {
          "base_uri": "https://localhost:8080/"
        },
        "id": "tgric81PbBfu",
        "outputId": "973c8c4b-d0d1-4d4c-f8b8-823b5a3cd055"
      },
      "execution_count": 65,
      "outputs": [
        {
          "output_type": "execute_result",
          "data": {
            "text/plain": [
              "3.09"
            ]
          },
          "metadata": {},
          "execution_count": 65
        }
      ]
    },
    {
      "cell_type": "markdown",
      "source": [
        "However, these pseudo-random numbers are not the same as in R. So, to make our example comparable with R, we read data generated from R that was saved to text file."
      ],
      "metadata": {
        "id": "RT1yAjlGs8OV"
      }
    },
    {
      "cell_type": "code",
      "source": [
        "x = np.loadtxt(\"nb_sim.txt\", dtype = np.int64)\n",
        "np.mean(x)"
      ],
      "metadata": {
        "colab": {
          "base_uri": "https://localhost:8080/"
        },
        "id": "qRx74zKitNKD",
        "outputId": "8b98ef49-301a-41a6-f596-90361992a30c"
      },
      "execution_count": 66,
      "outputs": [
        {
          "output_type": "execute_result",
          "data": {
            "text/plain": [
              "3.0006"
            ]
          },
          "metadata": {},
          "execution_count": 66
        }
      ]
    },
    {
      "cell_type": "markdown",
      "source": [
        "Optimization using pmf function"
      ],
      "metadata": {
        "id": "feo9K8D8azao"
      }
    },
    {
      "cell_type": "code",
      "source": [
        "def pdf_nbinom(par, x):\n",
        "  pdfnbinom = st.nbinom(par[0],par[1]).logpmf(x)\n",
        "  return -np.sum(pdfnbinom)\n",
        "\n",
        "res = minimize(fun=pdf_nbinom, x0=[2, 0.5], args = (x), method = \"Nelder-Mead\")\n",
        "res"
      ],
      "metadata": {
        "colab": {
          "base_uri": "https://localhost:8080/"
        },
        "id": "FB_ouajwazwU",
        "outputId": "b02cc0d1-dfdf-413d-ac88-8893f8c8b03c"
      },
      "execution_count": 68,
      "outputs": [
        {
          "output_type": "execute_result",
          "data": {
            "text/plain": [
              " final_simplex: (array([[2.01357331, 0.40157875],\n",
              "       [2.0136646 , 0.40158661],\n",
              "       [2.01348695, 0.40156478]]), array([22061.74799012, 22061.74799024, 22061.74799191]))\n",
              "           fun: 22061.747990122178\n",
              "       message: 'Optimization terminated successfully.'\n",
              "          nfev: 76\n",
              "           nit: 40\n",
              "        status: 0\n",
              "       success: True\n",
              "             x: array([2.01357331, 0.40157875])"
            ]
          },
          "metadata": {},
          "execution_count": 68
        }
      ]
    },
    {
      "cell_type": "markdown",
      "source": [
        "We may use statsmodels but this require some workaround to get the NB parameters."
      ],
      "metadata": {
        "id": "5CpTsYwwjFtW"
      }
    },
    {
      "cell_type": "code",
      "source": [
        "ones = np.ones_like(x)\n",
        "fitnb = sm.NegativeBinomial(x,ones).fit()\n",
        "print(fitnb.summary())"
      ],
      "metadata": {
        "colab": {
          "base_uri": "https://localhost:8080/"
        },
        "id": "rAsLaZzQfQ47",
        "outputId": "73f67e03-7ea9-4d69-fe45-8b22791fe888"
      },
      "execution_count": 24,
      "outputs": [
        {
          "output_type": "stream",
          "name": "stdout",
          "text": [
            "Optimization terminated successfully.\n",
            "         Current function value: 2.206175\n",
            "         Iterations: 6\n",
            "         Function evaluations: 7\n",
            "         Gradient evaluations: 7\n",
            "                     NegativeBinomial Regression Results                      \n",
            "==============================================================================\n",
            "Dep. Variable:                      y   No. Observations:                10000\n",
            "Model:               NegativeBinomial   Df Residuals:                     9999\n",
            "Method:                           MLE   Df Model:                            0\n",
            "Date:                Wed, 16 Mar 2022   Pseudo R-squ.:               7.998e-12\n",
            "Time:                        07:50:46   Log-Likelihood:                -22062.\n",
            "converged:                       True   LL-Null:                       -22062.\n",
            "Covariance Type:            nonrobust   LLR p-value:                       nan\n",
            "==============================================================================\n",
            "                 coef    std err          z      P>|z|      [0.025      0.975]\n",
            "------------------------------------------------------------------------------\n",
            "const          1.0988      0.009    120.618      0.000       1.081       1.117\n",
            "alpha          0.4966      0.013     39.100      0.000       0.472       0.522\n",
            "==============================================================================\n"
          ]
        }
      ]
    },
    {
      "cell_type": "markdown",
      "source": [
        "Note that in this output `const` is $log(\\mu)$ and $\\alpha$ can be used to estimate $p$."
      ],
      "metadata": {
        "id": "gK08SYz6i1KO"
      }
    },
    {
      "cell_type": "code",
      "source": [
        "mu = np.exp(fitnb.params[0])\n",
        "alpha = fitnb.params[1]\n",
        "p = 1/(1 + mu*alpha)\n",
        "size = mu*p/(1-p)\n",
        "mu, p, size"
      ],
      "metadata": {
        "colab": {
          "base_uri": "https://localhost:8080/"
        },
        "id": "mP-nGE3Wjgqg",
        "outputId": "0ef36335-f99c-44e9-c23a-df3ce009924a"
      },
      "execution_count": 25,
      "outputs": [
        {
          "output_type": "execute_result",
          "data": {
            "text/plain": [
              "(3.0006, 0.40157923788470296, 2.013597684908997)"
            ]
          },
          "metadata": {},
          "execution_count": 25
        }
      ]
    },
    {
      "cell_type": "markdown",
      "source": [
        "Rootograms are not available in python. There are some scripts that recreate this plot using `matplotlib`, see\n",
        "\n",
        "https://stackoverflow.com/questions/38252879/how-to-plot-a-hanging-rootogram-in-python\n",
        "\n"
      ],
      "metadata": {
        "id": "Z-YxCNlDdfRD"
      }
    },
    {
      "cell_type": "markdown",
      "source": [
        "## Solution in Julia"
      ],
      "metadata": {
        "id": "IHcp32zRkCe-"
      }
    },
    {
      "cell_type": "code",
      "source": [
        "%%julia\n",
        "Random.seed!(123)\n",
        "n = 1000\n",
        "x = rand(NegativeBinomial(2, 2/(2+3)), n)\n",
        "mean(x)"
      ],
      "metadata": {
        "colab": {
          "base_uri": "https://localhost:8080/"
        },
        "id": "AUiU6w4SkD9q",
        "outputId": "b4e43a44-c81a-439d-89e6-fa472809b2c0"
      },
      "execution_count": 30,
      "outputs": [
        {
          "output_type": "execute_result",
          "data": {
            "text/plain": [
              "3.026"
            ]
          },
          "metadata": {},
          "execution_count": 30
        }
      ]
    },
    {
      "cell_type": "markdown",
      "source": [
        "However, these pseudo-random numbers are not the same as in R. So, to make our example comparable with R, we read data generated from R that was saved to text file."
      ],
      "metadata": {
        "id": "Zd6spYTothGW"
      }
    },
    {
      "cell_type": "code",
      "source": [
        "%%julia\n",
        "x = readlines(\"nb_sim.txt\")\n",
        "x = parse.(Int, x)"
      ],
      "metadata": {
        "colab": {
          "base_uri": "https://localhost:8080/"
        },
        "id": "RhBWVlggthw8",
        "outputId": "5d009104-349f-41bc-8cbf-b3b3bb74b42d"
      },
      "execution_count": 44,
      "outputs": [
        {
          "output_type": "execute_result",
          "data": {
            "text/plain": [
              "array([3, 1, 1, ..., 3, 3, 3], dtype=int64)"
            ]
          },
          "metadata": {},
          "execution_count": 44
        }
      ]
    },
    {
      "cell_type": "code",
      "source": [
        "%%julia\n",
        "function llnb(par, data)\n",
        "  ll = logpdf.(NegativeBinomial(par[1], par[2]), data)\n",
        "  return -sum(ll)\n",
        "end\n",
        "\n",
        "res = optimize(par -> llnb(par, x), [2, 0.5])\n",
        "res.minimizer"
      ],
      "metadata": {
        "colab": {
          "base_uri": "https://localhost:8080/"
        },
        "id": "SSLwLDL1kcaa",
        "outputId": "090d80af-0bbc-4564-96c1-f28f9f6d39cc"
      },
      "execution_count": 45,
      "outputs": [
        {
          "output_type": "execute_result",
          "data": {
            "text/plain": [
              "array([2.01360006, 0.40157958])"
            ]
          },
          "metadata": {},
          "execution_count": 45
        }
      ]
    },
    {
      "cell_type": "markdown",
      "source": [
        "Goodness of fit statistics"
      ],
      "metadata": {
        "id": "egyxA_bwmeom"
      }
    },
    {
      "cell_type": "code",
      "source": [
        "%%julia\n",
        "x_uniq_dict = sort(countmap(x))\n",
        "x_uniq_vals = Int.(keys(x_uniq_dict))\n",
        "x_uniq_counts = Int.(values(x_uniq_dict))\n",
        "params = res.minimizer\n",
        "est_cdf = cdf.(NegativeBinomial(params[1], params[2]), x_uniq_vals[1:(end-1)])\n",
        "est_pdf = diff(vcat(0,est_cdf,1))"
      ],
      "metadata": {
        "colab": {
          "base_uri": "https://localhost:8080/"
        },
        "id": "b9TSRl6Vmh-L",
        "outputId": "2b5dbf49-de98-4c4e-bdc2-47df7f288d42"
      },
      "execution_count": 62,
      "outputs": [
        {
          "output_type": "execute_result",
          "data": {
            "text/plain": [
              "array([0.15927753, 0.19192614, 0.17305978, 0.13855283, 0.10392296,\n",
              "       0.0747967 , 0.05232131, 0.03584385, 0.02416737, 0.01609102,\n",
              "       0.01060521, 0.00693116, 0.0044981 , 0.00290163, 0.00186211,\n",
              "       0.00118962, 0.00075699, 0.00048001, 0.00030342, 0.00031152,\n",
              "       0.00020076])"
            ]
          },
          "metadata": {},
          "execution_count": 62
        }
      ]
    },
    {
      "cell_type": "markdown",
      "source": [
        "```julia\n",
        "julia> ChisqTest(x_uniq_counts, est_pdf)\n",
        "Pearson's Chi-square Test\n",
        "-------------------------\n",
        "Population details:\n",
        "    parameter of interest:   Multinomial Probabilities\n",
        "    value under h_0:         [0.159278, 0.191926, 0.17306, 0.138553, 0.103923, 0.0747967, 0.0523213, 0.0358438, 0.0241674, 0.016091  …  0.00693116, 0.0044981, 0.00290163, 0.00186211, 0.00118962, 0.000756992, 0.000480009, 0.000303422, 0.000311515, 0.000200757]\n",
        "    point estimate:          [0.1583, 0.1969, 0.1699, 0.1356, 0.1025, 0.0748, 0.0565, 0.0357, 0.0244, 0.0164  …  0.0054, 0.0045, 0.0024, 0.0023, 0.0012, 0.0011, 0.0006, 0.0002, 0.0001, 0.0001]\n",
        "    95% confidence interval: [(0.1491, 0.1676), (0.1877, 0.2062), (0.1607, 0.1792), (0.1264, 0.1449), (0.0933, 0.1118), (0.0656, 0.0841), (0.0473, 0.0658), (0.0265, 0.045), (0.0152, 0.0337), (0.0072, 0.0257)  …  (0.0, 0.0147), (0.0, 0.0138), (0.0, 0.0117), (0.0, 0.0116), (0.0, 0.0105), (0.0, 0.0104), (0.0, 0.0099), (0.0, 0.0095), (0.0, 0.0094), (0.0, 0.0094)]\n",
        "\n",
        "Test summary:\n",
        "    outcome with 95% confidence: fail to reject h_0\n",
        "    one-sided p-value:           0.7268\n",
        "\n",
        "Details:\n",
        "    Sample size:        10000\n",
        "    statistic:          15.834662044034829\n",
        "    degrees of freedom: 20\n",
        "    residuals:          [-0.244937, 1.13534, -0.759555, -0.793288, -0.441404, 0.00120639, 1.82684, -0.0759791, 0.149644, 0.243582  …  -1.83915, 0.00283987, -0.931235, 1.01477, 0.0300909, 1.24669, 0.547676, -0.593732, -1.1984, -0.711114]\n",
        "    std. residuals:     [-0.267133, 1.26299, -0.835261, -0.854705, -0.466298, 0.00125421, 1.87659, -0.0773785, 0.151485, 0.245566  …  -1.84556, 0.00284628, -0.932589, 1.01571, 0.0301088, 1.24716, 0.547808, -0.593823, -1.19859, -0.711185]\n",
        "```"
      ],
      "metadata": {
        "id": "x5U_rhP2zFak"
      }
    },
    {
      "cell_type": "markdown",
      "source": [
        "Note that p-value is calculated wrongly as correct df is 18 not 20. So correct p-value is: "
      ],
      "metadata": {
        "id": "AWn0Qdrfqmsi"
      }
    },
    {
      "cell_type": "code",
      "source": [
        "%%julia\n",
        "1-cdf(Chisq(18), 15.834662044034829)"
      ],
      "metadata": {
        "colab": {
          "base_uri": "https://localhost:8080/"
        },
        "id": "PMnRSVQ8rune",
        "outputId": "b573f4bd-0106-43bb-b514-827aad443505"
      },
      "execution_count": 59,
      "outputs": [
        {
          "output_type": "execute_result",
          "data": {
            "text/plain": [
              "0.6040851660737778"
            ]
          },
          "metadata": {},
          "execution_count": 59
        }
      ]
    }
  ]
}