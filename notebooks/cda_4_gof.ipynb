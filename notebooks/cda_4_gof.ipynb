{
  "nbformat": 4,
  "nbformat_minor": 0,
  "metadata": {
    "colab": {
      "name": "cda_4_gof.ipynb",
      "provenance": [],
      "collapsed_sections": [],
      "authorship_tag": "ABX9TyPwkiRS8vbhT5JNmPUzOMf5",
      "include_colab_link": true
    },
    "kernelspec": {
      "name": "python3",
      "display_name": "Python 3"
    },
    "language_info": {
      "name": "python"
    }
  },
  "cells": [
    {
      "cell_type": "markdown",
      "metadata": {
        "id": "view-in-github",
        "colab_type": "text"
      },
      "source": [
        "<a href=\"https://colab.research.google.com/github/DepartmentOfStatisticsPUE/cda-2022/blob/main/notebooks/cda_4_gof.ipynb\" target=\"_parent\"><img src=\"https://colab.research.google.com/assets/colab-badge.svg\" alt=\"Open In Colab\"/></a>"
      ]
    },
    {
      "cell_type": "markdown",
      "source": [
        "## Setup environment"
      ],
      "metadata": {
        "id": "mkzPNRw1Sk4k"
      }
    },
    {
      "cell_type": "markdown",
      "source": [
        "### Python libraries"
      ],
      "metadata": {
        "id": "WM8_gHwDTp8P"
      }
    },
    {
      "cell_type": "code",
      "execution_count": 1,
      "metadata": {
        "id": "wxOH_c_TSKmM"
      },
      "outputs": [],
      "source": [
        "import scipy.stats as st\n",
        "from scipy.optimize import minimize\n",
        "import numpy as np\n",
        "import pandas as pd"
      ]
    },
    {
      "cell_type": "markdown",
      "source": [
        "## Setup R via Python"
      ],
      "metadata": {
        "id": "NX1jMDufT2W0"
      }
    },
    {
      "cell_type": "code",
      "source": [
        "%load_ext rpy2.ipython"
      ],
      "metadata": {
        "id": "9yUv3YJ7SlnH"
      },
      "execution_count": 2,
      "outputs": []
    },
    {
      "cell_type": "code",
      "source": [
        "%%R\n",
        "install.packages(\"vcd\")\n",
        "install.packages(\"fitdistrplus\")"
      ],
      "metadata": {
        "id": "tQ2Pq4mdT4vF"
      },
      "execution_count": null,
      "outputs": []
    },
    {
      "cell_type": "code",
      "source": [
        "%%R\n",
        "library(vcd)\n",
        "library(fitdistrplus)"
      ],
      "metadata": {
        "colab": {
          "base_uri": "https://localhost:8080/"
        },
        "id": "fc26Q3CLUGev",
        "outputId": "6ae1b014-aad2-458b-e046-db6087c7e604"
      },
      "execution_count": 4,
      "outputs": [
        {
          "output_type": "stream",
          "name": "stderr",
          "text": [
            "R[write to console]: Loading required package: grid\n",
            "\n",
            "R[write to console]: Loading required package: MASS\n",
            "\n",
            "R[write to console]: Loading required package: survival\n",
            "\n"
          ]
        }
      ]
    },
    {
      "cell_type": "markdown",
      "source": [
        "## Setup Julia via Python"
      ],
      "metadata": {
        "id": "QFZIqeDEUJ9Q"
      }
    },
    {
      "cell_type": "code",
      "source": [
        "%%bash\n",
        "wget -q https://julialang-s3.julialang.org/bin/linux/x64/1.7/julia-1.7.2-linux-x86_64.tar.gz\n",
        "tar zxvf julia-1.7.2-linux-x86_64.tar.gz\n",
        "## python's module\n",
        "pip install julia"
      ],
      "metadata": {
        "id": "kHQMsiAWUKtS"
      },
      "execution_count": null,
      "outputs": []
    },
    {
      "cell_type": "code",
      "source": [
        "import julia\n",
        "julia.install(julia = \"/content/julia-1.7.2/bin/julia\")\n",
        "from julia import Julia\n",
        "jl = Julia(runtime=\"/content/julia-1.7.2/bin/julia\",compiled_modules=False)\n",
        "%load_ext julia.magic"
      ],
      "metadata": {
        "id": "iXt4bjxlUQxp",
        "colab": {
          "base_uri": "https://localhost:8080/"
        },
        "outputId": "6a909100-fb75-426c-93a8-aa958ff129b8"
      },
      "execution_count": 6,
      "outputs": [
        {
          "output_type": "stream",
          "name": "stderr",
          "text": [
            "\n",
            "Precompiling PyCall...\n",
            "Precompiling PyCall... DONE\n",
            "PyCall is installed and built successfully.\n",
            "\n",
            "PyCall is setup for non-default Julia runtime (executable) `/content/julia-1.7.2/bin/julia`.\n",
            "To use this Julia runtime, PyJulia has to be initialized first by\n",
            "    from julia import Julia\n",
            "    Julia(runtime='/content/julia-1.7.2/bin/julia')\n"
          ]
        },
        {
          "output_type": "stream",
          "name": "stdout",
          "text": [
            "Initializing Julia interpreter. This may take some time...\n"
          ]
        },
        {
          "output_type": "stream",
          "name": "stderr",
          "text": [
            "/usr/local/lib/python3.7/dist-packages/julia/magic.py:166: UserWarning: Incompatible upstream libraries. Got ImportError: No module named 'prompt_toolkit.lexers'\n",
            "  warnings.warn(template.format(err))\n",
            "/usr/local/lib/python3.7/dist-packages/julia/magic.py:174: UserWarning: Incompatible upstream libraries. Got ImportError: cannot import name 'Completion' from 'IPython.core.completer' (/usr/local/lib/python3.7/dist-packages/IPython/core/completer.py)\n",
            "  warnings.warn(template.format(err))\n"
          ]
        }
      ]
    },
    {
      "cell_type": "code",
      "source": [
        "%%julia\n",
        "using Pkg\n",
        "Pkg.add(\"Distributions\")\n",
        "Pkg.add(\"Optim\")\n",
        "Pkg.add(\"HypothesisTests\")\n",
        "Pkg.add(\"StatsBase\")\n",
        "using Distributions\n",
        "using Random\n",
        "using HypothesisTests\n",
        "using Optim\n",
        "using StatsBase\n",
        "using DelimitedFiles"
      ],
      "metadata": {
        "id": "jsOjnBvnUSV_"
      },
      "execution_count": null,
      "outputs": []
    },
    {
      "cell_type": "code",
      "source": [
        "%%julia\n",
        "Pkg.status()"
      ],
      "metadata": {
        "colab": {
          "base_uri": "https://localhost:8080/"
        },
        "id": "EbYj69bBlgp4",
        "outputId": "75797212-d6f5-4abb-8e6b-3c859e684c12"
      },
      "execution_count": 8,
      "outputs": [
        {
          "output_type": "stream",
          "name": "stdout",
          "text": [
            "      Status `~/.julia/environments/v1.7/Project.toml`\n",
            "  [31c24e10] Distributions v0.25.52\n",
            "  [09f84164] HypothesisTests v0.10.8\n",
            "  [429524aa] Optim v1.6.2\n",
            "  [438e738f] PyCall v1.93.1\n",
            "  [2913bbd2] StatsBase v0.33.16\n"
          ]
        }
      ]
    },
    {
      "cell_type": "markdown",
      "source": [
        "## Solution in R"
      ],
      "metadata": {
        "id": "XxdM-ZJOYIn-"
      }
    },
    {
      "cell_type": "code",
      "source": [
        "%%R\n",
        "set.seed(1)\n",
        "n <- 10000\n",
        "x <- rnbinom(n, mu = 3, size = 2)\n",
        "x_fitted <- fitdistr(x = x, densfun = \"negative binomial\")\n",
        "x_fitted"
      ],
      "metadata": {
        "colab": {
          "base_uri": "https://localhost:8080/"
        },
        "id": "fqYbxI4LYJdR",
        "outputId": "37bfd9b6-c064-4777-dc23-ee66c7730ef0"
      },
      "execution_count": 18,
      "outputs": [
        {
          "output_type": "stream",
          "name": "stdout",
          "text": [
            "      size          mu    \n",
            "  2.01336939   3.00049449 \n",
            " (0.05148793) (0.02733434)\n"
          ]
        }
      ]
    },
    {
      "cell_type": "code",
      "source": [
        "%%R\n",
        "cat(x, sep = \"\\n\", file = \"nb_sim.txt\")"
      ],
      "metadata": {
        "id": "yftkdXjFr-1S"
      },
      "execution_count": 10,
      "outputs": []
    },
    {
      "cell_type": "markdown",
      "source": [
        "Small note regarding the `vcd` package. It gives correct answers but in a slightly different way.\n",
        "\n",
        "1. `goodfit` function returns a list with `fitted` (expected) frequencies under a given distribution using `pdf` of this distribution\n",
        "2. `summary(goodfit object)` returns a $\\chi^2$ and $G^2$ tests using `cdf` of a given distribution. \n",
        "\n",
        "Thus, if we use `object$fitted` created by `goodfit` to calculate $\\chi^2$ and $G^2$ statistics by hand we will get slightly different statistics values than the one returned by `summary.goodfit()` function. Thus, both are accepted results. \n",
        "\n",
        "In this material, we use the first approach in Python and Julia."
      ],
      "metadata": {
        "id": "NdkqM9lW0Uqa"
      }
    },
    {
      "cell_type": "code",
      "source": [
        "%%R\n",
        "gof_nb <- goodfit(x, \"nbinomial\")\n",
        "gof_po <- goodfit(x, \"poisson\")\n",
        "gof_nb"
      ],
      "metadata": {
        "colab": {
          "base_uri": "https://localhost:8080/"
        },
        "id": "wxcpCsPrYUMA",
        "outputId": "64f64617-b099-4a0e-9436-492159f3bc66"
      },
      "execution_count": 13,
      "outputs": [
        {
          "output_type": "stream",
          "name": "stdout",
          "text": [
            "\n",
            "Observed and fitted values for nbinomial distribution\n",
            "with parameters estimated by `ML' \n",
            "\n",
            " count observed       fitted pearson residual\n",
            "     0     1583 1592.9576699     -0.249491416\n",
            "     1     1969 1919.3226642      1.133924923\n",
            "     2     1699 1730.5759462     -0.759033671\n",
            "     3     1356 1385.4754570     -0.791883200\n",
            "     4     1025 1039.1753710     -0.439733965\n",
            "     5      748  747.9232225      0.002807408\n",
            "     6      565  523.1819782      1.828256376\n",
            "     7      357  358.4183143     -0.074916483\n",
            "     8      244  241.6616132      0.150422398\n",
            "     9      164  160.9035748      0.244105604\n",
            "    10      111  106.0489061      0.480781851\n",
            "    11       54   69.3104364     -1.839027630\n",
            "    12       45   44.9808274      0.002858694\n",
            "    13       24   29.0166287     -0.931297590\n",
            "    14       23   18.6216166      1.014623922\n",
            "    15       12   11.8967720      0.029928364\n",
            "    16       11    7.5704166      1.246468975\n",
            "    17        6    4.8004960      0.547467895\n",
            "    18        2    3.0345408     -0.593883338\n",
            "    19        0    1.9128455     -1.383056572\n",
            "    20        1    1.2027237     -0.184850942\n",
            "    21        0    0.7544899     -0.868613754\n",
            "    22        1    0.4723144     -0.226411689\n"
          ]
        }
      ]
    },
    {
      "cell_type": "code",
      "source": [
        "%%R\n",
        "summary(gof_nb)\n",
        "summary(gof_po)"
      ],
      "metadata": {
        "colab": {
          "base_uri": "https://localhost:8080/"
        },
        "id": "sBclqRTz1dO2",
        "outputId": "93b3ca1d-e651-41fd-ed7a-189775f665a5"
      },
      "execution_count": 12,
      "outputs": [
        {
          "output_type": "stream",
          "name": "stdout",
          "text": [
            "\n",
            "\t Goodness-of-fit test for nbinomial distribution\n",
            "\n",
            "                      X^2 df  P(> X^2)\n",
            "Likelihood Ratio 21.27568 18 0.2657337\n",
            "\n",
            "\t Goodness-of-fit test for poisson distribution\n",
            "\n",
            "                      X^2 df P(> X^2)\n",
            "Likelihood Ratio 5112.284 19        0\n"
          ]
        }
      ]
    },
    {
      "cell_type": "markdown",
      "source": [
        "Note that we may use $\\chi^2$ test but the degrees of freedom and p-value is incorrect as it does not account for number of parameters. For the $\\chi^2$ we also use only the non-zero count values."
      ],
      "metadata": {
        "id": "o0fegsa1aloS"
      }
    },
    {
      "cell_type": "code",
      "source": [
        "%%R\n",
        "flag <- gof_nb$observed > 0\n",
        "\n",
        "chisq.test(x = gof_nb$observed[flag], \n",
        "           p = gof_nb$fitted[flag]/sum(gof_nb$fitted[flag])) "
      ],
      "metadata": {
        "colab": {
          "base_uri": "https://localhost:8080/"
        },
        "id": "j1SwzwM5oYZa",
        "outputId": "24627331-6daf-408b-946c-cd3f320cd15c"
      },
      "execution_count": 35,
      "outputs": [
        {
          "output_type": "stream",
          "name": "stdout",
          "text": [
            "\n",
            "\tChi-squared test for given probabilities\n",
            "\n",
            "data:  gof_nb$observed[flag]\n",
            "X-squared = 14.509, df = 20, p-value = 0.8038\n",
            "\n"
          ]
        }
      ]
    },
    {
      "cell_type": "code",
      "source": [
        "%%R\n",
        "chisq.test(x = gof_nb$observed[flag], \n",
        "           p = dnbinom(x = gof_nb$count[flag], \n",
        "                       size = x_fitted$estimate[1],\n",
        "                       mu = x_fitted$estimate[2]), \n",
        "           rescale.p = TRUE) "
      ],
      "metadata": {
        "colab": {
          "base_uri": "https://localhost:8080/"
        },
        "id": "UZhmh2UbZGtU",
        "outputId": "fd589333-0f05-40a5-87e3-e2da37edf6d8"
      },
      "execution_count": 38,
      "outputs": [
        {
          "output_type": "stream",
          "name": "stdout",
          "text": [
            "\n",
            "\tChi-squared test for given probabilities\n",
            "\n",
            "data:  gof_nb$observed[flag]\n",
            "X-squared = 14.509, df = 20, p-value = 0.8038\n",
            "\n"
          ]
        }
      ]
    },
    {
      "cell_type": "markdown",
      "source": [
        "We need to correct p-value"
      ],
      "metadata": {
        "id": "ptlaw25W1ztl"
      }
    },
    {
      "cell_type": "code",
      "source": [
        "%%R\n",
        "pchisq(14.509, 18, lower.tail = FALSE)"
      ],
      "metadata": {
        "colab": {
          "base_uri": "https://localhost:8080/"
        },
        "id": "qiyHBCTSxLLo",
        "outputId": "d65b98c2-4b80-498b-d77f-24250876a0ed"
      },
      "execution_count": 39,
      "outputs": [
        {
          "output_type": "stream",
          "name": "stdout",
          "text": [
            "[1] 0.6953586\n"
          ]
        }
      ]
    },
    {
      "cell_type": "code",
      "source": [
        "%%R\n",
        "rootogram(gof_nb)\n",
        "rootogram(gof_po)"
      ],
      "metadata": {
        "colab": {
          "base_uri": "https://localhost:8080/",
          "height": 977
        },
        "id": "bP1dbwrfYqE7",
        "outputId": "070a8253-a4ca-42cd-aa74-0cfd833014c5"
      },
      "execution_count": 22,
      "outputs": [
        {
          "output_type": "display_data",
          "data": {
            "image/png": "[encoded data removed]"
          },
          "metadata": {}
        },
        {
          "output_type": "display_data",
          "data": {
            "image/png": "[encoded data removed]"
          },
          "metadata": {}
        }
      ]
    },
    {
      "cell_type": "markdown",
      "source": [
        "## Solution in Python"
      ],
      "metadata": {
        "id": "YsaYPWjIa-0W"
      }
    },
    {
      "cell_type": "markdown",
      "source": [
        "Python uses a different specification of negative binomial than we specified in R so we need to rewrite it as follows: \n",
        "\n",
        "$$\n",
        "p = \\frac{\\text{size}}{\\text{size} + \\mu}.\n",
        "$$"
      ],
      "metadata": {
        "id": "j_wQp-cqd3Ah"
      }
    },
    {
      "cell_type": "code",
      "source": [
        "np.random.seed(1)\n",
        "N = 1000\n",
        "x = st.nbinom(n = 2, p = 2/(2+3)).rvs(N)\n",
        "np.mean(x)"
      ],
      "metadata": {
        "colab": {
          "base_uri": "https://localhost:8080/"
        },
        "id": "tgric81PbBfu",
        "outputId": "154e9c90-1ab6-4fea-a53a-ebc74ae20c16"
      },
      "execution_count": 23,
      "outputs": [
        {
          "output_type": "execute_result",
          "data": {
            "text/plain": [
              "3.09"
            ]
          },
          "metadata": {},
          "execution_count": 23
        }
      ]
    },
    {
      "cell_type": "markdown",
      "source": [
        "However, these pseudo-random numbers are not the same as in R. So, to make our example comparable with R, we read data generated from R that was saved to text file."
      ],
      "metadata": {
        "id": "RT1yAjlGs8OV"
      }
    },
    {
      "cell_type": "code",
      "source": [
        "x = np.loadtxt(\"nb_sim.txt\", dtype = np.int64)\n",
        "np.mean(x)"
      ],
      "metadata": {
        "colab": {
          "base_uri": "https://localhost:8080/"
        },
        "id": "qRx74zKitNKD",
        "outputId": "9d81282c-ad0a-428d-f2aa-06d3ee95b4c4"
      },
      "execution_count": 24,
      "outputs": [
        {
          "output_type": "execute_result",
          "data": {
            "text/plain": [
              "3.0006"
            ]
          },
          "metadata": {},
          "execution_count": 24
        }
      ]
    },
    {
      "cell_type": "markdown",
      "source": [
        "Optimization using pmf function"
      ],
      "metadata": {
        "id": "feo9K8D8azao"
      }
    },
    {
      "cell_type": "code",
      "source": [
        "def pdf_nbinom(par, x):\n",
        "  pdfnbinom = st.nbinom(par[0],par[1]).logpmf(x)\n",
        "  return -np.sum(pdfnbinom)\n",
        "\n",
        "res = minimize(fun=pdf_nbinom, x0=[2, 0.5], args = (x), method = \"Nelder-Mead\")\n",
        "res"
      ],
      "metadata": {
        "colab": {
          "base_uri": "https://localhost:8080/"
        },
        "id": "FB_ouajwazwU",
        "outputId": "eb71aec9-ee15-44db-def6-f185a294a58a"
      },
      "execution_count": 25,
      "outputs": [
        {
          "output_type": "execute_result",
          "data": {
            "text/plain": [
              " final_simplex: (array([[2.01357331, 0.40157875],\n",
              "       [2.0136646 , 0.40158661],\n",
              "       [2.01348695, 0.40156478]]), array([22061.74799012, 22061.74799024, 22061.74799191]))\n",
              "           fun: 22061.747990122178\n",
              "       message: 'Optimization terminated successfully.'\n",
              "          nfev: 76\n",
              "           nit: 40\n",
              "        status: 0\n",
              "       success: True\n",
              "             x: array([2.01357331, 0.40157875])"
            ]
          },
          "metadata": {},
          "execution_count": 25
        }
      ]
    },
    {
      "cell_type": "markdown",
      "source": [
        "**Goodness of fit -- step by step**"
      ],
      "metadata": {
        "id": "hbEQsnOkfTwY"
      }
    },
    {
      "cell_type": "markdown",
      "source": [
        "$G^2$ and $\\chi^2$ GoF can be calculated using `scipy.stats.power_divergence` function"
      ],
      "metadata": {
        "id": "wkzALQIDfV2p"
      }
    },
    {
      "cell_type": "code",
      "source": [
        "x_uniq_vals, x_uniq_counts = np.unique(x, return_counts=True)\n",
        "## we simply use pdf(NB(2.01357331, 0.40157875), x) \n",
        "est_pdf = st.nbinom(res.x[0],res.x[1]).pmf(x_uniq_vals) \n",
        "## probs are not summing to 1 - rescale\n",
        "est_pdf = est_pdf/np.sum(est_pdf) "
      ],
      "metadata": {
        "id": "1T6GJ-MwX2P4"
      },
      "execution_count": 61,
      "outputs": []
    },
    {
      "cell_type": "markdown",
      "source": [
        "$G^2$ test"
      ],
      "metadata": {
        "id": "qFII4Sscuxim"
      }
    },
    {
      "cell_type": "code",
      "source": [
        "st.power_divergence(x_uniq_counts, \n",
        "                    sum(x_uniq_counts)*est_pdf, \n",
        "                    lambda_ = 0, ddof = 2)"
      ],
      "metadata": {
        "colab": {
          "base_uri": "https://localhost:8080/"
        },
        "id": "Tr4KF7KubVHT",
        "outputId": "7d1a778a-fe94-4a66-9fa8-04a1ad875e37"
      },
      "execution_count": 62,
      "outputs": [
        {
          "output_type": "execute_result",
          "data": {
            "text/plain": [
              "Power_divergenceResult(statistic=14.378707061013243, pvalue=0.7040911371933183)"
            ]
          },
          "metadata": {},
          "execution_count": 62
        }
      ]
    },
    {
      "cell_type": "markdown",
      "source": [
        "$\\chi^2$ test"
      ],
      "metadata": {
        "id": "P-eMeMEDu1v5"
      }
    },
    {
      "cell_type": "code",
      "source": [
        "st.power_divergence(x_uniq_counts, \n",
        "                    sum(x_uniq_counts)*est_pdf, \n",
        "                    lambda_ = 1, ddof = 2)"
      ],
      "metadata": {
        "colab": {
          "base_uri": "https://localhost:8080/"
        },
        "id": "nhwbN077cCOh",
        "outputId": "1cdee3b3-dd4d-47df-e1c4-787636c583a4"
      },
      "execution_count": 63,
      "outputs": [
        {
          "output_type": "execute_result",
          "data": {
            "text/plain": [
              "Power_divergenceResult(statistic=14.510966027945067, pvalue=0.695226354877517)"
            ]
          },
          "metadata": {},
          "execution_count": 63
        }
      ]
    },
    {
      "cell_type": "markdown",
      "source": [
        "**Rootograms** are not available in python. There are some scripts that recreate this plot using `matplotlib`, see\n",
        "\n",
        "https://stackoverflow.com/questions/38252879/how-to-plot-a-hanging-rootogram-in-python\n",
        "\n"
      ],
      "metadata": {
        "id": "Z-YxCNlDdfRD"
      }
    },
    {
      "cell_type": "markdown",
      "source": [
        "## Solution in Julia"
      ],
      "metadata": {
        "id": "IHcp32zRkCe-"
      }
    },
    {
      "cell_type": "code",
      "source": [
        "%%julia\n",
        "Random.seed!(123)\n",
        "n = 1000\n",
        "x = rand(NegativeBinomial(2, 2/(2+3)), n)\n",
        "mean(x)"
      ],
      "metadata": {
        "colab": {
          "base_uri": "https://localhost:8080/"
        },
        "id": "AUiU6w4SkD9q",
        "outputId": "933c1fcd-1d08-4d8a-f38b-c80ef90df986"
      },
      "execution_count": 50,
      "outputs": [
        {
          "output_type": "execute_result",
          "data": {
            "text/plain": [
              "3.026"
            ]
          },
          "metadata": {},
          "execution_count": 50
        }
      ]
    },
    {
      "cell_type": "markdown",
      "source": [
        "However, these pseudo-random numbers are not the same as in R. So, to make our example comparable with R, we read data generated from R that was saved to text file."
      ],
      "metadata": {
        "id": "Zd6spYTothGW"
      }
    },
    {
      "cell_type": "code",
      "source": [
        "%%julia\n",
        "x = readdlm(\"nb_sim.txt\", Int)\n",
        "x = vec(x)"
      ],
      "metadata": {
        "colab": {
          "base_uri": "https://localhost:8080/"
        },
        "id": "RhBWVlggthw8",
        "outputId": "75b85e6c-b193-4994-955b-380536e84210"
      },
      "execution_count": 53,
      "outputs": [
        {
          "output_type": "execute_result",
          "data": {
            "text/plain": [
              "array([3, 1, 1, ..., 3, 3, 3], dtype=int64)"
            ]
          },
          "metadata": {},
          "execution_count": 53
        }
      ]
    },
    {
      "cell_type": "code",
      "source": [
        "%%julia\n",
        "function llnb(par, data)\n",
        "  ll = logpdf.(NegativeBinomial(par[1], par[2]), data)\n",
        "  return -sum(ll)\n",
        "end\n",
        "\n",
        "res = optimize(par -> llnb(par, x), [2, 0.5])\n",
        "res.minimizer"
      ],
      "metadata": {
        "colab": {
          "base_uri": "https://localhost:8080/"
        },
        "id": "SSLwLDL1kcaa",
        "outputId": "f08719f3-71ca-4842-a6d4-82aa44bad2e4"
      },
      "execution_count": 54,
      "outputs": [
        {
          "output_type": "execute_result",
          "data": {
            "text/plain": [
              "array([2.01360006, 0.40157958])"
            ]
          },
          "metadata": {},
          "execution_count": 54
        }
      ]
    },
    {
      "cell_type": "markdown",
      "source": [
        "Goodness of fit statistics"
      ],
      "metadata": {
        "id": "egyxA_bwmeom"
      }
    },
    {
      "cell_type": "code",
      "source": [
        "%%julia\n",
        "x_uniq_dict = sort(countmap(x))\n",
        "x_uniq_vals = Int.(keys(x_uniq_dict))\n",
        "x_uniq_counts = Int.(values(x_uniq_dict))\n",
        "params = res.minimizer\n",
        "est_pdf = pdf.(NegativeBinomial(params[1], params[2]), x_uniq_vals) ## not sum to 1 - rescale\n",
        "est_pdf = est_pdf ./ sum(est_pdf)"
      ],
      "metadata": {
        "colab": {
          "base_uri": "https://localhost:8080/"
        },
        "id": "b9TSRl6Vmh-L",
        "outputId": "91e3e011-4ddf-4cb0-87f1-29e2ed1e94ad"
      },
      "execution_count": 66,
      "outputs": [
        {
          "output_type": "execute_result",
          "data": {
            "text/plain": [
              "array([1583, 1969, 1699, 1356, 1025,  748,  565,  357,  244,  164,  111,\n",
              "         54,   45,   24,   23,   12,   11,    6,    2,    1,    1],\n",
              "      dtype=int64)"
            ]
          },
          "metadata": {},
          "execution_count": 66
        }
      ]
    },
    {
      "cell_type": "code",
      "source": [
        "%%julia\n",
        "ChisqTest(x_uniq_counts, est_pdf) ## this throws an error in colab"
      ],
      "metadata": {
        "id": "WqTuP8Ss3m69"
      },
      "execution_count": null,
      "outputs": []
    },
    {
      "cell_type": "markdown",
      "source": [
        "```julia\n",
        "julia> ChisqTest(x_uniq_counts, est_pdf)\n",
        "Pearson's Chi-square Test\n",
        "-------------------------\n",
        "Population details:\n",
        "    parameter of interest:   Multinomial Probabilities\n",
        "    value under h_0:         [0.159332, 0.191992, 0.173119, 0.138601, 0.103959, 0.0748225, 0.0523394, 0.0358562, 0.0241757, 0.0160966  …  0.00693355, 0.00449965, 0.00290263, 0.00186275, 0.00119003, 0.000757253, 0.000480175, 0.000303527, 0.000120296, 4.72388e-5]\n",
        "    point estimate:          [0.1583, 0.1969, 0.1699, 0.1356, 0.1025, 0.0748, 0.0565, 0.0357, 0.0244, 0.0164  …  0.0054, 0.0045, 0.0024, 0.0023, 0.0012, 0.0011, 0.0006, 0.0002, 0.0001, 0.0001]\n",
        "    95% confidence interval: [(0.1491, 0.1676), (0.1877, 0.2062), (0.1607, 0.1792), (0.1264, 0.1449), (0.0933, 0.1118), (0.0656, 0.0841), (0.0473, 0.0658), (0.0265, 0.045), (0.0152, 0.0337), (0.0072, 0.0257)  …  (0.0, 0.0147), (0.0, 0.0138), (0.0, 0.0117), (0.0, 0.0116), (0.0, 0.0105), (0.0, 0.0104), (0.0, 0.0099), (0.0, 0.0095), (0.0, 0.0094), (0.0, 0.0094)]\n",
        "\n",
        "Test summary:\n",
        "    outcome with 95% confidence: fail to reject h_0\n",
        "    one-sided p-value:           0.8037\n",
        "\n",
        "Details:\n",
        "    Sample size:        10000\n",
        "    statistic:          14.510593683125506\n",
        "    degrees of freedom: 20\n",
        "    residuals:          [-0.258657, 1.12004, -0.77377, -0.805987, -0.452445, -0.00822523, 1.81864, -0.082495, 0.144257, 0.239165  …  -1.84171, 0.000526521, -0.932932, 1.0131, 0.0288963, 1.24553, 0.546826, -0.594231, -0.185051, 0.767654]\n",
        "    std. residuals:     [-0.282106, 1.24602, -0.850924, -0.868412, -0.477971, -0.00855137, 1.86819, -0.0840149, 0.146033, 0.241114  …  -1.84813, 0.000527709, -0.934289, 1.01405, 0.0289135, 1.246, 0.546958, -0.594321, -0.185062, 0.767672]\n",
        "```"
      ],
      "metadata": {
        "id": "x5U_rhP2zFak"
      }
    },
    {
      "cell_type": "markdown",
      "source": [
        "Note that p-value is calculated wrongly as correct df is 18 not 20. So correct p-value is: "
      ],
      "metadata": {
        "id": "AWn0Qdrfqmsi"
      }
    },
    {
      "cell_type": "code",
      "source": [
        "%%julia\n",
        "1-cdf(Chisq(18), 14.510593683125506)"
      ],
      "metadata": {
        "colab": {
          "base_uri": "https://localhost:8080/"
        },
        "id": "PMnRSVQ8rune",
        "outputId": "8ad0ce83-489e-46b9-ec25-2e08b67059a5"
      },
      "execution_count": 72,
      "outputs": [
        {
          "output_type": "execute_result",
          "data": {
            "text/plain": [
              "0.6952513989555996"
            ]
          },
          "metadata": {},
          "execution_count": 72
        }
      ]
    }
  ]
}