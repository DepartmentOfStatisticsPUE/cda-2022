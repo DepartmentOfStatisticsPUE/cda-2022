{
  "nbformat": 4,
  "nbformat_minor": 0,
  "metadata": {
    "colab": {
      "name": "3-maxlik.ipynb",
      "provenance": [],
      "collapsed_sections": [],
      "authorship_tag": "ABX9TyPAzKb3mebqs9zwx7nUISgP",
      "include_colab_link": true
    },
    "kernelspec": {
      "name": "python3",
      "display_name": "Python 3"
    },
    "language_info": {
      "name": "python"
    }
  },
  "cells": [
    {
      "cell_type": "markdown",
      "metadata": {
        "id": "view-in-github",
        "colab_type": "text"
      },
      "source": [
        "<a href=\"https://colab.research.google.com/github/DepartmentOfStatisticsPUE/cda-2022/blob/main/notebooks/3_maxlik.ipynb\" target=\"_parent\"><img src=\"https://colab.research.google.com/assets/colab-badge.svg\" alt=\"Open In Colab\"/></a>"
      ]
    },
    {
      "cell_type": "markdown",
      "source": [
        "## Setup environment"
      ],
      "metadata": {
        "id": "eMsfxLOjKlZx"
      }
    },
    {
      "cell_type": "markdown",
      "source": [
        "### Python libraries"
      ],
      "metadata": {
        "id": "KEK0jKAsKsMT"
      }
    },
    {
      "cell_type": "code",
      "execution_count": 76,
      "metadata": {
        "id": "8F0ElKTqJ7es"
      },
      "outputs": [],
      "source": [
        "import scipy.stats as st\n",
        "import numpy as np\n",
        "import pandas as pd\n",
        "from scipy.optimize import minimize"
      ]
    },
    {
      "cell_type": "markdown",
      "source": [
        "## Setup R via Python"
      ],
      "metadata": {
        "id": "16RfmbcsLN3s"
      }
    },
    {
      "cell_type": "code",
      "source": [
        "%load_ext rpy2.ipython"
      ],
      "metadata": {
        "id": "GGfrhkDpLOO0"
      },
      "execution_count": 13,
      "outputs": []
    },
    {
      "cell_type": "code",
      "source": [
        "%%R\n",
        "install.packages(\"maxLik\")"
      ],
      "metadata": {
        "id": "WXns-mZCLWQm"
      },
      "execution_count": null,
      "outputs": []
    },
    {
      "cell_type": "code",
      "source": [
        "%%R\n",
        "library(maxLik)"
      ],
      "metadata": {
        "colab": {
          "base_uri": "https://localhost:8080/"
        },
        "id": "VsEkBGGULnlZ",
        "outputId": "d6398270-0c4f-410e-be6c-138af654c5d2"
      },
      "execution_count": 15,
      "outputs": [
        {
          "output_type": "stream",
          "name": "stderr",
          "text": [
            "R[write to console]: Loading required package: miscTools\n",
            "\n",
            "R[write to console]: \n",
            "Please cite the 'maxLik' package as:\n",
            "Henningsen, Arne and Toomet, Ott (2011). maxLik: A package for maximum likelihood estimation in R. Computational Statistics 26(3), 443-458. DOI 10.1007/s00180-010-0217-1.\n",
            "\n",
            "If you have questions, suggestions, or comments regarding the 'maxLik' package, please use a forum or 'tracker' at maxLik's R-Forge site:\n",
            "https://r-forge.r-project.org/projects/maxlik/\n",
            "\n"
          ]
        }
      ]
    },
    {
      "cell_type": "markdown",
      "source": [
        "## Setup Julia via Python"
      ],
      "metadata": {
        "id": "INy-Pn8MLSIP"
      }
    },
    {
      "cell_type": "code",
      "source": [
        "%%bash\n",
        "wget https://julialang-s3.julialang.org/bin/linux/x64/1.7/julia-1.7.2-linux-x86_64.tar.gz\n",
        "tar zxvf julia-1.7.2-linux-x86_64.tar.gz\n",
        "## pythons module\n",
        "pip install julia"
      ],
      "metadata": {
        "id": "RRkNID2hLO9X"
      },
      "execution_count": null,
      "outputs": []
    },
    {
      "cell_type": "code",
      "source": [
        "import julia\n",
        "julia.install(julia = \"/content/julia-1.7.2/bin/julia\")\n",
        "from julia import Julia\n",
        "jl = Julia(runtime=\"/content/julia-1.7.2/bin/julia\",compiled_modules=False)\n",
        "%load_ext julia.magic"
      ],
      "metadata": {
        "colab": {
          "base_uri": "https://localhost:8080/"
        },
        "id": "UoYH31SCL6xw",
        "outputId": "d72fb0b3-71c6-4a00-d9eb-d80dae4edc05"
      },
      "execution_count": 18,
      "outputs": [
        {
          "output_type": "stream",
          "name": "stderr",
          "text": [
            "\n",
            "Precompiling PyCall...\n",
            "Precompiling PyCall... DONE\n",
            "PyCall is installed and built successfully.\n",
            "\n",
            "PyCall is setup for non-default Julia runtime (executable) `/content/julia-1.7.2/bin/julia`.\n",
            "To use this Julia runtime, PyJulia has to be initialized first by\n",
            "    from julia import Julia\n",
            "    Julia(runtime='/content/julia-1.7.2/bin/julia')\n"
          ]
        },
        {
          "output_type": "stream",
          "name": "stdout",
          "text": [
            "Initializing Julia interpreter. This may take some time...\n"
          ]
        },
        {
          "output_type": "stream",
          "name": "stderr",
          "text": [
            "/usr/local/lib/python3.7/dist-packages/julia/magic.py:166: UserWarning: Incompatible upstream libraries. Got ImportError: No module named 'prompt_toolkit.lexers'\n",
            "  warnings.warn(template.format(err))\n",
            "/usr/local/lib/python3.7/dist-packages/julia/magic.py:174: UserWarning: Incompatible upstream libraries. Got ImportError: cannot import name 'Completion' from 'IPython.core.completer' (/usr/local/lib/python3.7/dist-packages/IPython/core/completer.py)\n",
            "  warnings.warn(template.format(err))\n"
          ]
        }
      ]
    },
    {
      "cell_type": "code",
      "source": [
        "%%julia\n",
        "using Pkg\n",
        "Pkg.add(\"Distributions\")\n",
        "Pkg.add(\"DataFrames\")\n",
        "Pkg.add(\"Optim\")\n",
        "using Distributions\n",
        "using DataFrames\n",
        "using Random\n",
        "using Optim\n",
        "Pkg.status()"
      ],
      "metadata": {
        "colab": {
          "base_uri": "https://localhost:8080/"
        },
        "id": "F-DK7RODL8xa",
        "outputId": "8e0d9e3b-c12d-4675-ecaa-2169084af29f"
      },
      "execution_count": 20,
      "outputs": [
        {
          "output_type": "stream",
          "name": "stderr",
          "text": [
            "   Resolving package versions...\n",
            "  No Changes to `~/.julia/environments/v1.7/Project.toml`\n",
            "  No Changes to `~/.julia/environments/v1.7/Manifest.toml`\n",
            "   Resolving package versions...\n",
            "  No Changes to `~/.julia/environments/v1.7/Project.toml`\n",
            "  No Changes to `~/.julia/environments/v1.7/Manifest.toml`\n",
            "   Resolving package versions...\n",
            "  No Changes to `~/.julia/environments/v1.7/Project.toml`\n",
            "  No Changes to `~/.julia/environments/v1.7/Manifest.toml`\n"
          ]
        },
        {
          "output_type": "stream",
          "name": "stdout",
          "text": [
            "      Status `~/.julia/environments/v1.7/Project.toml`\n",
            "  [a93c6f00] DataFrames v1.3.2\n",
            "  [31c24e10] Distributions v0.25.49\n",
            "  [429524aa] Optim v1.6.2\n",
            "  [438e738f] PyCall v1.93.1\n"
          ]
        }
      ]
    },
    {
      "cell_type": "markdown",
      "source": [
        "## Exercise -- zero-truncated Poisson distribution"
      ],
      "metadata": {
        "id": "WQYBqTJsLOwP"
      }
    },
    {
      "cell_type": "markdown",
      "source": [
        "We start with likelihood function\n",
        "\n",
        "\\begin{equation}\n",
        "    L = \\prod_i \\frac{\\lambda^x_i}{(e^\\lambda-1)x_i!},\n",
        "\\end{equation}\n",
        "\n",
        "then we compute log-likelihood\n",
        "\n",
        "\\begin{equation}\n",
        "   \\log L = \\sum_i x_i \\log \\lambda - \\sum_i \\log(e^\\lambda-1) - \\sum_i \\log(x_i!) \n",
        "\\end{equation}\n",
        "\n",
        "In order to get estimate of $\\lambda$ we need to calculate derivatives with respect to this parameter. Thus, gradient is given by \n",
        "\n",
        "\\begin{equation}\n",
        "    \\frac{\\partial \\log L}{\\partial \\lambda} = \\frac{\\sum_i x_i}{\\lambda} - \\frac{n e^\\lambda}{e^\\lambda - 1} = \n",
        "    \\frac{\\sum_i x_i}{\\lambda} - n \\frac{e^\\lambda}{e^\\lambda - 1}.    \n",
        "\\end{equation}\n",
        "\n",
        "We can also calculate second derivative (hessian)\n",
        "\n",
        "\\begin{equation}\n",
        "    \\frac{\\partial^2 \\log L}{\\partial \\lambda^2} =  - \\frac{\\sum_i x_i}{\\lambda^2} + n \\frac{e^\\lambda}{(e^\\lambda-1)^2}.\n",
        "\\end{equation}\n"
      ],
      "metadata": {
        "id": "YU4MD6jFMiiz"
      }
    },
    {
      "cell_type": "markdown",
      "source": [
        "## Solution in R"
      ],
      "metadata": {
        "id": "-VUWuFGcNRal"
      }
    },
    {
      "cell_type": "code",
      "source": [
        "%%R\n",
        "## log-likelihood function\n",
        "ll <- function(par, x) {\n",
        "  m <- sum(x)*log(par)-length(x)*log(exp(par)-1)\n",
        "  m\n",
        "}\n",
        "\n",
        "## gradient\n",
        "grad <- function(par, x)  {\n",
        "  g <- sum(x) / par - length(x)*exp(par)/(exp(par)-1)\n",
        "  g\n",
        "}\n",
        "\n",
        "\n",
        "## hessian\n",
        "hess <- function(par, x) {\n",
        "  h <- -sum(x)/par^2 + length(x)*exp(par)/(exp(par)-1)^2 \n",
        "  h\n",
        "}\n",
        "\n",
        "d <-  c(1645,183,37, 13,1,1)\n",
        "x <- rep(1:6,d)\n",
        "\n",
        "## with gradient and hessian\n",
        "res2 <- maxLik(logLik = ll,  grad = grad, \n",
        "            hess = hess, start = 1, x = x, method = \"NR\")\n",
        "\n",
        "summary(res2)"
      ],
      "metadata": {
        "colab": {
          "base_uri": "https://localhost:8080/"
        },
        "id": "ABtYiCpZMhpU",
        "outputId": "0b68a0ed-bc1b-4614-acc3-d1ea85fa4bf6"
      },
      "execution_count": 24,
      "outputs": [
        {
          "output_type": "stream",
          "name": "stdout",
          "text": [
            "--------------------------------------------\n",
            "Maximum Likelihood estimation\n",
            "Newton-Raphson maximisation, 6 iterations\n",
            "Return code 8: successive function values within relative tolerance limit (reltol)\n",
            "Log-Likelihood: -656.1294 \n",
            "1  free parameters\n",
            "Estimates:\n",
            "     Estimate Std. error t value Pr(> t)    \n",
            "[1,]  0.30862    0.01726   17.88  <2e-16 ***\n",
            "---\n",
            "Signif. codes:  0 ‘***’ 0.001 ‘**’ 0.01 ‘*’ 0.05 ‘.’ 0.1 ‘ ’ 1\n",
            "--------------------------------------------\n"
          ]
        }
      ]
    },
    {
      "cell_type": "markdown",
      "source": [
        "## Solution in Python"
      ],
      "metadata": {
        "id": "WktclUjkNW2X"
      }
    },
    {
      "cell_type": "code",
      "source": [
        "## python does minimization so we need to have -logL\n",
        "def ll(par,x):\n",
        "  m = np.sum(x)*np.log(par)-len(x)*np.log(np.exp(par)-1)\n",
        "  return -m\n",
        "\n",
        "## gradient\n",
        "def grad(par,x):\n",
        "  g = np.sum(x) / par - len(x)*np.exp(par)/(np.exp(par)-1)\n",
        "  return -g\n",
        "\n",
        "## hessian\n",
        "def hess(par,x):\n",
        "  h = -np.sum(x)/par**2 + len(x)*np.exp(par)/(np.exp(par)-1)**2 \n",
        "  return h\n",
        "\n",
        "d = np.array([1645,183,37, 13,1,1])\n",
        "x = np.repeat(np.arange(1,7), d)\n",
        "res = minimize(fun=ll, x0=[0.5], method = \"Newton-CG\", jac = grad, hess = hess, args = (x))\n",
        "res"
      ],
      "metadata": {
        "colab": {
          "base_uri": "https://localhost:8080/"
        },
        "id": "klY8KT_7NZEi",
        "outputId": "8a71ef53-e11a-42f5-b6fd-c9320359ad76"
      },
      "execution_count": 81,
      "outputs": [
        {
          "output_type": "execute_result",
          "data": {
            "text/plain": [
              "     fun: 656.1294299023266\n",
              "     jac: array([-0.00187348])\n",
              " message: 'Optimization terminated successfully.'\n",
              "    nfev: 7\n",
              "    nhev: 5\n",
              "     nit: 5\n",
              "    njev: 11\n",
              "  status: 0\n",
              " success: True\n",
              "       x: array([0.30861895])"
            ]
          },
          "metadata": {},
          "execution_count": 81
        }
      ]
    },
    {
      "cell_type": "markdown",
      "source": [
        "## Solution in Julia"
      ],
      "metadata": {
        "id": "D4b2KH6TRIbu"
      }
    },
    {
      "cell_type": "code",
      "source": [
        "%%julia\n",
        "## logL - minimization\n",
        "function ll(par, x)\n",
        "  par = par[1]\n",
        "  m = sum(x)*log(par)-length(x)*log(exp(par)-1)\n",
        "  return -m\n",
        "end\n",
        "\n",
        "\n",
        "## gradient\n",
        "function grad!(g,par,x) \n",
        "  par = par[1]\n",
        "  g[1] = sum(x) / par - length(x)*exp(par)/(exp(par)-1)\n",
        "  return -g\n",
        "end \n",
        "\n",
        "## hessian\n",
        "function hess!(h, par, x)\n",
        "  par = par[1]\n",
        "  h[1] = -sum(x)/par^2 + length(x)*exp(par)/(exp(par)-1)^2 \n",
        "  return h\n",
        "end"
      ],
      "metadata": {
        "colab": {
          "base_uri": "https://localhost:8080/"
        },
        "id": "FfzqugrON07i",
        "outputId": "aa5225ae-6858-4551-9293-1188468b06b5"
      },
      "execution_count": 114,
      "outputs": [
        {
          "output_type": "execute_result",
          "data": {
            "text/plain": [
              "<PyCall.jlwrap hess!>"
            ]
          },
          "metadata": {},
          "execution_count": 114
        }
      ]
    },
    {
      "cell_type": "code",
      "source": [
        "%%julia\n",
        "d = [1645,183,37, 13,1,1]\n",
        "x = vcat(fill.(1:6, d)...)\n",
        "optimize(par -> ll(par, x), [0.5])"
      ],
      "metadata": {
        "colab": {
          "base_uri": "https://localhost:8080/",
          "height": 1000
        },
        "id": "SqAr1FMQShGp",
        "outputId": "60c8f384-43ed-4b93-a6db-e79743ebfaca"
      },
      "execution_count": 115,
      "outputs": [
        {
          "output_type": "error",
          "ename": "RuntimeError",
          "evalue": "ignored",
          "traceback": [
            "\u001b[0;31m---------------------------------------------------------------------------\u001b[0m",
            "\u001b[0;31mRuntimeError\u001b[0m                              Traceback (most recent call last)",
            "\u001b[0;32m<ipython-input-115-720e2e287f03>\u001b[0m in \u001b[0;36m<module>\u001b[0;34m()\u001b[0m\n\u001b[0;32m----> 1\u001b[0;31m \u001b[0mget_ipython\u001b[0m\u001b[0;34m(\u001b[0m\u001b[0;34m)\u001b[0m\u001b[0;34m.\u001b[0m\u001b[0mrun_cell_magic\u001b[0m\u001b[0;34m(\u001b[0m\u001b[0;34m'julia'\u001b[0m\u001b[0;34m,\u001b[0m \u001b[0;34m''\u001b[0m\u001b[0;34m,\u001b[0m \u001b[0;34m'd = [1645,183,37, 13,1,1]\\nx = vcat(fill.(1:6, d)...)\\noptimize(par -> ll(par, x), [0.5])'\u001b[0m\u001b[0;34m)\u001b[0m\u001b[0;34m\u001b[0m\u001b[0;34m\u001b[0m\u001b[0m\n\u001b[0m",
            "\u001b[0;32m/usr/local/lib/python3.7/dist-packages/IPython/core/interactiveshell.py\u001b[0m in \u001b[0;36mrun_cell_magic\u001b[0;34m(self, magic_name, line, cell)\u001b[0m\n\u001b[1;32m   2115\u001b[0m             \u001b[0mmagic_arg_s\u001b[0m \u001b[0;34m=\u001b[0m \u001b[0mself\u001b[0m\u001b[0;34m.\u001b[0m\u001b[0mvar_expand\u001b[0m\u001b[0;34m(\u001b[0m\u001b[0mline\u001b[0m\u001b[0;34m,\u001b[0m \u001b[0mstack_depth\u001b[0m\u001b[0;34m)\u001b[0m\u001b[0;34m\u001b[0m\u001b[0;34m\u001b[0m\u001b[0m\n\u001b[1;32m   2116\u001b[0m             \u001b[0;32mwith\u001b[0m \u001b[0mself\u001b[0m\u001b[0;34m.\u001b[0m\u001b[0mbuiltin_trap\u001b[0m\u001b[0;34m:\u001b[0m\u001b[0;34m\u001b[0m\u001b[0;34m\u001b[0m\u001b[0m\n\u001b[0;32m-> 2117\u001b[0;31m                 \u001b[0mresult\u001b[0m \u001b[0;34m=\u001b[0m \u001b[0mfn\u001b[0m\u001b[0;34m(\u001b[0m\u001b[0mmagic_arg_s\u001b[0m\u001b[0;34m,\u001b[0m \u001b[0mcell\u001b[0m\u001b[0;34m)\u001b[0m\u001b[0;34m\u001b[0m\u001b[0;34m\u001b[0m\u001b[0m\n\u001b[0m\u001b[1;32m   2118\u001b[0m             \u001b[0;32mreturn\u001b[0m \u001b[0mresult\u001b[0m\u001b[0;34m\u001b[0m\u001b[0;34m\u001b[0m\u001b[0m\n\u001b[1;32m   2119\u001b[0m \u001b[0;34m\u001b[0m\u001b[0m\n",
            "\u001b[0;32m<decorator-gen-120>\u001b[0m in \u001b[0;36mjulia\u001b[0;34m(self, line, cell)\u001b[0m\n",
            "\u001b[0;32m/usr/local/lib/python3.7/dist-packages/IPython/core/magic.py\u001b[0m in \u001b[0;36m<lambda>\u001b[0;34m(f, *a, **k)\u001b[0m\n\u001b[1;32m    186\u001b[0m     \u001b[0;31m# but it's overkill for just that one bit of state.\u001b[0m\u001b[0;34m\u001b[0m\u001b[0;34m\u001b[0m\u001b[0;34m\u001b[0m\u001b[0m\n\u001b[1;32m    187\u001b[0m     \u001b[0;32mdef\u001b[0m \u001b[0mmagic_deco\u001b[0m\u001b[0;34m(\u001b[0m\u001b[0marg\u001b[0m\u001b[0;34m)\u001b[0m\u001b[0;34m:\u001b[0m\u001b[0;34m\u001b[0m\u001b[0;34m\u001b[0m\u001b[0m\n\u001b[0;32m--> 188\u001b[0;31m         \u001b[0mcall\u001b[0m \u001b[0;34m=\u001b[0m \u001b[0;32mlambda\u001b[0m \u001b[0mf\u001b[0m\u001b[0;34m,\u001b[0m \u001b[0;34m*\u001b[0m\u001b[0ma\u001b[0m\u001b[0;34m,\u001b[0m \u001b[0;34m**\u001b[0m\u001b[0mk\u001b[0m\u001b[0;34m:\u001b[0m \u001b[0mf\u001b[0m\u001b[0;34m(\u001b[0m\u001b[0;34m*\u001b[0m\u001b[0ma\u001b[0m\u001b[0;34m,\u001b[0m \u001b[0;34m**\u001b[0m\u001b[0mk\u001b[0m\u001b[0;34m)\u001b[0m\u001b[0;34m\u001b[0m\u001b[0;34m\u001b[0m\u001b[0m\n\u001b[0m\u001b[1;32m    189\u001b[0m \u001b[0;34m\u001b[0m\u001b[0m\n\u001b[1;32m    190\u001b[0m         \u001b[0;32mif\u001b[0m \u001b[0mcallable\u001b[0m\u001b[0;34m(\u001b[0m\u001b[0marg\u001b[0m\u001b[0;34m)\u001b[0m\u001b[0;34m:\u001b[0m\u001b[0;34m\u001b[0m\u001b[0;34m\u001b[0m\u001b[0m\n",
            "\u001b[0;32m/usr/local/lib/python3.7/dist-packages/julia/magic.py\u001b[0m in \u001b[0;36mjulia\u001b[0;34m(self, line, cell)\u001b[0m\n\u001b[1;32m    128\u001b[0m             \"\"\"\n\u001b[1;32m    129\u001b[0m             \u001b[0;34m%\u001b[0m \u001b[0;34m(\u001b[0m\u001b[0msrc\u001b[0m\u001b[0;34m,\u001b[0m \u001b[0mreturn_value\u001b[0m\u001b[0;34m)\u001b[0m\u001b[0;34m\u001b[0m\u001b[0;34m\u001b[0m\u001b[0m\n\u001b[0;32m--> 130\u001b[0;31m         )(self.shell.user_ns, caller_frame.f_locals)\n\u001b[0m\u001b[1;32m    131\u001b[0m \u001b[0;34m\u001b[0m\u001b[0m\n\u001b[1;32m    132\u001b[0m \u001b[0;34m\u001b[0m\u001b[0m\n",
            "\u001b[0;31mRuntimeError\u001b[0m: <PyCall.jlwrap (in a Julia function called from Python)\nJULIA: DomainError with -0.32500000000000007:\nlog will only return a complex result if called with a complex argument. Try log(Complex(x)).\nStacktrace:\n  [1] throw_complex_domainerror(f::Symbol, x::Float64)\n    @ Base.Math ./math.jl:33\n  [2] _log(x::Float64, base::Val{:ℯ}, func::Symbol)\n    @ Base.Math ./special/log.jl:304\n  [3] log\n    @ ./special/log.jl:269 [inlined]\n  [4] ll(par::Vector{Float64}, x::Vector{Int64})\n    @ Main ./none:6\n  [5] (::var\"#93#94\")(par::Vector{Float64})\n    @ Main ./none:5\n  [6] value(obj::NonDifferentiable{Float64, Vector{Float64}}, x::Vector{Float64})\n    @ NLSolversBase ~/.julia/packages/NLSolversBase/cfJrN/src/interface.jl:19\n  [7] update_state!(f::NonDifferentiable{Float64, Vector{Float64}}, state::Optim.NelderMeadState{Vector{Float64}, Float64, Vector{Float64}}, method::NelderMead{Optim.AffineSimplexer, Optim.AdaptiveParameters})\n    @ Optim ~/.julia/packages/Optim/wFOeG/src/multivariate/solvers/zeroth_order/nelder_mead.jl:224\n  [8] optimize(d::NonDifferentiable{Float64, Vector{Float64}}, initial_x::Vector{Float64}, method::NelderMead{Optim.AffineSimplexer, Optim.AdaptiveParameters}, options::Optim.Options{Float64, Nothing}, state::Optim.NelderMeadState{Vector{Float64}, Float64, Vector{Float64}})\n    @ Optim ~/.julia/packages/Optim/wFOeG/src/multivariate/optimize/optimize.jl:54\n  [9] optimize(d::NonDifferentiable{Float64, Vector{Float64}}, initial_x::Vector{Float64}, method::NelderMead{Optim.AffineSimplexer, Optim.AdaptiveParameters}, options::Optim.Options{Float64, Nothing})\n    @ Optim ~/.julia/packages/Optim/wFOeG/src/multivariate/optimize/optimize.jl:36\n [10] optimize(f::Function, initial_x::Vector{Float64}; inplace::Bool, autodiff::Symbol, kwargs::Base.Pairs{Symbol, Union{}, Tuple{}, NamedTuple{(), Tuple{}}})\n    @ Optim ~/.julia/packages/Optim/wFOeG/src/multivariate/optimize/interface.jl:90\n [11] optimize(f::Function, initial_x::Vector{Float64})\n    @ Optim ~/.julia/packages/Optim/wFOeG/src/multivariate/optimize/interface.jl:84\n [12] top-level scope\n    @ none:5\n [13] eval\n    @ ./boot.jl:373 [inlined]\n [14] eval\n    @ ./Base.jl:68 [inlined]\n [15] (::var\"#91#92\")(globals::PyObject, locals::PyObject)\n    @ Main /usr/local/lib/python3.7/dist-packages/julia/pyjulia_helper.jl:91\n [16] (::PyCall.FuncWrapper{Tuple{PyObject, PyObject}, var\"#91#92\"})(::PyObject, ::Vararg{PyObject}; kws::Base.Pairs{Symbol, Union{}, Tuple{}, NamedTuple{(), Tuple{}}})\n    @ PyCall ~/.julia/packages/PyCall/7a7w0/src/callback.jl:56\n [17] (::PyCall.FuncWrapper{Tuple{PyObject, PyObject}, var\"#91#92\"})(::PyObject, ::Vararg{PyObject})\n    @ PyCall ~/.julia/packages/PyCall/7a7w0/src/callback.jl:56\n [18] invokelatest(::Any, ::Any, ::Vararg{Any}; kwargs::Base.Pairs{Symbol, Union{}, Tuple{}, NamedTuple{(), Tuple{}}})\n    @ Base ./essentials.jl:716\n [19] invokelatest(::Any, ::Any, ::Vararg{Any})\n    @ Base ./essentials.jl:714\n [20] _pyjlwrap_call(f::PyCall.FuncWrapper{Tuple{PyObject, PyObject}, var\"#91#92\"}, args_::Ptr{PyCall.PyObject_struct}, kw_::Ptr{PyCall.PyObject_struct})\n    @ PyCall ~/.julia/packages/PyCall/7a7w0/src/callback.jl:28\n [21] pyjlwrap_call(self_::Ptr{PyCall.PyObject_struct}, args_::Ptr{PyCall.PyObject_struct}, kw_::Ptr{PyCall.PyObject_struct})\n    @ PyCall ~/.julia/packages/PyCall/7a7w0/src/callback.jl:44>"
          ]
        }
      ]
    }
  ]
}