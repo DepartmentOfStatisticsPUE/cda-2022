{
  "nbformat": 4,
  "nbformat_minor": 0,
  "metadata": {
    "colab": {
      "name": "3-maxlik.ipynb",
      "provenance": [],
      "collapsed_sections": [],
      "authorship_tag": "ABX9TyPN4FB6wl7Wlrm2LIGj12bH",
      "include_colab_link": true
    },
    "kernelspec": {
      "name": "python3",
      "display_name": "Python 3"
    },
    "language_info": {
      "name": "python"
    }
  },
  "cells": [
    {
      "cell_type": "markdown",
      "metadata": {
        "id": "view-in-github",
        "colab_type": "text"
      },
      "source": [
        "<a href=\"https://colab.research.google.com/github/DepartmentOfStatisticsPUE/cda-2022/blob/main/notebooks/3_maxlik.ipynb\" target=\"_parent\"><img src=\"https://colab.research.google.com/assets/colab-badge.svg\" alt=\"Open In Colab\"/></a>"
      ]
    },
    {
      "cell_type": "markdown",
      "source": [
        "## Setup environment"
      ],
      "metadata": {
        "id": "eMsfxLOjKlZx"
      }
    },
    {
      "cell_type": "markdown",
      "source": [
        "### Python libraries"
      ],
      "metadata": {
        "id": "KEK0jKAsKsMT"
      }
    },
    {
      "cell_type": "code",
      "execution_count": 2,
      "metadata": {
        "id": "8F0ElKTqJ7es"
      },
      "outputs": [],
      "source": [
        "import scipy.stats as st\n",
        "import numpy as np\n",
        "import pandas as pd\n",
        "from scipy.optimize import minimize"
      ]
    },
    {
      "cell_type": "markdown",
      "source": [
        "## Setup R via Python"
      ],
      "metadata": {
        "id": "16RfmbcsLN3s"
      }
    },
    {
      "cell_type": "code",
      "source": [
        "%load_ext rpy2.ipython"
      ],
      "metadata": {
        "id": "GGfrhkDpLOO0"
      },
      "execution_count": 3,
      "outputs": []
    },
    {
      "cell_type": "code",
      "source": [
        "%%R\n",
        "install.packages(\"maxLik\")"
      ],
      "metadata": {
        "id": "WXns-mZCLWQm"
      },
      "execution_count": null,
      "outputs": []
    },
    {
      "cell_type": "code",
      "source": [
        "%%R\n",
        "library(maxLik)"
      ],
      "metadata": {
        "colab": {
          "base_uri": "https://localhost:8080/"
        },
        "id": "VsEkBGGULnlZ",
        "outputId": "20f2502e-7054-455c-c3ab-ec38dbaffd59"
      },
      "execution_count": 5,
      "outputs": [
        {
          "output_type": "stream",
          "name": "stderr",
          "text": [
            "R[write to console]: Loading required package: miscTools\n",
            "\n",
            "R[write to console]: \n",
            "Please cite the 'maxLik' package as:\n",
            "Henningsen, Arne and Toomet, Ott (2011). maxLik: A package for maximum likelihood estimation in R. Computational Statistics 26(3), 443-458. DOI 10.1007/s00180-010-0217-1.\n",
            "\n",
            "If you have questions, suggestions, or comments regarding the 'maxLik' package, please use a forum or 'tracker' at maxLik's R-Forge site:\n",
            "https://r-forge.r-project.org/projects/maxlik/\n",
            "\n"
          ]
        }
      ]
    },
    {
      "cell_type": "markdown",
      "source": [
        "## Setup Julia via Python"
      ],
      "metadata": {
        "id": "INy-Pn8MLSIP"
      }
    },
    {
      "cell_type": "code",
      "source": [
        "%%bash\n",
        "wget https://julialang-s3.julialang.org/bin/linux/x64/1.7/julia-1.7.2-linux-x86_64.tar.gz\n",
        "tar zxvf julia-1.7.2-linux-x86_64.tar.gz\n",
        "## pythons module\n",
        "pip install julia"
      ],
      "metadata": {
        "id": "RRkNID2hLO9X"
      },
      "execution_count": null,
      "outputs": []
    },
    {
      "cell_type": "code",
      "source": [
        "import julia\n",
        "julia.install(julia = \"/content/julia-1.7.2/bin/julia\")\n",
        "from julia import Julia\n",
        "jl = Julia(runtime=\"/content/julia-1.7.2/bin/julia\",compiled_modules=False)\n",
        "%load_ext julia.magic"
      ],
      "metadata": {
        "colab": {
          "base_uri": "https://localhost:8080/"
        },
        "id": "UoYH31SCL6xw",
        "outputId": "7fbd1bb1-acc3-47d7-891d-3de730d28379"
      },
      "execution_count": 7,
      "outputs": [
        {
          "output_type": "stream",
          "name": "stderr",
          "text": [
            "\n",
            "Precompiling PyCall...\n",
            "Precompiling PyCall... DONE\n",
            "PyCall is installed and built successfully.\n",
            "\n",
            "PyCall is setup for non-default Julia runtime (executable) `/content/julia-1.7.2/bin/julia`.\n",
            "To use this Julia runtime, PyJulia has to be initialized first by\n",
            "    from julia import Julia\n",
            "    Julia(runtime='/content/julia-1.7.2/bin/julia')\n"
          ]
        },
        {
          "output_type": "stream",
          "name": "stdout",
          "text": [
            "Initializing Julia interpreter. This may take some time...\n"
          ]
        },
        {
          "output_type": "stream",
          "name": "stderr",
          "text": [
            "/usr/local/lib/python3.7/dist-packages/julia/magic.py:166: UserWarning: Incompatible upstream libraries. Got ImportError: No module named 'prompt_toolkit.lexers'\n",
            "  warnings.warn(template.format(err))\n",
            "/usr/local/lib/python3.7/dist-packages/julia/magic.py:174: UserWarning: Incompatible upstream libraries. Got ImportError: cannot import name 'Completion' from 'IPython.core.completer' (/usr/local/lib/python3.7/dist-packages/IPython/core/completer.py)\n",
            "  warnings.warn(template.format(err))\n"
          ]
        }
      ]
    },
    {
      "cell_type": "code",
      "source": [
        "%%julia\n",
        "using Pkg\n",
        "Pkg.add(\"Distributions\")\n",
        "Pkg.add(\"DataFrames\")\n",
        "Pkg.add(\"Optim\")\n",
        "using Distributions\n",
        "using DataFrames\n",
        "using Random\n",
        "using Optim\n",
        "Pkg.status()"
      ],
      "metadata": {
        "id": "F-DK7RODL8xa"
      },
      "execution_count": null,
      "outputs": []
    },
    {
      "cell_type": "markdown",
      "source": [
        "## Exercise -- zero-truncated Poisson distribution"
      ],
      "metadata": {
        "id": "WQYBqTJsLOwP"
      }
    },
    {
      "cell_type": "markdown",
      "source": [
        "We start with likelihood function\n",
        "\n",
        "\\begin{equation}\n",
        "    L = \\prod_i \\frac{\\lambda^x_i}{(e^\\lambda-1)x_i!},\n",
        "\\end{equation}\n",
        "\n",
        "then we compute log-likelihood\n",
        "\n",
        "\\begin{equation}\n",
        "   \\log L = \\sum_i x_i \\log \\lambda - \\sum_i \\log(e^\\lambda-1) - \\sum_i \\log(x_i!) \n",
        "\\end{equation}\n",
        "\n",
        "In order to get estimate of $\\lambda$ we need to calculate derivatives with respect to this parameter. Thus, gradient is given by \n",
        "\n",
        "\\begin{equation}\n",
        "    \\frac{\\partial \\log L}{\\partial \\lambda} = \\frac{\\sum_i x_i}{\\lambda} - \\frac{n e^\\lambda}{e^\\lambda - 1} = \n",
        "    \\frac{\\sum_i x_i}{\\lambda} - n \\frac{e^\\lambda}{e^\\lambda - 1}.    \n",
        "\\end{equation}\n",
        "\n",
        "We can also calculate second derivative (hessian)\n",
        "\n",
        "\\begin{equation}\n",
        "    \\frac{\\partial^2 \\log L}{\\partial \\lambda^2} =  - \\frac{\\sum_i x_i}{\\lambda^2} + n \\frac{e^\\lambda}{(e^\\lambda-1)^2}.\n",
        "\\end{equation}\n"
      ],
      "metadata": {
        "id": "YU4MD6jFMiiz"
      }
    },
    {
      "cell_type": "markdown",
      "source": [
        "## Solution in R"
      ],
      "metadata": {
        "id": "-VUWuFGcNRal"
      }
    },
    {
      "cell_type": "code",
      "source": [
        "%%R\n",
        "## log-likelihood function\n",
        "ll <- function(par, x) {\n",
        "  m <- sum(x)*log(par)-length(x)*log(exp(par)-1)\n",
        "  m\n",
        "}\n",
        "\n",
        "## gradient\n",
        "grad <- function(par, x)  {\n",
        "  g <- sum(x) / par - length(x)*exp(par)/(exp(par)-1)\n",
        "  g\n",
        "}\n",
        "\n",
        "\n",
        "## hessian\n",
        "hess <- function(par, x) {\n",
        "  h <- -sum(x)/par^2 + length(x)*exp(par)/(exp(par)-1)^2 \n",
        "  h\n",
        "}\n",
        "\n",
        "d <-  c(1645,183,37, 13,1,1)\n",
        "x <- rep(1:6,d)\n",
        "\n",
        "## with gradient and hessian\n",
        "res2 <- maxLik(logLik = ll,  grad = grad, \n",
        "            hess = hess, start = 1, x = x, method = \"NR\")\n",
        "\n",
        "summary(res2)"
      ],
      "metadata": {
        "colab": {
          "base_uri": "https://localhost:8080/"
        },
        "id": "ABtYiCpZMhpU",
        "outputId": "0f6bf4ea-293d-4fbd-a9cb-0983d4e42bcb"
      },
      "execution_count": 9,
      "outputs": [
        {
          "output_type": "stream",
          "name": "stdout",
          "text": [
            "--------------------------------------------\n",
            "Maximum Likelihood estimation\n",
            "Newton-Raphson maximisation, 6 iterations\n",
            "Return code 8: successive function values within relative tolerance limit (reltol)\n",
            "Log-Likelihood: -656.1294 \n",
            "1  free parameters\n",
            "Estimates:\n",
            "     Estimate Std. error t value Pr(> t)    \n",
            "[1,]  0.30862    0.01726   17.88  <2e-16 ***\n",
            "---\n",
            "Signif. codes:  0 ‘***’ 0.001 ‘**’ 0.01 ‘*’ 0.05 ‘.’ 0.1 ‘ ’ 1\n",
            "--------------------------------------------\n"
          ]
        }
      ]
    },
    {
      "cell_type": "markdown",
      "source": [
        "## Solution in Python"
      ],
      "metadata": {
        "id": "WktclUjkNW2X"
      }
    },
    {
      "cell_type": "code",
      "source": [
        "## python does minimization so we need to have -logL\n",
        "def ll(par,x):\n",
        "  m = np.sum(x)*np.log(par)-len(x)*np.log(np.exp(par)-1)\n",
        "  return -m\n",
        "\n",
        "## gradient\n",
        "def grad(par,x):\n",
        "  g = np.sum(x) / par - len(x)*np.exp(par)/(np.exp(par)-1)\n",
        "  return -g\n",
        "\n",
        "## hessian\n",
        "def hess(par,x):\n",
        "  h = -np.sum(x)/par**2 + len(x)*np.exp(par)/(np.exp(par)-1)**2 \n",
        "  return h\n",
        "\n",
        "d = np.array([1645,183,37, 13,1,1])\n",
        "x = np.repeat(np.arange(1,7), d)\n",
        "res = minimize(fun=ll, x0=[0.5], method = \"Newton-CG\", jac = grad, hess = hess, args = (x))\n",
        "res"
      ],
      "metadata": {
        "colab": {
          "base_uri": "https://localhost:8080/"
        },
        "id": "klY8KT_7NZEi",
        "outputId": "bc8d5663-bdef-49e4-fcde-6db7588f93f4"
      },
      "execution_count": 10,
      "outputs": [
        {
          "output_type": "execute_result",
          "data": {
            "text/plain": [
              "     fun: 656.1294299023266\n",
              "     jac: array([-0.00187348])\n",
              " message: 'Optimization terminated successfully.'\n",
              "    nfev: 7\n",
              "    nhev: 5\n",
              "     nit: 5\n",
              "    njev: 11\n",
              "  status: 0\n",
              " success: True\n",
              "       x: array([0.30861895])"
            ]
          },
          "metadata": {},
          "execution_count": 10
        }
      ]
    },
    {
      "cell_type": "markdown",
      "source": [
        "## Solution in Julia"
      ],
      "metadata": {
        "id": "D4b2KH6TRIbu"
      }
    },
    {
      "cell_type": "code",
      "source": [
        "%%julia\n",
        "## logL - minimization\n",
        "function ll(par, x)\n",
        "  par = par[1]\n",
        "  m = sum(x)*log(par)-length(x)*log(exp(par)-1)\n",
        "  return -m\n",
        "end\n",
        "\n",
        "\n",
        "## gradient\n",
        "function grad!(G,par,x) \n",
        "  par = par[1]\n",
        "  G[1] = -(sum(x) / par - length(x)*exp(par)/(exp(par)-1))\n",
        "  return G\n",
        "end \n",
        "\n",
        "## hessian\n",
        "function hess!(H,par, x)\n",
        "  par = par[1]\n",
        "  H[1] = -sum(x)/par^2 + length(x)*exp(par)/(exp(par)-1)^2 \n",
        "  return H\n",
        "end"
      ],
      "metadata": {
        "colab": {
          "base_uri": "https://localhost:8080/"
        },
        "id": "FfzqugrON07i",
        "outputId": "c9fdb901-ead0-4720-ef24-fcc07e39974d"
      },
      "execution_count": 15,
      "outputs": [
        {
          "output_type": "execute_result",
          "data": {
            "text/plain": [
              "<PyCall.jlwrap hess!>"
            ]
          },
          "metadata": {},
          "execution_count": 15
        }
      ]
    },
    {
      "cell_type": "code",
      "source": [
        "%%julia\n",
        "d = [1645,183,37, 13,1,1]\n",
        "x = vcat(fill.(1:6, d)...)\n",
        "fun_opt = TwiceDifferentiable(par -> ll(par, x), \n",
        "                              (G, par) -> grad!(G, par, x), \n",
        "                              (H, par) -> hess!(H, par, x), \n",
        "                              [0.5])\n",
        "\n",
        "res = optimize(fun_opt, [0.5])"
      ],
      "metadata": {
        "colab": {
          "base_uri": "https://localhost:8080/"
        },
        "id": "SqAr1FMQShGp",
        "outputId": "d6c64591-4d47-40db-adfb-794d9134c8a3"
      },
      "execution_count": 16,
      "outputs": [
        {
          "output_type": "execute_result",
          "data": {
            "text/plain": [
              "<PyCall.jlwrap  * Status: success\n",
              "\n",
              " * Candidate solution\n",
              "    Final objective value:     6.561294e+02\n",
              "\n",
              " * Found with\n",
              "    Algorithm:     Newton's Method\n",
              "\n",
              " * Convergence measures\n",
              "    |x - x'|               = 1.06e-07 ≰ 0.0e+00\n",
              "    |x - x'|/|x'|          = 3.44e-07 ≰ 0.0e+00\n",
              "    |f(x) - f(x')|         = 1.96e-11 ≰ 0.0e+00\n",
              "    |f(x) - f(x')|/|f(x')| = 2.98e-14 ≰ 0.0e+00\n",
              "    |g(x)|                 = 0.00e+00 ≤ 1.0e-08\n",
              "\n",
              " * Work counters\n",
              "    Seconds run:   0  (vs limit Inf)\n",
              "    Iterations:    4\n",
              "    f(x) calls:    9\n",
              "    ∇f(x) calls:   9\n",
              "    ∇²f(x) calls:  4\n",
              ">"
            ]
          },
          "metadata": {},
          "execution_count": 16
        }
      ]
    },
    {
      "cell_type": "code",
      "source": [
        "%%julia\n",
        "Optim.minimizer(res)"
      ],
      "metadata": {
        "colab": {
          "base_uri": "https://localhost:8080/"
        },
        "id": "F63kzLHRzmf8",
        "outputId": "e128f486-9b12-4f6a-c329-b61910ef4196"
      },
      "execution_count": 17,
      "outputs": [
        {
          "output_type": "execute_result",
          "data": {
            "text/plain": [
              "array([0.30861895])"
            ]
          },
          "metadata": {},
          "execution_count": 17
        }
      ]
    }
  ]
}