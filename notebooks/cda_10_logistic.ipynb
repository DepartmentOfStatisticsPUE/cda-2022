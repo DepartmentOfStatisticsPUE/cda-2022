{
  "nbformat": 4,
  "nbformat_minor": 0,
  "metadata": {
    "colab": {
      "name": "cda_10_logistic.ipynb",
      "provenance": [],
      "collapsed_sections": [],
      "authorship_tag": "ABX9TyO568orlDDhsINSPcj0lkQa",
      "include_colab_link": true
    },
    "kernelspec": {
      "name": "python3",
      "display_name": "Python 3"
    },
    "language_info": {
      "name": "python"
    }
  },
  "cells": [
    {
      "cell_type": "markdown",
      "metadata": {
        "id": "view-in-github",
        "colab_type": "text"
      },
      "source": [
        "<a href=\"https://colab.research.google.com/github/DepartmentOfStatisticsPUE/cda-2022/blob/main/notebooks/cda_10_logistic.ipynb\" target=\"_parent\"><img src=\"https://colab.research.google.com/assets/colab-badge.svg\" alt=\"Open In Colab\"/></a>"
      ]
    },
    {
      "cell_type": "markdown",
      "source": [
        "## Setup"
      ],
      "metadata": {
        "id": "fYLa2Bl6pXf9"
      }
    },
    {
      "cell_type": "markdown",
      "source": [
        "Python"
      ],
      "metadata": {
        "id": "drTc2OBiqbWN"
      }
    },
    {
      "cell_type": "code",
      "execution_count": 2,
      "metadata": {
        "colab": {
          "base_uri": "https://localhost:8080/"
        },
        "id": "cuqMLtG6pEYK",
        "outputId": "d035034f-6dc6-4b24-9abf-ecf9c33f45d2"
      },
      "outputs": [
        {
          "output_type": "stream",
          "name": "stderr",
          "text": [
            "/usr/local/lib/python3.7/dist-packages/statsmodels/tools/_testing.py:19: FutureWarning: pandas.util.testing is deprecated. Use the functions in the public API at pandas.testing instead.\n",
            "  import pandas.util.testing as tm\n"
          ]
        }
      ],
      "source": [
        "import pandas as pd\n",
        "import numpy as np\n",
        "import statsmodels.api as sm\n",
        "import statsmodels.formula.api as smf"
      ]
    },
    {
      "cell_type": "markdown",
      "source": [
        "R"
      ],
      "metadata": {
        "id": "VOo39oJNpaDj"
      }
    },
    {
      "cell_type": "code",
      "source": [
        "%load_ext rpy2.ipython"
      ],
      "metadata": {
        "id": "6lCHYaKGpWzr"
      },
      "execution_count": 1,
      "outputs": []
    },
    {
      "cell_type": "code",
      "source": [
        "%%R\n",
        "install.packages(\"car\")"
      ],
      "metadata": {
        "id": "opp1K4_Ypbr1"
      },
      "execution_count": null,
      "outputs": []
    },
    {
      "cell_type": "code",
      "source": [
        "%%R\n",
        "library(car)"
      ],
      "metadata": {
        "id": "fR_3THYTqWSA",
        "colab": {
          "base_uri": "https://localhost:8080/"
        },
        "outputId": "331bb622-8a0b-403c-bb03-969dbf331ce8"
      },
      "execution_count": 4,
      "outputs": [
        {
          "output_type": "stream",
          "name": "stderr",
          "text": [
            "R[write to console]: Loading required package: carData\n",
            "\n"
          ]
        }
      ]
    },
    {
      "cell_type": "markdown",
      "source": [
        "Julia"
      ],
      "metadata": {
        "id": "rouN-SsHqen0"
      }
    },
    {
      "cell_type": "code",
      "source": [
        "%%bash\n",
        "wget -q https://julialang-s3.julialang.org/bin/linux/x64/1.7/julia-1.7.2-linux-x86_64.tar.gz\n",
        "tar zxvf julia-1.7.2-linux-x86_64.tar.gz\n",
        "## python's module\n",
        "pip install julia"
      ],
      "metadata": {
        "id": "fGIgc86NvXRj"
      },
      "execution_count": null,
      "outputs": []
    },
    {
      "cell_type": "code",
      "source": [
        "import julia\n",
        "julia.install(julia = \"/content/julia-1.7.2/bin/julia\")\n",
        "from julia import Julia\n",
        "jl = Julia(runtime=\"/content/julia-1.7.2/bin/julia\",compiled_modules=False)\n",
        "%load_ext julia.magic"
      ],
      "metadata": {
        "colab": {
          "base_uri": "https://localhost:8080/"
        },
        "id": "QAPOB2pbvXyL",
        "outputId": "e483c785-8851-43d0-a0d5-64e8f76c9ee3"
      },
      "execution_count": 6,
      "outputs": [
        {
          "output_type": "stream",
          "name": "stderr",
          "text": [
            "\n",
            "Precompiling PyCall...\n",
            "Precompiling PyCall... DONE\n",
            "PyCall is installed and built successfully.\n",
            "\n",
            "PyCall is setup for non-default Julia runtime (executable) `/content/julia-1.7.2/bin/julia`.\n",
            "To use this Julia runtime, PyJulia has to be initialized first by\n",
            "    from julia import Julia\n",
            "    Julia(runtime='/content/julia-1.7.2/bin/julia')\n"
          ]
        },
        {
          "output_type": "stream",
          "name": "stdout",
          "text": [
            "Initializing Julia interpreter. This may take some time...\n"
          ]
        },
        {
          "output_type": "stream",
          "name": "stderr",
          "text": [
            "/usr/local/lib/python3.7/dist-packages/julia/magic.py:166: UserWarning: Incompatible upstream libraries. Got ImportError: No module named 'prompt_toolkit.lexers'\n",
            "  warnings.warn(template.format(err))\n",
            "/usr/local/lib/python3.7/dist-packages/julia/magic.py:174: UserWarning: Incompatible upstream libraries. Got ImportError: cannot import name 'Completion' from 'IPython.core.completer' (/usr/local/lib/python3.7/dist-packages/IPython/core/completer.py)\n",
            "  warnings.warn(template.format(err))\n"
          ]
        }
      ]
    },
    {
      "cell_type": "code",
      "source": [
        "%%julia\n",
        "using Pkg\n",
        "Pkg.add(\"StatsBase\")\n",
        "Pkg.add(\"GLM\")\n",
        "Pkg.add(\"DataFrames\")\n",
        "Pkg.add(\"CategoricalArrays\")\n",
        "Pkg.add(\"CSV\")"
      ],
      "metadata": {
        "id": "4sE4Ef8Hvbn4"
      },
      "execution_count": null,
      "outputs": []
    },
    {
      "cell_type": "code",
      "source": [
        "%%julia\n",
        "using StatsBase\n",
        "using GLM\n",
        "using CategoricalArrays\n",
        "using Statistics\n",
        "using CSV\n",
        "using DataFrames"
      ],
      "metadata": {
        "id": "0oW8OsnHvf58"
      },
      "execution_count": 8,
      "outputs": []
    },
    {
      "cell_type": "markdown",
      "source": [
        "## Solutions"
      ],
      "metadata": {
        "id": "6erfCZ0TqYMJ"
      }
    },
    {
      "cell_type": "markdown",
      "source": [
        "### First example using aggregated data"
      ],
      "metadata": {
        "id": "KbjVYlDNqp-J"
      }
    },
    {
      "cell_type": "markdown",
      "source": [
        "Using Python. We need to create an incercept because we will use matrix notation instead of formula."
      ],
      "metadata": {
        "id": "DIpAXvJrrIvF"
      }
    },
    {
      "cell_type": "code",
      "source": [
        "df = pd.DataFrame({\"gender\": [\"females\", \"males\"], \"bought\":[243, 48], \"notbought\": [30,240]})\n",
        "df[\"intercept\"] = 1\n",
        "df[\"males\"] = np.where(df[\"gender\"] == \"males\", 1, 0)\n",
        "df"
      ],
      "metadata": {
        "colab": {
          "base_uri": "https://localhost:8080/",
          "height": 112
        },
        "id": "oE7knIbKrKHH",
        "outputId": "1521d8ba-a6f3-4036-ff57-cd30cea3e17e"
      },
      "execution_count": 9,
      "outputs": [
        {
          "output_type": "execute_result",
          "data": {
            "text/plain": [
              "    gender  bought  notbought  intercept  males\n",
              "0  females     243         30          1      0\n",
              "1    males      48        240          1      1"
            ],
            "text/html": [
              "\n",
              "  <div id=\"df-1dc988a3-ab46-4a09-9c57-9194fe076c78\">\n",
              "    <div class=\"colab-df-container\">\n",
              "      <div>\n",
              "<style scoped>\n",
              "    .dataframe tbody tr th:only-of-type {\n",
              "        vertical-align: middle;\n",
              "    }\n",
              "\n",
              "    .dataframe tbody tr th {\n",
              "        vertical-align: top;\n",
              "    }\n",
              "\n",
              "    .dataframe thead th {\n",
              "        text-align: right;\n",
              "    }\n",
              "</style>\n",
              "<table border=\"1\" class=\"dataframe\">\n",
              "  <thead>\n",
              "    <tr style=\"text-align: right;\">\n",
              "      <th></th>\n",
              "      <th>gender</th>\n",
              "      <th>bought</th>\n",
              "      <th>notbought</th>\n",
              "      <th>intercept</th>\n",
              "      <th>males</th>\n",
              "    </tr>\n",
              "  </thead>\n",
              "  <tbody>\n",
              "    <tr>\n",
              "      <th>0</th>\n",
              "      <td>females</td>\n",
              "      <td>243</td>\n",
              "      <td>30</td>\n",
              "      <td>1</td>\n",
              "      <td>0</td>\n",
              "    </tr>\n",
              "    <tr>\n",
              "      <th>1</th>\n",
              "      <td>males</td>\n",
              "      <td>48</td>\n",
              "      <td>240</td>\n",
              "      <td>1</td>\n",
              "      <td>1</td>\n",
              "    </tr>\n",
              "  </tbody>\n",
              "</table>\n",
              "</div>\n",
              "      <button class=\"colab-df-convert\" onclick=\"convertToInteractive('df-1dc988a3-ab46-4a09-9c57-9194fe076c78')\"\n",
              "              title=\"Convert this dataframe to an interactive table.\"\n",
              "              style=\"display:none;\">\n",
              "        \n",
              "  <svg xmlns=\"http://www.w3.org/2000/svg\" height=\"24px\"viewBox=\"0 0 24 24\"\n",
              "       width=\"24px\">\n",
              "    <path d=\"M0 0h24v24H0V0z\" fill=\"none\"/>\n",
              "    <path d=\"M18.56 5.44l.94 2.06.94-2.06 2.06-.94-2.06-.94-.94-2.06-.94 2.06-2.06.94zm-11 1L8.5 8.5l.94-2.06 2.06-.94-2.06-.94L8.5 2.5l-.94 2.06-2.06.94zm10 10l.94 2.06.94-2.06 2.06-.94-2.06-.94-.94-2.06-.94 2.06-2.06.94z\"/><path d=\"M17.41 7.96l-1.37-1.37c-.4-.4-.92-.59-1.43-.59-.52 0-1.04.2-1.43.59L10.3 9.45l-7.72 7.72c-.78.78-.78 2.05 0 2.83L4 21.41c.39.39.9.59 1.41.59.51 0 1.02-.2 1.41-.59l7.78-7.78 2.81-2.81c.8-.78.8-2.07 0-2.86zM5.41 20L4 18.59l7.72-7.72 1.47 1.35L5.41 20z\"/>\n",
              "  </svg>\n",
              "      </button>\n",
              "      \n",
              "  <style>\n",
              "    .colab-df-container {\n",
              "      display:flex;\n",
              "      flex-wrap:wrap;\n",
              "      gap: 12px;\n",
              "    }\n",
              "\n",
              "    .colab-df-convert {\n",
              "      background-color: #E8F0FE;\n",
              "      border: none;\n",
              "      border-radius: 50%;\n",
              "      cursor: pointer;\n",
              "      display: none;\n",
              "      fill: #1967D2;\n",
              "      height: 32px;\n",
              "      padding: 0 0 0 0;\n",
              "      width: 32px;\n",
              "    }\n",
              "\n",
              "    .colab-df-convert:hover {\n",
              "      background-color: #E2EBFA;\n",
              "      box-shadow: 0px 1px 2px rgba(60, 64, 67, 0.3), 0px 1px 3px 1px rgba(60, 64, 67, 0.15);\n",
              "      fill: #174EA6;\n",
              "    }\n",
              "\n",
              "    [theme=dark] .colab-df-convert {\n",
              "      background-color: #3B4455;\n",
              "      fill: #D2E3FC;\n",
              "    }\n",
              "\n",
              "    [theme=dark] .colab-df-convert:hover {\n",
              "      background-color: #434B5C;\n",
              "      box-shadow: 0px 1px 3px 1px rgba(0, 0, 0, 0.15);\n",
              "      filter: drop-shadow(0px 1px 2px rgba(0, 0, 0, 0.3));\n",
              "      fill: #FFFFFF;\n",
              "    }\n",
              "  </style>\n",
              "\n",
              "      <script>\n",
              "        const buttonEl =\n",
              "          document.querySelector('#df-1dc988a3-ab46-4a09-9c57-9194fe076c78 button.colab-df-convert');\n",
              "        buttonEl.style.display =\n",
              "          google.colab.kernel.accessAllowed ? 'block' : 'none';\n",
              "\n",
              "        async function convertToInteractive(key) {\n",
              "          const element = document.querySelector('#df-1dc988a3-ab46-4a09-9c57-9194fe076c78');\n",
              "          const dataTable =\n",
              "            await google.colab.kernel.invokeFunction('convertToInteractive',\n",
              "                                                     [key], {});\n",
              "          if (!dataTable) return;\n",
              "\n",
              "          const docLinkHtml = 'Like what you see? Visit the ' +\n",
              "            '<a target=\"_blank\" href=https://colab.research.google.com/notebooks/data_table.ipynb>data table notebook</a>'\n",
              "            + ' to learn more about interactive tables.';\n",
              "          element.innerHTML = '';\n",
              "          dataTable['output_type'] = 'display_data';\n",
              "          await google.colab.output.renderOutput(dataTable, element);\n",
              "          const docLink = document.createElement('div');\n",
              "          docLink.innerHTML = docLinkHtml;\n",
              "          element.appendChild(docLink);\n",
              "        }\n",
              "      </script>\n",
              "    </div>\n",
              "  </div>\n",
              "  "
            ]
          },
          "metadata": {},
          "execution_count": 9
        }
      ]
    },
    {
      "cell_type": "markdown",
      "source": [
        "Unfortunately, this model cannot be calculated in Python using statsmodels due to perfect separation (see https://stats.stackexchange.com/questions/11109/how-to-deal-with-perfect-separation-in-logistic-regression)."
      ],
      "metadata": {
        "id": "X8OpiMDzu0LW"
      }
    },
    {
      "cell_type": "code",
      "source": [
        "m1 = sm.GLM(np.asarray(df[['bought', 'notbought']]), \n",
        "             np.asarray(df[['intercept', \"males\"]]), \n",
        "             family=sm.families.Binomial()).fit()\n",
        "\n",
        "print(m1.summary())"
      ],
      "metadata": {
        "colab": {
          "base_uri": "https://localhost:8080/",
          "height": 443
        },
        "id": "Cfvf9zrjraSW",
        "outputId": "16df8314-26c2-46d4-a1c9-8fb61f68d758"
      },
      "execution_count": 10,
      "outputs": [
        {
          "output_type": "stream",
          "name": "stderr",
          "text": [
            "/usr/local/lib/python3.7/dist-packages/statsmodels/regression/_tools.py:108: RuntimeWarning: divide by zero encountered in double_scalars\n",
            "  scale = np.dot(wresid, wresid) / df_resid\n"
          ]
        },
        {
          "output_type": "error",
          "ename": "PerfectSeparationError",
          "evalue": "ignored",
          "traceback": [
            "\u001b[0;31m---------------------------------------------------------------------------\u001b[0m",
            "\u001b[0;31mPerfectSeparationError\u001b[0m                    Traceback (most recent call last)",
            "\u001b[0;32m<ipython-input-10-aa6ff41811e8>\u001b[0m in \u001b[0;36m<module>\u001b[0;34m()\u001b[0m\n\u001b[1;32m      1\u001b[0m m1 = sm.GLM(np.asarray(df[['bought', 'notbought']]), \n\u001b[1;32m      2\u001b[0m              \u001b[0mnp\u001b[0m\u001b[0;34m.\u001b[0m\u001b[0masarray\u001b[0m\u001b[0;34m(\u001b[0m\u001b[0mdf\u001b[0m\u001b[0;34m[\u001b[0m\u001b[0;34m[\u001b[0m\u001b[0;34m'intercept'\u001b[0m\u001b[0;34m,\u001b[0m \u001b[0;34m\"males\"\u001b[0m\u001b[0;34m]\u001b[0m\u001b[0;34m]\u001b[0m\u001b[0;34m)\u001b[0m\u001b[0;34m,\u001b[0m\u001b[0;34m\u001b[0m\u001b[0;34m\u001b[0m\u001b[0m\n\u001b[0;32m----> 3\u001b[0;31m              family=sm.families.Binomial()).fit()\n\u001b[0m\u001b[1;32m      4\u001b[0m \u001b[0;34m\u001b[0m\u001b[0m\n\u001b[1;32m      5\u001b[0m \u001b[0mprint\u001b[0m\u001b[0;34m(\u001b[0m\u001b[0mm1\u001b[0m\u001b[0;34m.\u001b[0m\u001b[0msummary\u001b[0m\u001b[0;34m(\u001b[0m\u001b[0;34m)\u001b[0m\u001b[0;34m)\u001b[0m\u001b[0;34m\u001b[0m\u001b[0;34m\u001b[0m\u001b[0m\n",
            "\u001b[0;32m/usr/local/lib/python3.7/dist-packages/statsmodels/genmod/generalized_linear_model.py\u001b[0m in \u001b[0;36mfit\u001b[0;34m(self, start_params, maxiter, method, tol, scale, cov_type, cov_kwds, use_t, full_output, disp, max_start_irls, **kwargs)\u001b[0m\n\u001b[1;32m   1026\u001b[0m             return self._fit_irls(start_params=start_params, maxiter=maxiter,\n\u001b[1;32m   1027\u001b[0m                                   \u001b[0mtol\u001b[0m\u001b[0;34m=\u001b[0m\u001b[0mtol\u001b[0m\u001b[0;34m,\u001b[0m \u001b[0mscale\u001b[0m\u001b[0;34m=\u001b[0m\u001b[0mscale\u001b[0m\u001b[0;34m,\u001b[0m \u001b[0mcov_type\u001b[0m\u001b[0;34m=\u001b[0m\u001b[0mcov_type\u001b[0m\u001b[0;34m,\u001b[0m\u001b[0;34m\u001b[0m\u001b[0;34m\u001b[0m\u001b[0m\n\u001b[0;32m-> 1028\u001b[0;31m                                   cov_kwds=cov_kwds, use_t=use_t, **kwargs)\n\u001b[0m\u001b[1;32m   1029\u001b[0m         \u001b[0;32melse\u001b[0m\u001b[0;34m:\u001b[0m\u001b[0;34m\u001b[0m\u001b[0;34m\u001b[0m\u001b[0m\n\u001b[1;32m   1030\u001b[0m             \u001b[0mself\u001b[0m\u001b[0;34m.\u001b[0m\u001b[0m_optim_hessian\u001b[0m \u001b[0;34m=\u001b[0m \u001b[0mkwargs\u001b[0m\u001b[0;34m.\u001b[0m\u001b[0mget\u001b[0m\u001b[0;34m(\u001b[0m\u001b[0;34m'optim_hessian'\u001b[0m\u001b[0;34m)\u001b[0m\u001b[0;34m\u001b[0m\u001b[0;34m\u001b[0m\u001b[0m\n",
            "\u001b[0;32m/usr/local/lib/python3.7/dist-packages/statsmodels/genmod/generalized_linear_model.py\u001b[0m in \u001b[0;36m_fit_irls\u001b[0;34m(self, start_params, maxiter, tol, scale, cov_type, cov_kwds, use_t, **kwargs)\u001b[0m\n\u001b[1;32m   1173\u001b[0m             \u001b[0;32mif\u001b[0m \u001b[0mendog\u001b[0m\u001b[0;34m.\u001b[0m\u001b[0msqueeze\u001b[0m\u001b[0;34m(\u001b[0m\u001b[0;34m)\u001b[0m\u001b[0;34m.\u001b[0m\u001b[0mndim\u001b[0m \u001b[0;34m==\u001b[0m \u001b[0;36m1\u001b[0m \u001b[0;32mand\u001b[0m \u001b[0mnp\u001b[0m\u001b[0;34m.\u001b[0m\u001b[0mallclose\u001b[0m\u001b[0;34m(\u001b[0m\u001b[0mmu\u001b[0m \u001b[0;34m-\u001b[0m \u001b[0mendog\u001b[0m\u001b[0;34m,\u001b[0m \u001b[0;36m0\u001b[0m\u001b[0;34m)\u001b[0m\u001b[0;34m:\u001b[0m\u001b[0;34m\u001b[0m\u001b[0;34m\u001b[0m\u001b[0m\n\u001b[1;32m   1174\u001b[0m                 \u001b[0mmsg\u001b[0m \u001b[0;34m=\u001b[0m \u001b[0;34m\"Perfect separation detected, results not available\"\u001b[0m\u001b[0;34m\u001b[0m\u001b[0;34m\u001b[0m\u001b[0m\n\u001b[0;32m-> 1175\u001b[0;31m                 \u001b[0;32mraise\u001b[0m \u001b[0mPerfectSeparationError\u001b[0m\u001b[0;34m(\u001b[0m\u001b[0mmsg\u001b[0m\u001b[0;34m)\u001b[0m\u001b[0;34m\u001b[0m\u001b[0;34m\u001b[0m\u001b[0m\n\u001b[0m\u001b[1;32m   1176\u001b[0m             converged = _check_convergence(criterion, iteration + 1, atol,\n\u001b[1;32m   1177\u001b[0m                                            rtol)\n",
            "\u001b[0;31mPerfectSeparationError\u001b[0m: Perfect separation detected, results not available"
          ]
        }
      ]
    },
    {
      "cell_type": "markdown",
      "source": [
        "Using R -- works well"
      ],
      "metadata": {
        "id": "sjnzBFnKqgjI"
      }
    },
    {
      "cell_type": "code",
      "source": [
        "%%R\n",
        "df1 <- data.frame(gender = c(\"females\", \"males\"), bought = c(243, 48),  notbought=c(30,240))\n",
        "     \n",
        "m1 <- glm(cbind(bought, notbought) ~ gender,  data = df1, family = binomial())\n",
        "     \n",
        "summary(m1)"
      ],
      "metadata": {
        "colab": {
          "base_uri": "https://localhost:8080/"
        },
        "id": "AGDgipF9qXrz",
        "outputId": "63d32b4e-0446-4bee-edc4-bae6bdfeddab"
      },
      "execution_count": 11,
      "outputs": [
        {
          "output_type": "stream",
          "name": "stdout",
          "text": [
            "\n",
            "Call:\n",
            "glm(formula = cbind(bought, notbought) ~ gender, family = binomial(), \n",
            "    data = df1)\n",
            "\n",
            "Deviance Residuals: \n",
            "[1]  0  0\n",
            "\n",
            "Coefficients:\n",
            "            Estimate Std. Error z value Pr(>|z|)    \n",
            "(Intercept)   2.0919     0.1935   10.81   <2e-16 ***\n",
            "gendermales  -3.7013     0.2499  -14.81   <2e-16 ***\n",
            "---\n",
            "Signif. codes:  0 ‘***’ 0.001 ‘**’ 0.01 ‘*’ 0.05 ‘.’ 0.1 ‘ ’ 1\n",
            "\n",
            "(Dispersion parameter for binomial family taken to be 1)\n",
            "\n",
            "    Null deviance: 3.2833e+02  on 1  degrees of freedom\n",
            "Residual deviance: 4.7962e-14  on 0  degrees of freedom\n",
            "AIC: 14.659\n",
            "\n",
            "Number of Fisher Scoring iterations: 3\n",
            "\n"
          ]
        }
      ]
    },
    {
      "cell_type": "markdown",
      "source": [
        "Odds ratio"
      ],
      "metadata": {
        "id": "GdINxGJzq80B"
      }
    },
    {
      "cell_type": "code",
      "source": [
        "%%R\n",
        "exp(coef(m1))"
      ],
      "metadata": {
        "colab": {
          "base_uri": "https://localhost:8080/"
        },
        "id": "iSYgEQUCq4_n",
        "outputId": "7474fd2c-1254-4ef2-a2b6-f0298b440dd5"
      },
      "execution_count": 12,
      "outputs": [
        {
          "output_type": "stream",
          "name": "stdout",
          "text": [
            "(Intercept) gendermales \n",
            " 8.10000000  0.02469136 \n"
          ]
        }
      ]
    },
    {
      "cell_type": "markdown",
      "source": [
        "Confidence intervals for odds ratio."
      ],
      "metadata": {
        "id": "i85_ySxQwlMi"
      }
    },
    {
      "cell_type": "code",
      "source": [
        "%%R\n",
        "exp(confint(m1))"
      ],
      "metadata": {
        "colab": {
          "base_uri": "https://localhost:8080/"
        },
        "id": "HcDgrATcwrhU",
        "outputId": "2e72bf29-986a-435e-a963-97ee189b0805"
      },
      "execution_count": 13,
      "outputs": [
        {
          "output_type": "stream",
          "name": "stderr",
          "text": [
            "R[write to console]: Waiting for profiling to be done...\n",
            "\n"
          ]
        },
        {
          "output_type": "stream",
          "name": "stdout",
          "text": [
            "                 2.5 %      97.5 %\n",
            "(Intercept) 5.64054025 12.07688821\n",
            "gendermales 0.01488326  0.03970901\n"
          ]
        }
      ]
    },
    {
      "cell_type": "markdown",
      "source": [
        "Using Julia -- we need to create new variables: `total` and `share`."
      ],
      "metadata": {
        "id": "3mS8adTfq_pO"
      }
    },
    {
      "cell_type": "code",
      "source": [
        "%%julia\n",
        "df = DataFrame(:gender => [\"females\", \"males\"],\n",
        "               :bought => [243, 48],\n",
        "               :notbought => [30,240])\n",
        "df.total = df.bought + df.notbought\n",
        "df.share = df.bought ./ df.total\n",
        "df"
      ],
      "metadata": {
        "colab": {
          "base_uri": "https://localhost:8080/"
        },
        "id": "GdC_nZXKrAnd",
        "outputId": "b111b369-e532-4be6-e395-1b05a508562d"
      },
      "execution_count": 14,
      "outputs": [
        {
          "output_type": "execute_result",
          "data": {
            "text/plain": [
              "<PyCall.jlwrap 2×5 DataFrame\n",
              " Row │ gender   bought  notbought  total  share\n",
              "     │ String   Int64   Int64      Int64  Float64\n",
              "─────┼─────────────────────────────────────────────\n",
              "   1 │ females     243         30    273  0.89011\n",
              "   2 │ males        48        240    288  0.166667>"
            ]
          },
          "metadata": {},
          "execution_count": 14
        }
      ]
    },
    {
      "cell_type": "markdown",
      "source": [
        "We can estimate this model providing `share` in the formula and `total` in `wts` arguments (case weights)."
      ],
      "metadata": {
        "id": "EZ5SnMNSwOgf"
      }
    },
    {
      "cell_type": "code",
      "source": [
        "%%julia\n",
        "m1 = glm(@formula(share ~ gender), df, Binomial(), LogitLink(), wts = df.total)\n",
        "m1"
      ],
      "metadata": {
        "colab": {
          "base_uri": "https://localhost:8080/"
        },
        "id": "ynFfBZQdv1KJ",
        "outputId": "c88e060c-9772-4f71-fddc-90e87efc46a5"
      },
      "execution_count": 15,
      "outputs": [
        {
          "output_type": "execute_result",
          "data": {
            "text/plain": [
              "<PyCall.jlwrap StatsModels.TableRegressionModel{GeneralizedLinearModel{GLM.GlmResp{Vector{Float64}, Binomial{Float64}, LogitLink}, GLM.DensePredChol{Float64, LinearAlgebra.Cholesky{Float64, Matrix{Float64}}}}, Matrix{Float64}}\n",
              "\n",
              "share ~ 1 + gender\n",
              "\n",
              "Coefficients:\n",
              "───────────────────────────────────────────────────────────────────────────\n",
              "                  Coef.  Std. Error       z  Pr(>|z|)  Lower 95%  Upper 95%\n",
              "───────────────────────────────────────────────────────────────────────────\n",
              "(Intercept)     2.09186    0.19351    10.81    <1e-26    1.71259    2.47114\n",
              "gender: males  -3.7013     0.249892  -14.81    <1e-48   -4.19108   -3.21152\n",
              "───────────────────────────────────────────────────────────────────────────>"
            ]
          },
          "metadata": {},
          "execution_count": 15
        }
      ]
    },
    {
      "cell_type": "code",
      "source": [
        "%%julia\n",
        "exp.(coef(m1))"
      ],
      "metadata": {
        "colab": {
          "base_uri": "https://localhost:8080/"
        },
        "id": "l58xyDCdrGOm",
        "outputId": "67b80343-cf2e-4aa2-c8d6-d371b0ad49e9"
      },
      "execution_count": null,
      "outputs": [
        {
          "output_type": "execute_result",
          "data": {
            "text/plain": [
              "array([8.09999998, 0.02469136])"
            ]
          },
          "metadata": {},
          "execution_count": 45
        }
      ]
    },
    {
      "cell_type": "markdown",
      "source": [
        "Confidence intervals for odds ratios"
      ],
      "metadata": {
        "id": "otvKtvkcwe9K"
      }
    },
    {
      "cell_type": "code",
      "source": [
        "%%julia\n",
        "exp.(confint(m1))"
      ],
      "metadata": {
        "colab": {
          "base_uri": "https://localhost:8080/"
        },
        "id": "znOzTPqFwhoR",
        "outputId": "3fb15653-cb39-4d3c-d407-b224c0fc4325"
      },
      "execution_count": null,
      "outputs": [
        {
          "output_type": "execute_result",
          "data": {
            "text/plain": [
              "array([[ 5.5433061 , 11.83589694],\n",
              "       [ 0.01512993,  0.04029518]])"
            ]
          },
          "metadata": {},
          "execution_count": 46
        }
      ]
    },
    {
      "cell_type": "markdown",
      "source": [
        "## Skills example"
      ],
      "metadata": {
        "id": "Vu4n2xX0KFN0"
      }
    },
    {
      "cell_type": "markdown",
      "source": [
        "Python solution"
      ],
      "metadata": {
        "id": "m0vUVu7rKG-7"
      }
    },
    {
      "cell_type": "code",
      "source": [
        "df= pd.read_csv(\"https://raw.githubusercontent.com/DepartmentOfStatisticsPUE/cda-2022/main/data/count-data.csv\")\n",
        "df[\"occup1\"].astype(\"category\")\n",
        "df[\"woj\"].astype(\"category\")\n",
        "df.head(n=4)"
      ],
      "metadata": {
        "colab": {
          "base_uri": "https://localhost:8080/",
          "height": 239
        },
        "id": "zKZ2OPJzONZ2",
        "outputId": "14fb14f0-ad59-4d4d-8240-8f98d845d72a"
      },
      "execution_count": 39,
      "outputs": [
        {
          "output_type": "execute_result",
          "data": {
            "text/plain": [
              "       id  year  occup1  woj nace  technical  math  artistic  computer  \\\n",
              "0  626307  2014       5    4    M          0     0         1         0   \n",
              "1  626305  2014       5   12    M          0     0         0         0   \n",
              "2  617154  2014       7   14    C          0     0         0         0   \n",
              "3  617155  2014       7   14    C          0     0         0         0   \n",
              "\n",
              "   cognitive  managerial  interpersonal  individual  physical  availability  \\\n",
              "0          0           0              0           1         0             0   \n",
              "1          0           0              0           0         0             0   \n",
              "2          0           0              0           0         0             0   \n",
              "3          0           0              0           0         0             0   \n",
              "\n",
              "   office  total_skills  \n",
              "0       0             2  \n",
              "1       0             0  \n",
              "2       0             0  \n",
              "3       0             0  "
            ],
            "text/html": [
              "\n",
              "  <div id=\"df-e7706371-6660-4cff-b9d6-26b4b00f3dc8\">\n",
              "    <div class=\"colab-df-container\">\n",
              "      <div>\n",
              "<style scoped>\n",
              "    .dataframe tbody tr th:only-of-type {\n",
              "        vertical-align: middle;\n",
              "    }\n",
              "\n",
              "    .dataframe tbody tr th {\n",
              "        vertical-align: top;\n",
              "    }\n",
              "\n",
              "    .dataframe thead th {\n",
              "        text-align: right;\n",
              "    }\n",
              "</style>\n",
              "<table border=\"1\" class=\"dataframe\">\n",
              "  <thead>\n",
              "    <tr style=\"text-align: right;\">\n",
              "      <th></th>\n",
              "      <th>id</th>\n",
              "      <th>year</th>\n",
              "      <th>occup1</th>\n",
              "      <th>woj</th>\n",
              "      <th>nace</th>\n",
              "      <th>technical</th>\n",
              "      <th>math</th>\n",
              "      <th>artistic</th>\n",
              "      <th>computer</th>\n",
              "      <th>cognitive</th>\n",
              "      <th>managerial</th>\n",
              "      <th>interpersonal</th>\n",
              "      <th>individual</th>\n",
              "      <th>physical</th>\n",
              "      <th>availability</th>\n",
              "      <th>office</th>\n",
              "      <th>total_skills</th>\n",
              "    </tr>\n",
              "  </thead>\n",
              "  <tbody>\n",
              "    <tr>\n",
              "      <th>0</th>\n",
              "      <td>626307</td>\n",
              "      <td>2014</td>\n",
              "      <td>5</td>\n",
              "      <td>4</td>\n",
              "      <td>M</td>\n",
              "      <td>0</td>\n",
              "      <td>0</td>\n",
              "      <td>1</td>\n",
              "      <td>0</td>\n",
              "      <td>0</td>\n",
              "      <td>0</td>\n",
              "      <td>0</td>\n",
              "      <td>1</td>\n",
              "      <td>0</td>\n",
              "      <td>0</td>\n",
              "      <td>0</td>\n",
              "      <td>2</td>\n",
              "    </tr>\n",
              "    <tr>\n",
              "      <th>1</th>\n",
              "      <td>626305</td>\n",
              "      <td>2014</td>\n",
              "      <td>5</td>\n",
              "      <td>12</td>\n",
              "      <td>M</td>\n",
              "      <td>0</td>\n",
              "      <td>0</td>\n",
              "      <td>0</td>\n",
              "      <td>0</td>\n",
              "      <td>0</td>\n",
              "      <td>0</td>\n",
              "      <td>0</td>\n",
              "      <td>0</td>\n",
              "      <td>0</td>\n",
              "      <td>0</td>\n",
              "      <td>0</td>\n",
              "      <td>0</td>\n",
              "    </tr>\n",
              "    <tr>\n",
              "      <th>2</th>\n",
              "      <td>617154</td>\n",
              "      <td>2014</td>\n",
              "      <td>7</td>\n",
              "      <td>14</td>\n",
              "      <td>C</td>\n",
              "      <td>0</td>\n",
              "      <td>0</td>\n",
              "      <td>0</td>\n",
              "      <td>0</td>\n",
              "      <td>0</td>\n",
              "      <td>0</td>\n",
              "      <td>0</td>\n",
              "      <td>0</td>\n",
              "      <td>0</td>\n",
              "      <td>0</td>\n",
              "      <td>0</td>\n",
              "      <td>0</td>\n",
              "    </tr>\n",
              "    <tr>\n",
              "      <th>3</th>\n",
              "      <td>617155</td>\n",
              "      <td>2014</td>\n",
              "      <td>7</td>\n",
              "      <td>14</td>\n",
              "      <td>C</td>\n",
              "      <td>0</td>\n",
              "      <td>0</td>\n",
              "      <td>0</td>\n",
              "      <td>0</td>\n",
              "      <td>0</td>\n",
              "      <td>0</td>\n",
              "      <td>0</td>\n",
              "      <td>0</td>\n",
              "      <td>0</td>\n",
              "      <td>0</td>\n",
              "      <td>0</td>\n",
              "      <td>0</td>\n",
              "    </tr>\n",
              "  </tbody>\n",
              "</table>\n",
              "</div>\n",
              "      <button class=\"colab-df-convert\" onclick=\"convertToInteractive('df-e7706371-6660-4cff-b9d6-26b4b00f3dc8')\"\n",
              "              title=\"Convert this dataframe to an interactive table.\"\n",
              "              style=\"display:none;\">\n",
              "        \n",
              "  <svg xmlns=\"http://www.w3.org/2000/svg\" height=\"24px\"viewBox=\"0 0 24 24\"\n",
              "       width=\"24px\">\n",
              "    <path d=\"M0 0h24v24H0V0z\" fill=\"none\"/>\n",
              "    <path d=\"M18.56 5.44l.94 2.06.94-2.06 2.06-.94-2.06-.94-.94-2.06-.94 2.06-2.06.94zm-11 1L8.5 8.5l.94-2.06 2.06-.94-2.06-.94L8.5 2.5l-.94 2.06-2.06.94zm10 10l.94 2.06.94-2.06 2.06-.94-2.06-.94-.94-2.06-.94 2.06-2.06.94z\"/><path d=\"M17.41 7.96l-1.37-1.37c-.4-.4-.92-.59-1.43-.59-.52 0-1.04.2-1.43.59L10.3 9.45l-7.72 7.72c-.78.78-.78 2.05 0 2.83L4 21.41c.39.39.9.59 1.41.59.51 0 1.02-.2 1.41-.59l7.78-7.78 2.81-2.81c.8-.78.8-2.07 0-2.86zM5.41 20L4 18.59l7.72-7.72 1.47 1.35L5.41 20z\"/>\n",
              "  </svg>\n",
              "      </button>\n",
              "      \n",
              "  <style>\n",
              "    .colab-df-container {\n",
              "      display:flex;\n",
              "      flex-wrap:wrap;\n",
              "      gap: 12px;\n",
              "    }\n",
              "\n",
              "    .colab-df-convert {\n",
              "      background-color: #E8F0FE;\n",
              "      border: none;\n",
              "      border-radius: 50%;\n",
              "      cursor: pointer;\n",
              "      display: none;\n",
              "      fill: #1967D2;\n",
              "      height: 32px;\n",
              "      padding: 0 0 0 0;\n",
              "      width: 32px;\n",
              "    }\n",
              "\n",
              "    .colab-df-convert:hover {\n",
              "      background-color: #E2EBFA;\n",
              "      box-shadow: 0px 1px 2px rgba(60, 64, 67, 0.3), 0px 1px 3px 1px rgba(60, 64, 67, 0.15);\n",
              "      fill: #174EA6;\n",
              "    }\n",
              "\n",
              "    [theme=dark] .colab-df-convert {\n",
              "      background-color: #3B4455;\n",
              "      fill: #D2E3FC;\n",
              "    }\n",
              "\n",
              "    [theme=dark] .colab-df-convert:hover {\n",
              "      background-color: #434B5C;\n",
              "      box-shadow: 0px 1px 3px 1px rgba(0, 0, 0, 0.15);\n",
              "      filter: drop-shadow(0px 1px 2px rgba(0, 0, 0, 0.3));\n",
              "      fill: #FFFFFF;\n",
              "    }\n",
              "  </style>\n",
              "\n",
              "      <script>\n",
              "        const buttonEl =\n",
              "          document.querySelector('#df-e7706371-6660-4cff-b9d6-26b4b00f3dc8 button.colab-df-convert');\n",
              "        buttonEl.style.display =\n",
              "          google.colab.kernel.accessAllowed ? 'block' : 'none';\n",
              "\n",
              "        async function convertToInteractive(key) {\n",
              "          const element = document.querySelector('#df-e7706371-6660-4cff-b9d6-26b4b00f3dc8');\n",
              "          const dataTable =\n",
              "            await google.colab.kernel.invokeFunction('convertToInteractive',\n",
              "                                                     [key], {});\n",
              "          if (!dataTable) return;\n",
              "\n",
              "          const docLinkHtml = 'Like what you see? Visit the ' +\n",
              "            '<a target=\"_blank\" href=https://colab.research.google.com/notebooks/data_table.ipynb>data table notebook</a>'\n",
              "            + ' to learn more about interactive tables.';\n",
              "          element.innerHTML = '';\n",
              "          dataTable['output_type'] = 'display_data';\n",
              "          await google.colab.output.renderOutput(dataTable, element);\n",
              "          const docLink = document.createElement('div');\n",
              "          docLink.innerHTML = docLinkHtml;\n",
              "          element.appendChild(docLink);\n",
              "        }\n",
              "      </script>\n",
              "    </div>\n",
              "  </div>\n",
              "  "
            ]
          },
          "metadata": {},
          "execution_count": 39
        }
      ]
    },
    {
      "cell_type": "code",
      "source": [
        "m1 = smf.glm(formula=\"computer ~ occup1\", data=df, family=sm.families.Binomial()).fit()\n",
        "print(m1.summary())"
      ],
      "metadata": {
        "colab": {
          "base_uri": "https://localhost:8080/"
        },
        "id": "MCi6eiVyOSup",
        "outputId": "8d47ae31-87b0-4e50-ad0d-f3b92839ecd3"
      },
      "execution_count": 41,
      "outputs": [
        {
          "output_type": "stream",
          "name": "stdout",
          "text": [
            "                 Generalized Linear Model Regression Results                  \n",
            "==============================================================================\n",
            "Dep. Variable:               computer   No. Observations:                12914\n",
            "Model:                            GLM   Df Residuals:                    12912\n",
            "Model Family:                Binomial   Df Model:                            1\n",
            "Link Function:                  logit   Scale:                          1.0000\n",
            "Method:                          IRLS   Log-Likelihood:                -7971.4\n",
            "Date:                Thu, 12 May 2022   Deviance:                       15943.\n",
            "Time:                        07:44:12   Pearson chi2:                 1.27e+04\n",
            "No. Iterations:                     4                                         \n",
            "Covariance Type:            nonrobust                                         \n",
            "==============================================================================\n",
            "                 coef    std err          z      P>|z|      [0.025      0.975]\n",
            "------------------------------------------------------------------------------\n",
            "Intercept      0.3232      0.043      7.585      0.000       0.240       0.407\n",
            "occup1        -0.2874      0.012    -24.301      0.000      -0.311      -0.264\n",
            "==============================================================================\n"
          ]
        }
      ]
    },
    {
      "cell_type": "code",
      "source": [
        "np.exp(m1.params)"
      ],
      "metadata": {
        "colab": {
          "base_uri": "https://localhost:8080/"
        },
        "id": "zdJsR5haOcBJ",
        "outputId": "1879c0f4-2d95-43a3-998f-95ecab9cb66e"
      },
      "execution_count": 43,
      "outputs": [
        {
          "output_type": "execute_result",
          "data": {
            "text/plain": [
              "Intercept    1.381502\n",
              "occup1       0.750175\n",
              "dtype: float64"
            ]
          },
          "metadata": {},
          "execution_count": 43
        }
      ]
    },
    {
      "cell_type": "code",
      "source": [
        "m2 = smf.glm(formula=\"computer ~ nace\", data=df, family=sm.families.Binomial()).fit()\n",
        "print(m2.summary())"
      ],
      "metadata": {
        "colab": {
          "base_uri": "https://localhost:8080/"
        },
        "id": "v0lpSbhcOkgE",
        "outputId": "c2eb23e1-4b22-4e93-8cc4-379ad9263b31"
      },
      "execution_count": 44,
      "outputs": [
        {
          "output_type": "stream",
          "name": "stdout",
          "text": [
            "                 Generalized Linear Model Regression Results                  \n",
            "==============================================================================\n",
            "Dep. Variable:               computer   No. Observations:                12914\n",
            "Model:                            GLM   Df Residuals:                    12897\n",
            "Model Family:                Binomial   Df Model:                           16\n",
            "Link Function:                  logit   Scale:                          1.0000\n",
            "Method:                          IRLS   Log-Likelihood:                -7716.3\n",
            "Date:                Thu, 12 May 2022   Deviance:                       15433.\n",
            "Time:                        07:45:01   Pearson chi2:                 1.29e+04\n",
            "No. Iterations:                     5                                         \n",
            "Covariance Type:            nonrobust                                         \n",
            "==============================================================================\n",
            "                 coef    std err          z      P>|z|      [0.025      0.975]\n",
            "------------------------------------------------------------------------------\n",
            "Intercept     -0.8258      0.033    -25.274      0.000      -0.890      -0.762\n",
            "nace[T.D]     -0.7050      0.096     -7.316      0.000      -0.894      -0.516\n",
            "nace[T.E]      0.3311      0.256      1.294      0.196      -0.170       0.833\n",
            "nace[T.F]      0.1455      0.143      1.019      0.308      -0.134       0.425\n",
            "nace[T.G]      0.3404      0.072      4.750      0.000       0.200       0.481\n",
            "nace[T.H]      0.0416      0.156      0.268      0.789      -0.263       0.346\n",
            "nace[T.I]     -0.5944      0.209     -2.838      0.005      -1.005      -0.184\n",
            "nace[T.J]      1.8508      0.071     26.098      0.000       1.712       1.990\n",
            "nace[T.K]      0.0741      0.061      1.222      0.222      -0.045       0.193\n",
            "nace[T.L]     -0.6916      0.160     -4.335      0.000      -1.004      -0.379\n",
            "nace[T.M]      0.0630      0.065      0.970      0.332      -0.064       0.190\n",
            "nace[T.N]      0.1724      0.092      1.872      0.061      -0.008       0.353\n",
            "nace[T.O]      0.5513      0.306      1.801      0.072      -0.049       1.151\n",
            "nace[T.P]     -1.4276      0.213     -6.710      0.000      -1.845      -1.011\n",
            "nace[T.Q]     -0.9172      0.411     -2.232      0.026      -1.723      -0.112\n",
            "nace[T.R]     -0.9743      0.244     -4.000      0.000      -1.452      -0.497\n",
            "nace[T.S]      0.4531      0.236      1.922      0.055      -0.009       0.915\n",
            "==============================================================================\n"
          ]
        }
      ]
    },
    {
      "cell_type": "code",
      "source": [
        "np.exp(m2.params)"
      ],
      "metadata": {
        "colab": {
          "base_uri": "https://localhost:8080/"
        },
        "id": "QLF4uScBOoeY",
        "outputId": "3a68a0c6-c0ed-4144-ee2a-75efbe77fa8f"
      },
      "execution_count": 45,
      "outputs": [
        {
          "output_type": "execute_result",
          "data": {
            "text/plain": [
              "Intercept    0.437906\n",
              "nace[T.D]    0.494111\n",
              "nace[T.E]    1.392435\n",
              "nace[T.F]    1.156625\n",
              "nace[T.G]    1.405560\n",
              "nace[T.H]    1.042510\n",
              "nace[T.I]    0.551868\n",
              "nace[T.J]    6.364767\n",
              "nace[T.K]    1.076878\n",
              "nace[T.L]    0.500788\n",
              "nace[T.M]    1.065066\n",
              "nace[T.N]    1.188164\n",
              "nace[T.O]    1.735531\n",
              "nace[T.P]    0.239873\n",
              "nace[T.Q]    0.399629\n",
              "nace[T.R]    0.377453\n",
              "nace[T.S]    1.573142\n",
              "dtype: float64"
            ]
          },
          "metadata": {},
          "execution_count": 45
        }
      ]
    },
    {
      "cell_type": "markdown",
      "source": [
        "R solution"
      ],
      "metadata": {
        "id": "Mn_3yuhXKIDK"
      }
    },
    {
      "cell_type": "code",
      "source": [
        "%%R\n",
        "df <- read.csv(\"https://raw.githubusercontent.com/DepartmentOfStatisticsPUE/cda-2022/main/data/count-data.csv\")\n",
        "df$occup1 <- as.factor(df$occup1)\n",
        "df$woj <- as.factor(df$woj)\n",
        "head(df)"
      ],
      "metadata": {
        "colab": {
          "base_uri": "https://localhost:8080/"
        },
        "id": "kA3shdUSKKVr",
        "outputId": "8dec0f4d-83ff-4345-a2f6-2d8d7950a549"
      },
      "execution_count": 20,
      "outputs": [
        {
          "output_type": "stream",
          "name": "stdout",
          "text": [
            "      id year occup1 woj nace technical math artistic computer cognitive\n",
            "1 626307 2014      5   4    M         0    0        1        0         0\n",
            "2 626305 2014      5  12    M         0    0        0        0         0\n",
            "3 617154 2014      7  14    C         0    0        0        0         0\n",
            "4 617155 2014      7  14    C         0    0        0        0         0\n",
            "5 632044 2014      3  24    C         0    0        0        0         0\n",
            "6 613019 2014      3  14    K         0    0        0        0         0\n",
            "  managerial interpersonal individual physical availability office total_skills\n",
            "1          0             0          1        0            0      0            2\n",
            "2          0             0          0        0            0      0            0\n",
            "3          0             0          0        0            0      0            0\n",
            "4          0             0          0        0            0      0            0\n",
            "5          0             1          0        1            0      0            2\n",
            "6          0             1          1        0            0      0            2\n"
          ]
        }
      ]
    },
    {
      "cell_type": "code",
      "source": [
        "%%R\n",
        "m1 <- glm(formula = computer ~ occup1, data=df, family=binomial, subset=occup1!=6)\n",
        "summary(m1)"
      ],
      "metadata": {
        "colab": {
          "base_uri": "https://localhost:8080/"
        },
        "id": "EZxzaOp9LGX2",
        "outputId": "ed1a8a18-71ec-4505-c06a-ef271dc17462"
      },
      "execution_count": 18,
      "outputs": [
        {
          "output_type": "stream",
          "name": "stdout",
          "text": [
            "\n",
            "Call:\n",
            "glm(formula = computer ~ occup1, family = binomial, data = df, \n",
            "    subset = occup1 != 6)\n",
            "\n",
            "Deviance Residuals: \n",
            "    Min       1Q   Median       3Q      Max  \n",
            "-1.1861  -0.8265  -0.7982   1.1706   2.6557  \n",
            "\n",
            "Coefficients:\n",
            "            Estimate Std. Error z value Pr(>|z|)    \n",
            "(Intercept) -0.80494    0.07202 -11.177  < 2e-16 ***\n",
            "occup12      0.82089    0.07884  10.412  < 2e-16 ***\n",
            "occup13     -0.09359    0.08311  -1.126   0.2601    \n",
            "occup14      0.82540    0.10150   8.132 4.22e-16 ***\n",
            "occup15     -0.17562    0.08184  -2.146   0.0319 *  \n",
            "occup17     -1.77324    0.16086 -11.023  < 2e-16 ***\n",
            "occup18     -2.36964    0.30325  -7.814 5.53e-15 ***\n",
            "occup19     -2.69156    0.51184  -5.259 1.45e-07 ***\n",
            "---\n",
            "Signif. codes:  0 ‘***’ 0.001 ‘**’ 0.01 ‘*’ 0.05 ‘.’ 0.1 ‘ ’ 1\n",
            "\n",
            "(Dispersion parameter for binomial family taken to be 1)\n",
            "\n",
            "    Null deviance: 16601  on 12906  degrees of freedom\n",
            "Residual deviance: 15413  on 12899  degrees of freedom\n",
            "AIC: 15429\n",
            "\n",
            "Number of Fisher Scoring iterations: 5\n",
            "\n"
          ]
        }
      ]
    },
    {
      "cell_type": "code",
      "source": [
        "%%R\n",
        "m1 |> coef() |> exp()"
      ],
      "metadata": {
        "colab": {
          "base_uri": "https://localhost:8080/"
        },
        "id": "x-Y4oFg2LPvW",
        "outputId": "7d2bdb1c-9a5b-4737-cbcd-d0ba9d21d868"
      },
      "execution_count": 19,
      "outputs": [
        {
          "output_type": "stream",
          "name": "stdout",
          "text": [
            "(Intercept)     occup12     occup13     occup14     occup15     occup17 \n",
            " 0.44711538  2.27252041  0.91065474  2.28279292  0.83894016  0.16978259 \n",
            "    occup18     occup19 \n",
            " 0.09351468  0.06777486 \n"
          ]
        }
      ]
    },
    {
      "cell_type": "code",
      "source": [
        "%%R\n",
        "m2 <- update(m1, . ~ nace)\n",
        "summary(m2)"
      ],
      "metadata": {
        "colab": {
          "base_uri": "https://localhost:8080/"
        },
        "id": "4Lu2nn5QLSka",
        "outputId": "fe6041d8-8ab7-4a71-c0a0-c1900b8c0766"
      },
      "execution_count": 21,
      "outputs": [
        {
          "output_type": "stream",
          "name": "stdout",
          "text": [
            "\n",
            "Call:\n",
            "glm(formula = computer ~ nace, family = binomial, data = df, \n",
            "    subset = occup1 != 6)\n",
            "\n",
            "Deviance Residuals: \n",
            "    Min       1Q   Median       3Q      Max  \n",
            "-1.6319  -0.8754  -0.8530   1.3892   2.1695  \n",
            "\n",
            "Coefficients:\n",
            "            Estimate Std. Error z value Pr(>|z|)    \n",
            "(Intercept) -0.82380    0.03268 -25.206  < 2e-16 ***\n",
            "naceD       -0.70695    0.09637  -7.336 2.20e-13 ***\n",
            "naceE        0.32910    0.25585   1.286  0.19833    \n",
            "naceF        0.14355    0.14277   1.006  0.31465    \n",
            "naceG        0.33848    0.07168   4.722 2.33e-06 ***\n",
            "naceH        0.03968    0.15552   0.255  0.79862    \n",
            "naceI       -0.59640    0.20949  -2.847  0.00441 ** \n",
            "naceJ        1.84883    0.07092  26.069  < 2e-16 ***\n",
            "naceK        0.07211    0.06064   1.189  0.23436    \n",
            "naceL       -0.69352    0.15954  -4.347 1.38e-05 ***\n",
            "naceM        0.06209    0.06498   0.955  0.33935    \n",
            "naceN        0.17046    0.09211   1.851  0.06423 .  \n",
            "naceO        0.54936    0.30610   1.795  0.07270 .  \n",
            "naceP       -1.42960    0.21274  -6.720 1.82e-11 ***\n",
            "naceQ       -0.91917    0.41101  -2.236  0.02533 *  \n",
            "naceR       -0.97626    0.24358  -4.008 6.13e-05 ***\n",
            "naceS        0.45112    0.23569   1.914  0.05561 .  \n",
            "---\n",
            "Signif. codes:  0 ‘***’ 0.001 ‘**’ 0.01 ‘*’ 0.05 ‘.’ 0.1 ‘ ’ 1\n",
            "\n",
            "(Dispersion parameter for binomial family taken to be 1)\n",
            "\n",
            "    Null deviance: 16601  on 12906  degrees of freedom\n",
            "Residual deviance: 15428  on 12890  degrees of freedom\n",
            "AIC: 15462\n",
            "\n",
            "Number of Fisher Scoring iterations: 4\n",
            "\n"
          ]
        }
      ]
    },
    {
      "cell_type": "code",
      "source": [
        "%%R\n",
        "m2 |> coef() |> exp()"
      ],
      "metadata": {
        "colab": {
          "base_uri": "https://localhost:8080/"
        },
        "id": "S38brrwoLiFN",
        "outputId": "fa4b8215-3bfc-41eb-bb0d-a0d87c6fb3dc"
      },
      "execution_count": 22,
      "outputs": [
        {
          "output_type": "stream",
          "name": "stdout",
          "text": [
            "(Intercept)       naceD       naceE       naceF       naceG       naceH \n",
            "  0.4387622   0.4931470   1.3897188   1.1543690   1.4028188   1.0404764 \n",
            "      naceI       naceJ       naceK       naceL       naceM       naceN \n",
            "  0.5507919   6.3523519   1.0747778   0.4998111   1.0640558   1.1858463 \n",
            "      naceO       naceP       naceQ       naceR       naceS \n",
            "  1.7321455   0.2394053   0.3988493   0.3767172   1.5700734 \n"
          ]
        }
      ]
    },
    {
      "cell_type": "code",
      "source": [
        "%%R\n",
        "m3 <- update(m1, . ~ . + nace + woj)\n",
        "car::Anova(m3)"
      ],
      "metadata": {
        "colab": {
          "base_uri": "https://localhost:8080/"
        },
        "id": "csgRVkW9LlvB",
        "outputId": "75ebb9ab-c396-4479-f146-43a51e1813eb"
      },
      "execution_count": 23,
      "outputs": [
        {
          "output_type": "stream",
          "name": "stdout",
          "text": [
            "Analysis of Deviance Table (Type II tests)\n",
            "\n",
            "Response: computer\n",
            "       LR Chisq Df Pr(>Chisq)    \n",
            "occup1   857.47  7  < 2.2e-16 ***\n",
            "nace     837.46 16  < 2.2e-16 ***\n",
            "woj       85.27 15  7.486e-12 ***\n",
            "---\n",
            "Signif. codes:  0 ‘***’ 0.001 ‘**’ 0.01 ‘*’ 0.05 ‘.’ 0.1 ‘ ’ 1\n"
          ]
        }
      ]
    },
    {
      "cell_type": "markdown",
      "source": [
        "Julia solution"
      ],
      "metadata": {
        "id": "NbmmQsVtKJHV"
      }
    },
    {
      "cell_type": "code",
      "source": [
        "%%julia\n",
        "df = CSV.read(download(\"https://raw.githubusercontent.com/DepartmentOfStatisticsPUE/cda-2022/main/data/count-data.csv\"), DataFrame)\n",
        "df.occup1 = categorical(df.occup1)\n",
        "df.woj = categorical(df.woj)\n",
        "first(df,2)"
      ],
      "metadata": {
        "colab": {
          "base_uri": "https://localhost:8080/"
        },
        "id": "BRR9ZRinLv-1",
        "outputId": "4de0acb1-a75a-4ee2-f374-f96459d63062"
      },
      "execution_count": 25,
      "outputs": [
        {
          "output_type": "execute_result",
          "data": {
            "text/plain": [
              "<PyCall.jlwrap 2×17 DataFrame\n",
              " Row │ id      year   occup1  woj   nace     technical  math   artistic  computer  cognitive  managerial  interpersonal  individual  physical  availability  office  total_skills\n",
              "     │ Int64   Int64  Cat…    Cat…  String1  Int64      Int64  Int64     Int64     Int64      Int64       Int64          Int64       Int64     Int64         Int64   Int64\n",
              "─────┼────────────────────────────────────────────────────────────────────────────────────────────────────────────────────────────────────────────────────────────────────────────\n",
              "   1 │ 626307   2014  5       4     M                0      0         1         0          0           0              0           1         0             0       0             2\n",
              "   2 │ 626305   2014  5       12    M                0      0         0         0          0           0              0           0         0             0       0             0>"
            ]
          },
          "metadata": {},
          "execution_count": 25
        }
      ]
    },
    {
      "cell_type": "code",
      "source": [
        "%%julia\n",
        "df2 = subset(df, :occup1 => ByRow(x -> x != 6))\n",
        "m1 = glm(@formula(computer ~ occup1), df2, Binomial())"
      ],
      "metadata": {
        "colab": {
          "base_uri": "https://localhost:8080/"
        },
        "id": "n4oymQVjL92m",
        "outputId": "c4688e2e-d6e9-4f49-b8ab-77ead36cca17"
      },
      "execution_count": 34,
      "outputs": [
        {
          "output_type": "execute_result",
          "data": {
            "text/plain": [
              "<PyCall.jlwrap StatsModels.TableRegressionModel{GeneralizedLinearModel{GLM.GlmResp{Vector{Float64}, Binomial{Float64}, LogitLink}, GLM.DensePredChol{Float64, LinearAlgebra.Cholesky{Float64, Matrix{Float64}}}}, Matrix{Float64}}\n",
              "\n",
              "computer ~ 1 + occup1\n",
              "\n",
              "Coefficients:\n",
              "────────────────────────────────────────────────────────────────────────────\n",
              "                  Coef.  Std. Error       z  Pr(>|z|)  Lower 95%   Upper 95%\n",
              "────────────────────────────────────────────────────────────────────────────\n",
              "(Intercept)  -0.804939    0.0720194  -11.18    <1e-28  -0.946094  -0.663783\n",
              "occup1: 2     0.82089     0.0788412   10.41    <1e-24   0.666364   0.975415\n",
              "occup1: 3    -0.0935914   0.0831086   -1.13    0.2601  -0.256481   0.0692985\n",
              "occup1: 4     0.8254      0.101501     8.13    <1e-15   0.626462   1.02434\n",
              "occup1: 5    -0.175616    0.0818407   -2.15    0.0319  -0.336021  -0.0152111\n",
              "occup1: 7    -1.77324     0.160864   -11.02    <1e-27  -2.08852   -1.45795\n",
              "occup1: 8    -2.36964     0.303248    -7.81    <1e-14  -2.96399   -1.77528\n",
              "occup1: 9    -2.69156     0.511836    -5.26    <1e-06  -3.69474   -1.68838\n",
              "────────────────────────────────────────────────────────────────────────────>"
            ]
          },
          "metadata": {},
          "execution_count": 34
        }
      ]
    },
    {
      "cell_type": "code",
      "source": [
        "%%julia\n",
        "m1 |> coef .|> exp"
      ],
      "metadata": {
        "colab": {
          "base_uri": "https://localhost:8080/"
        },
        "id": "1Vu5gxmzM3sr",
        "outputId": "00ffee11-1618-4185-fc13-068d90d6d079"
      },
      "execution_count": 35,
      "outputs": [
        {
          "output_type": "execute_result",
          "data": {
            "text/plain": [
              "array([0.44711538, 2.27252041, 0.91065474, 2.28279292, 0.83894016,\n",
              "       0.16978259, 0.09351468, 0.06777486])"
            ]
          },
          "metadata": {},
          "execution_count": 35
        }
      ]
    },
    {
      "cell_type": "code",
      "source": [
        "%%julia\n",
        "m2 = glm(@formula(computer ~ nace), df2, Binomial())"
      ],
      "metadata": {
        "colab": {
          "base_uri": "https://localhost:8080/"
        },
        "id": "bc6up-PKNGbs",
        "outputId": "36347614-7bed-4af5-8828-0079304d93c5"
      },
      "execution_count": 36,
      "outputs": [
        {
          "output_type": "execute_result",
          "data": {
            "text/plain": [
              "<PyCall.jlwrap StatsModels.TableRegressionModel{GeneralizedLinearModel{GLM.GlmResp{Vector{Float64}, Binomial{Float64}, LogitLink}, GLM.DensePredChol{Float64, LinearAlgebra.Cholesky{Float64, Matrix{Float64}}}}, Matrix{Float64}}\n",
              "\n",
              "computer ~ 1 + nace\n",
              "\n",
              "Coefficients:\n",
              "────────────────────────────────────────────────────────────────────────────\n",
              "                  Coef.  Std. Error       z  Pr(>|z|)   Lower 95%  Upper 95%\n",
              "────────────────────────────────────────────────────────────────────────────\n",
              "(Intercept)  -0.823798    0.0326821  -25.21    <1e-99  -0.887853   -0.759742\n",
              "nace: D      -0.706948    0.0963684   -7.34    <1e-12  -0.895827   -0.518069\n",
              "nace: E       0.329101    0.255848     1.29    0.1983  -0.172352    0.830555\n",
              "nace: F       0.143554    0.142766     1.01    0.3146  -0.136262    0.42337\n",
              "nace: G       0.338484    0.0716757    4.72    <1e-05   0.198002    0.478965\n",
              "nace: H       0.0396787   0.155523     0.26    0.7986  -0.265141    0.344499\n",
              "nace: I      -0.596398    0.209486    -2.85    0.0044  -1.00698    -0.185814\n",
              "nace: J       1.84883     0.0709196   26.07    <1e-99   1.70983     1.98783\n",
              "nace: K       0.072114    0.0606407    1.19    0.2344  -0.0467396   0.190968\n",
              "nace: L      -0.693525    0.159543    -4.35    <1e-04  -1.00622    -0.380826\n",
              "nace: M       0.0620878   0.0649821    0.96    0.3393  -0.0652748   0.18945\n",
              "nace: N       0.170457    0.0921099    1.85    0.0642  -0.0100754   0.350989\n",
              "nace: O       0.549361    0.306104     1.79    0.0727  -0.0505921   1.14931\n",
              "nace: P      -1.4296      0.212739    -6.72    <1e-10  -1.84656    -1.01264\n",
              "nace: Q      -0.919172    0.411005    -2.24    0.0253  -1.72473    -0.113616\n",
              "nace: R      -0.976261    0.243583    -4.01    <1e-04  -1.45367    -0.498847\n",
              "nace: S       0.451122    0.235687     1.91    0.0556  -0.0108158   0.913061\n",
              "────────────────────────────────────────────────────────────────────────────>"
            ]
          },
          "metadata": {},
          "execution_count": 36
        }
      ]
    },
    {
      "cell_type": "code",
      "source": [
        "%%julia\n",
        "m2 |> coef .|> exp"
      ],
      "metadata": {
        "colab": {
          "base_uri": "https://localhost:8080/"
        },
        "id": "U-op89UZOAfK",
        "outputId": "4a4ef747-5ffd-45bb-e052-0735c955f4f2"
      },
      "execution_count": 38,
      "outputs": [
        {
          "output_type": "execute_result",
          "data": {
            "text/plain": [
              "array([0.43876221, 0.493147  , 1.3897188 , 1.15436902, 1.40281878,\n",
              "       1.04047642, 0.55079188, 6.35235195, 1.07477784, 0.49981115,\n",
              "       1.06405578, 1.18584634, 1.73214551, 0.23940535, 0.39884929,\n",
              "       0.37671716, 1.57007341])"
            ]
          },
          "metadata": {},
          "execution_count": 38
        }
      ]
    }
  ]
}