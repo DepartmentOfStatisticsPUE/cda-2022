{
  "nbformat": 4,
  "nbformat_minor": 0,
  "metadata": {
    "colab": {
      "name": "cda_11_gee.ipynb",
      "provenance": [],
      "collapsed_sections": [],
      "authorship_tag": "ABX9TyNxjn/LBGLmCVb7N7t0LHTU",
      "include_colab_link": true
    },
    "kernelspec": {
      "name": "python3",
      "display_name": "Python 3"
    },
    "language_info": {
      "name": "python"
    }
  },
  "cells": [
    {
      "cell_type": "markdown",
      "metadata": {
        "id": "view-in-github",
        "colab_type": "text"
      },
      "source": [
        "<a href=\"https://colab.research.google.com/github/DepartmentOfStatisticsPUE/cda-2022/blob/main/notebooks/cda_11_gee.ipynb\" target=\"_parent\"><img src=\"https://colab.research.google.com/assets/colab-badge.svg\" alt=\"Open In Colab\"/></a>"
      ]
    },
    {
      "cell_type": "markdown",
      "source": [
        "Download the data"
      ],
      "metadata": {
        "id": "JMxlSCfLHhqI"
      }
    },
    {
      "cell_type": "code",
      "source": [
        "!wget -q --show-progress -O beer-gee.xlsx https://github.com/DepartmentOfStatisticsPUE/cda-2022/blob/main/data/beer-gee.xlsx?raw=true "
      ],
      "metadata": {
        "id": "c22rLsILHjT6"
      },
      "execution_count": null,
      "outputs": []
    },
    {
      "cell_type": "markdown",
      "source": [
        "## Python solution"
      ],
      "metadata": {
        "id": "KjbOMwKwHeM0"
      }
    },
    {
      "cell_type": "code",
      "execution_count": 1,
      "metadata": {
        "colab": {
          "base_uri": "https://localhost:8080/"
        },
        "id": "Y2Evrt8r-WxX",
        "outputId": "f7cf154b-0884-4371-e1f9-9e49395e697c"
      },
      "outputs": [
        {
          "output_type": "stream",
          "name": "stderr",
          "text": [
            "/usr/local/lib/python3.7/dist-packages/statsmodels/tools/_testing.py:19: FutureWarning: pandas.util.testing is deprecated. Use the functions in the public API at pandas.testing instead.\n",
            "  import pandas.util.testing as tm\n"
          ]
        }
      ],
      "source": [
        "import statsmodels.api as sm\n",
        "import statsmodels.formula.api as smf\n",
        "import pandas as pd"
      ]
    },
    {
      "cell_type": "code",
      "source": [
        "df = pd.read_excel(\"beer-gee.xlsx\")\n",
        "df.head(n=10)"
      ],
      "metadata": {
        "colab": {
          "base_uri": "https://localhost:8080/",
          "height": 363
        },
        "id": "Qh3PIW6L-huj",
        "outputId": "e31e9c6d-938a-4ed2-9d5f-760d1342018a"
      },
      "execution_count": 18,
      "outputs": [
        {
          "output_type": "execute_result",
          "data": {
            "text/plain": [
              "   id  size locality   education  beers  time\n",
              "0   1     4   50-99k  profession      8     1\n",
              "1   1     4   50-99k  profession     12     2\n",
              "2   1     4   50-99k  profession     13     3\n",
              "3   1     4   50-99k  profession      6     4\n",
              "4   1     4   50-99k  profession      6     5\n",
              "5   1     4   50-99k  profession     18     6\n",
              "6   1     4   50-99k  profession      8     7\n",
              "7   1     4   50-99k  profession      2     8\n",
              "8   1     4   50-99k  profession      1     9\n",
              "9   1     4   50-99k  profession      8    10"
            ],
            "text/html": [
              "\n",
              "  <div id=\"df-a5bcce6d-3d32-4a4f-805f-a7988a172edc\">\n",
              "    <div class=\"colab-df-container\">\n",
              "      <div>\n",
              "<style scoped>\n",
              "    .dataframe tbody tr th:only-of-type {\n",
              "        vertical-align: middle;\n",
              "    }\n",
              "\n",
              "    .dataframe tbody tr th {\n",
              "        vertical-align: top;\n",
              "    }\n",
              "\n",
              "    .dataframe thead th {\n",
              "        text-align: right;\n",
              "    }\n",
              "</style>\n",
              "<table border=\"1\" class=\"dataframe\">\n",
              "  <thead>\n",
              "    <tr style=\"text-align: right;\">\n",
              "      <th></th>\n",
              "      <th>id</th>\n",
              "      <th>size</th>\n",
              "      <th>locality</th>\n",
              "      <th>education</th>\n",
              "      <th>beers</th>\n",
              "      <th>time</th>\n",
              "    </tr>\n",
              "  </thead>\n",
              "  <tbody>\n",
              "    <tr>\n",
              "      <th>0</th>\n",
              "      <td>1</td>\n",
              "      <td>4</td>\n",
              "      <td>50-99k</td>\n",
              "      <td>profession</td>\n",
              "      <td>8</td>\n",
              "      <td>1</td>\n",
              "    </tr>\n",
              "    <tr>\n",
              "      <th>1</th>\n",
              "      <td>1</td>\n",
              "      <td>4</td>\n",
              "      <td>50-99k</td>\n",
              "      <td>profession</td>\n",
              "      <td>12</td>\n",
              "      <td>2</td>\n",
              "    </tr>\n",
              "    <tr>\n",
              "      <th>2</th>\n",
              "      <td>1</td>\n",
              "      <td>4</td>\n",
              "      <td>50-99k</td>\n",
              "      <td>profession</td>\n",
              "      <td>13</td>\n",
              "      <td>3</td>\n",
              "    </tr>\n",
              "    <tr>\n",
              "      <th>3</th>\n",
              "      <td>1</td>\n",
              "      <td>4</td>\n",
              "      <td>50-99k</td>\n",
              "      <td>profession</td>\n",
              "      <td>6</td>\n",
              "      <td>4</td>\n",
              "    </tr>\n",
              "    <tr>\n",
              "      <th>4</th>\n",
              "      <td>1</td>\n",
              "      <td>4</td>\n",
              "      <td>50-99k</td>\n",
              "      <td>profession</td>\n",
              "      <td>6</td>\n",
              "      <td>5</td>\n",
              "    </tr>\n",
              "    <tr>\n",
              "      <th>5</th>\n",
              "      <td>1</td>\n",
              "      <td>4</td>\n",
              "      <td>50-99k</td>\n",
              "      <td>profession</td>\n",
              "      <td>18</td>\n",
              "      <td>6</td>\n",
              "    </tr>\n",
              "    <tr>\n",
              "      <th>6</th>\n",
              "      <td>1</td>\n",
              "      <td>4</td>\n",
              "      <td>50-99k</td>\n",
              "      <td>profession</td>\n",
              "      <td>8</td>\n",
              "      <td>7</td>\n",
              "    </tr>\n",
              "    <tr>\n",
              "      <th>7</th>\n",
              "      <td>1</td>\n",
              "      <td>4</td>\n",
              "      <td>50-99k</td>\n",
              "      <td>profession</td>\n",
              "      <td>2</td>\n",
              "      <td>8</td>\n",
              "    </tr>\n",
              "    <tr>\n",
              "      <th>8</th>\n",
              "      <td>1</td>\n",
              "      <td>4</td>\n",
              "      <td>50-99k</td>\n",
              "      <td>profession</td>\n",
              "      <td>1</td>\n",
              "      <td>9</td>\n",
              "    </tr>\n",
              "    <tr>\n",
              "      <th>9</th>\n",
              "      <td>1</td>\n",
              "      <td>4</td>\n",
              "      <td>50-99k</td>\n",
              "      <td>profession</td>\n",
              "      <td>8</td>\n",
              "      <td>10</td>\n",
              "    </tr>\n",
              "  </tbody>\n",
              "</table>\n",
              "</div>\n",
              "      <button class=\"colab-df-convert\" onclick=\"convertToInteractive('df-a5bcce6d-3d32-4a4f-805f-a7988a172edc')\"\n",
              "              title=\"Convert this dataframe to an interactive table.\"\n",
              "              style=\"display:none;\">\n",
              "        \n",
              "  <svg xmlns=\"http://www.w3.org/2000/svg\" height=\"24px\"viewBox=\"0 0 24 24\"\n",
              "       width=\"24px\">\n",
              "    <path d=\"M0 0h24v24H0V0z\" fill=\"none\"/>\n",
              "    <path d=\"M18.56 5.44l.94 2.06.94-2.06 2.06-.94-2.06-.94-.94-2.06-.94 2.06-2.06.94zm-11 1L8.5 8.5l.94-2.06 2.06-.94-2.06-.94L8.5 2.5l-.94 2.06-2.06.94zm10 10l.94 2.06.94-2.06 2.06-.94-2.06-.94-.94-2.06-.94 2.06-2.06.94z\"/><path d=\"M17.41 7.96l-1.37-1.37c-.4-.4-.92-.59-1.43-.59-.52 0-1.04.2-1.43.59L10.3 9.45l-7.72 7.72c-.78.78-.78 2.05 0 2.83L4 21.41c.39.39.9.59 1.41.59.51 0 1.02-.2 1.41-.59l7.78-7.78 2.81-2.81c.8-.78.8-2.07 0-2.86zM5.41 20L4 18.59l7.72-7.72 1.47 1.35L5.41 20z\"/>\n",
              "  </svg>\n",
              "      </button>\n",
              "      \n",
              "  <style>\n",
              "    .colab-df-container {\n",
              "      display:flex;\n",
              "      flex-wrap:wrap;\n",
              "      gap: 12px;\n",
              "    }\n",
              "\n",
              "    .colab-df-convert {\n",
              "      background-color: #E8F0FE;\n",
              "      border: none;\n",
              "      border-radius: 50%;\n",
              "      cursor: pointer;\n",
              "      display: none;\n",
              "      fill: #1967D2;\n",
              "      height: 32px;\n",
              "      padding: 0 0 0 0;\n",
              "      width: 32px;\n",
              "    }\n",
              "\n",
              "    .colab-df-convert:hover {\n",
              "      background-color: #E2EBFA;\n",
              "      box-shadow: 0px 1px 2px rgba(60, 64, 67, 0.3), 0px 1px 3px 1px rgba(60, 64, 67, 0.15);\n",
              "      fill: #174EA6;\n",
              "    }\n",
              "\n",
              "    [theme=dark] .colab-df-convert {\n",
              "      background-color: #3B4455;\n",
              "      fill: #D2E3FC;\n",
              "    }\n",
              "\n",
              "    [theme=dark] .colab-df-convert:hover {\n",
              "      background-color: #434B5C;\n",
              "      box-shadow: 0px 1px 3px 1px rgba(0, 0, 0, 0.15);\n",
              "      filter: drop-shadow(0px 1px 2px rgba(0, 0, 0, 0.3));\n",
              "      fill: #FFFFFF;\n",
              "    }\n",
              "  </style>\n",
              "\n",
              "      <script>\n",
              "        const buttonEl =\n",
              "          document.querySelector('#df-a5bcce6d-3d32-4a4f-805f-a7988a172edc button.colab-df-convert');\n",
              "        buttonEl.style.display =\n",
              "          google.colab.kernel.accessAllowed ? 'block' : 'none';\n",
              "\n",
              "        async function convertToInteractive(key) {\n",
              "          const element = document.querySelector('#df-a5bcce6d-3d32-4a4f-805f-a7988a172edc');\n",
              "          const dataTable =\n",
              "            await google.colab.kernel.invokeFunction('convertToInteractive',\n",
              "                                                     [key], {});\n",
              "          if (!dataTable) return;\n",
              "\n",
              "          const docLinkHtml = 'Like what you see? Visit the ' +\n",
              "            '<a target=\"_blank\" href=https://colab.research.google.com/notebooks/data_table.ipynb>data table notebook</a>'\n",
              "            + ' to learn more about interactive tables.';\n",
              "          element.innerHTML = '';\n",
              "          dataTable['output_type'] = 'display_data';\n",
              "          await google.colab.output.renderOutput(dataTable, element);\n",
              "          const docLink = document.createElement('div');\n",
              "          docLink.innerHTML = docLinkHtml;\n",
              "          element.appendChild(docLink);\n",
              "        }\n",
              "      </script>\n",
              "    </div>\n",
              "  </div>\n",
              "  "
            ]
          },
          "metadata": {},
          "execution_count": 18
        }
      ]
    },
    {
      "cell_type": "code",
      "source": [
        "m1 = sm.GEE.from_formula(\n",
        "    \"beers ~ size + locality + education + C(time)\",  \n",
        "    groups = df[\"id\"], \n",
        "    data = df,\n",
        "    cov_struct=sm.cov_struct.Independence(), \n",
        "    family=sm.families.Poisson()).fit()\n",
        "\n",
        "m2 = sm.GEE.from_formula(\n",
        "    \"beers ~ size + locality + education + C(time)\",  \n",
        "    groups = df[\"id\"], \n",
        "    data = df,\n",
        "    cov_struct=sm.cov_struct.Exchangeable(), \n",
        "    family=sm.families.Poisson()).fit()"
      ],
      "metadata": {
        "id": "oYgNGg3HGYo9"
      },
      "execution_count": 23,
      "outputs": []
    },
    {
      "cell_type": "markdown",
      "source": [
        "There is the problem with autoregressive model"
      ],
      "metadata": {
        "id": "_jPtyYxhHDki"
      }
    },
    {
      "cell_type": "code",
      "source": [
        "m3 = sm.GEE.from_formula(\n",
        "    \"beers ~ size + locality + education + C(time)\",  \n",
        "    groups = df[\"id\"], \n",
        "    data = df,\n",
        "    time = df[\"time\"],\n",
        "    cov_struct=sm.cov_struct.Autoregressive(), \n",
        "    family=sm.families.Poisson()).fit()"
      ],
      "metadata": {
        "id": "BiThecsQ-nc3"
      },
      "execution_count": null,
      "outputs": []
    },
    {
      "cell_type": "code",
      "source": [
        "print(m1.summary())"
      ],
      "metadata": {
        "colab": {
          "base_uri": "https://localhost:8080/"
        },
        "id": "2VNhix4b_FLo",
        "outputId": "a3862f3c-4b60-4057-bc3d-41fd0e5dbcf3"
      },
      "execution_count": 29,
      "outputs": [
        {
          "output_type": "stream",
          "name": "stdout",
          "text": [
            "                               GEE Regression Results                              \n",
            "===================================================================================\n",
            "Dep. Variable:                       beers   No. Observations:                 5868\n",
            "Model:                                 GEE   No. clusters:                      489\n",
            "Method:                        Generalized   Min. cluster size:                  12\n",
            "                      Estimating Equations   Max. cluster size:                  12\n",
            "Family:                            Poisson   Mean cluster size:                12.0\n",
            "Dependence structure:         Independence   Num. iterations:                     2\n",
            "Date:                     Wed, 25 May 2022   Scale:                           1.000\n",
            "Covariance type:                    robust   Time:                         07:26:49\n",
            "===========================================================================================\n",
            "                              coef    std err          z      P>|z|      [0.025      0.975]\n",
            "-------------------------------------------------------------------------------------------\n",
            "Intercept                   3.1452      0.278     11.331      0.000       2.601       3.689\n",
            "locality[T.20-49k]          0.0468      0.134      0.348      0.728      -0.217       0.310\n",
            "locality[T.200-500k]        0.0919      0.133      0.691      0.490      -0.169       0.353\n",
            "locality[T.50-99k]         -0.0935      0.144     -0.648      0.517      -0.376       0.189\n",
            "locality[T.500k+]          -0.0597      0.154     -0.388      0.698      -0.361       0.241\n",
            "locality[T.to 19k]          0.0386      0.156      0.247      0.805      -0.267       0.345\n",
            "locality[T.village]        -0.1591      0.128     -1.246      0.213      -0.409       0.091\n",
            "education[T.profession]    -0.2131      0.248     -0.859      0.391      -0.699       0.273\n",
            "education[T.secondary]     -0.1688      0.249     -0.678      0.498      -0.656       0.319\n",
            "education[T.university]    -0.1883      0.253     -0.745      0.456      -0.684       0.307\n",
            "C(time)[T.2]               -0.0587      0.031     -1.916      0.055      -0.119       0.001\n",
            "C(time)[T.3]                0.0775      0.031      2.484      0.013       0.016       0.139\n",
            "C(time)[T.4]               -0.0773      0.031     -2.484      0.013      -0.138      -0.016\n",
            "C(time)[T.5]               -0.0761      0.036     -2.099      0.036      -0.147      -0.005\n",
            "C(time)[T.6]               -0.0756      0.034     -2.203      0.028      -0.143      -0.008\n",
            "C(time)[T.7]               -0.0855      0.035     -2.461      0.014      -0.154      -0.017\n",
            "C(time)[T.8]                0.0386      0.037      1.040      0.298      -0.034       0.111\n",
            "C(time)[T.9]                0.0082      0.034      0.242      0.809      -0.058       0.074\n",
            "C(time)[T.10]               0.0296      0.036      0.830      0.407      -0.040       0.100\n",
            "C(time)[T.11]               0.0345      0.038      0.904      0.366      -0.040       0.109\n",
            "C(time)[T.12]               0.1262      0.039      3.220      0.001       0.049       0.203\n",
            "size                        0.0637      0.043      1.500      0.134      -0.020       0.147\n",
            "==============================================================================\n",
            "Skew:                          2.4312   Kurtosis:                       8.0651\n",
            "Centered skew:                 0.6226   Centered kurtosis:              5.5294\n",
            "==============================================================================\n"
          ]
        }
      ]
    },
    {
      "cell_type": "code",
      "source": [
        "print(m2.summary())"
      ],
      "metadata": {
        "colab": {
          "base_uri": "https://localhost:8080/"
        },
        "id": "yVhV5sGwHIKV",
        "outputId": "d4f3157b-afdc-46df-a0aa-9f15cdb2b622"
      },
      "execution_count": 30,
      "outputs": [
        {
          "output_type": "stream",
          "name": "stdout",
          "text": [
            "                               GEE Regression Results                              \n",
            "===================================================================================\n",
            "Dep. Variable:                       beers   No. Observations:                 5868\n",
            "Model:                                 GEE   No. clusters:                      489\n",
            "Method:                        Generalized   Min. cluster size:                  12\n",
            "                      Estimating Equations   Max. cluster size:                  12\n",
            "Family:                            Poisson   Mean cluster size:                12.0\n",
            "Dependence structure:         Exchangeable   Num. iterations:                     6\n",
            "Date:                     Wed, 25 May 2022   Scale:                           1.000\n",
            "Covariance type:                    robust   Time:                         07:26:57\n",
            "===========================================================================================\n",
            "                              coef    std err          z      P>|z|      [0.025      0.975]\n",
            "-------------------------------------------------------------------------------------------\n",
            "Intercept                   3.1574      0.278     11.354      0.000       2.612       3.702\n",
            "locality[T.20-49k]          0.0331      0.131      0.253      0.800      -0.223       0.289\n",
            "locality[T.200-500k]        0.0898      0.129      0.694      0.488      -0.164       0.343\n",
            "locality[T.50-99k]         -0.0685      0.138     -0.495      0.621      -0.340       0.203\n",
            "locality[T.500k+]          -0.0654      0.144     -0.455      0.649      -0.347       0.217\n",
            "locality[T.to 19k]          0.0381      0.154      0.248      0.804      -0.263       0.339\n",
            "locality[T.village]        -0.1384      0.128     -1.084      0.278      -0.389       0.112\n",
            "education[T.profession]    -0.1894      0.253     -0.750      0.453      -0.684       0.306\n",
            "education[T.secondary]     -0.1605      0.254     -0.633      0.527      -0.658       0.337\n",
            "education[T.university]    -0.1967      0.258     -0.763      0.446      -0.702       0.309\n",
            "C(time)[T.2]               -0.0587      0.031     -1.916      0.055      -0.119       0.001\n",
            "C(time)[T.3]                0.0775      0.031      2.484      0.013       0.016       0.139\n",
            "C(time)[T.4]               -0.0773      0.031     -2.484      0.013      -0.138      -0.016\n",
            "C(time)[T.5]               -0.0761      0.036     -2.099      0.036      -0.147      -0.005\n",
            "C(time)[T.6]               -0.0756      0.034     -2.203      0.028      -0.143      -0.008\n",
            "C(time)[T.7]               -0.0855      0.035     -2.461      0.014      -0.154      -0.017\n",
            "C(time)[T.8]                0.0386      0.037      1.040      0.298      -0.034       0.111\n",
            "C(time)[T.9]                0.0082      0.034      0.242      0.809      -0.058       0.074\n",
            "C(time)[T.10]               0.0296      0.036      0.830      0.407      -0.040       0.100\n",
            "C(time)[T.11]               0.0345      0.038      0.904      0.366      -0.040       0.109\n",
            "C(time)[T.12]               0.1262      0.039      3.220      0.001       0.049       0.203\n",
            "size                        0.0559      0.042      1.341      0.180      -0.026       0.138\n",
            "==============================================================================\n",
            "Skew:                          2.4383   Kurtosis:                       8.0792\n",
            "Centered skew:                 0.6228   Centered kurtosis:              5.5301\n",
            "==============================================================================\n"
          ]
        }
      ]
    },
    {
      "cell_type": "markdown",
      "source": [
        "Estimated $\\alpha$ can be found here."
      ],
      "metadata": {
        "id": "nS9_LgCBHWmU"
      }
    },
    {
      "cell_type": "code",
      "source": [
        "m2.cov_struct.dep_params"
      ],
      "metadata": {
        "colab": {
          "base_uri": "https://localhost:8080/"
        },
        "id": "L-DkkwIgHJtH",
        "outputId": "03f9c235-62ff-40b8-bb6b-2ed37f225cd6"
      },
      "execution_count": 34,
      "outputs": [
        {
          "output_type": "execute_result",
          "data": {
            "text/plain": [
              "0.7062544156049541"
            ]
          },
          "metadata": {},
          "execution_count": 34
        }
      ]
    }
  ]
}