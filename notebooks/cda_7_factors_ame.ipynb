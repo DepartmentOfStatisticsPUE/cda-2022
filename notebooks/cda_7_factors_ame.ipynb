{
  "nbformat": 4,
  "nbformat_minor": 0,
  "metadata": {
    "colab": {
      "name": "cda_7_factors_ame.ipynb",
      "provenance": [],
      "collapsed_sections": [],
      "authorship_tag": "ABX9TyP1EK1u4hwamXhDzXMRhqpM",
      "include_colab_link": true
    },
    "kernelspec": {
      "name": "python3",
      "display_name": "Python 3"
    },
    "language_info": {
      "name": "python"
    }
  },
  "cells": [
    {
      "cell_type": "markdown",
      "metadata": {
        "id": "view-in-github",
        "colab_type": "text"
      },
      "source": [
        "<a href=\"https://colab.research.google.com/github/DepartmentOfStatisticsPUE/cda-2022/blob/main/notebooks/cda_7_factors_ame.ipynb\" target=\"_parent\"><img src=\"https://colab.research.google.com/assets/colab-badge.svg\" alt=\"Open In Colab\"/></a>"
      ]
    },
    {
      "cell_type": "markdown",
      "source": [
        "## Setup\n"
      ],
      "metadata": {
        "id": "wbiDG077LAVy"
      }
    },
    {
      "cell_type": "markdown",
      "source": [
        "Python"
      ],
      "metadata": {
        "id": "ecCGh298Lnch"
      }
    },
    {
      "cell_type": "code",
      "execution_count": 1,
      "metadata": {
        "colab": {
          "base_uri": "https://localhost:8080/"
        },
        "id": "rM7gFerpKwAU",
        "outputId": "a626e62d-7cdc-456c-ce38-e4c95ffc90f8"
      },
      "outputs": [
        {
          "output_type": "stream",
          "name": "stderr",
          "text": [
            "/usr/local/lib/python3.7/dist-packages/statsmodels/tools/_testing.py:19: FutureWarning: pandas.util.testing is deprecated. Use the functions in the public API at pandas.testing instead.\n",
            "  import pandas.util.testing as tm\n"
          ]
        }
      ],
      "source": [
        "import pandas as pd\n",
        "import numpy as np\n",
        "import statsmodels.api as sm\n",
        "import statsmodels.formula.api as smf"
      ]
    },
    {
      "cell_type": "markdown",
      "source": [
        "R"
      ],
      "metadata": {
        "id": "oflY5IEULlPS"
      }
    },
    {
      "cell_type": "code",
      "source": [
        "%load_ext rpy2.ipython"
      ],
      "metadata": {
        "id": "ZmNzKeoJK9Ia"
      },
      "execution_count": 2,
      "outputs": []
    },
    {
      "cell_type": "code",
      "source": [
        "%%R\n",
        "install.packages(\"margins\")"
      ],
      "metadata": {
        "id": "1I12A3VOLD3R"
      },
      "execution_count": null,
      "outputs": []
    },
    {
      "cell_type": "code",
      "source": [
        "%%R\n",
        "library(margins)"
      ],
      "metadata": {
        "id": "YNCxdK3-LHN1"
      },
      "execution_count": 5,
      "outputs": []
    },
    {
      "cell_type": "markdown",
      "source": [
        "Julia"
      ],
      "metadata": {
        "id": "u4oIy6qlLmAa"
      }
    },
    {
      "cell_type": "code",
      "source": [
        "%%bash\n",
        "wget -q https://julialang-s3.julialang.org/bin/linux/x64/1.7/julia-1.7.2-linux-x86_64.tar.gz\n",
        "tar zxvf julia-1.7.2-linux-x86_64.tar.gz\n",
        "## python's module\n",
        "pip install julia"
      ],
      "metadata": {
        "id": "D0eaNC8ELIWA"
      },
      "execution_count": null,
      "outputs": []
    },
    {
      "cell_type": "code",
      "source": [
        "import julia\n",
        "julia.install(julia = \"/content/julia-1.7.2/bin/julia\")\n",
        "from julia import Julia\n",
        "jl = Julia(runtime=\"/content/julia-1.7.2/bin/julia\",compiled_modules=False)\n",
        "%load_ext julia.magic"
      ],
      "metadata": {
        "colab": {
          "base_uri": "https://localhost:8080/"
        },
        "id": "mdZCXNOBLJXo",
        "outputId": "d1329188-8e0c-4833-c2d1-a10f0bd5b164"
      },
      "execution_count": 7,
      "outputs": [
        {
          "output_type": "stream",
          "name": "stderr",
          "text": [
            "\n",
            "Precompiling PyCall...\n",
            "Precompiling PyCall... DONE\n",
            "PyCall is installed and built successfully.\n",
            "\n",
            "PyCall is setup for non-default Julia runtime (executable) `/content/julia-1.7.2/bin/julia`.\n",
            "To use this Julia runtime, PyJulia has to be initialized first by\n",
            "    from julia import Julia\n",
            "    Julia(runtime='/content/julia-1.7.2/bin/julia')\n"
          ]
        },
        {
          "output_type": "stream",
          "name": "stdout",
          "text": [
            "Initializing Julia interpreter. This may take some time...\n"
          ]
        },
        {
          "output_type": "stream",
          "name": "stderr",
          "text": [
            "/usr/local/lib/python3.7/dist-packages/julia/magic.py:166: UserWarning: Incompatible upstream libraries. Got ImportError: No module named 'prompt_toolkit.lexers'\n",
            "  warnings.warn(template.format(err))\n",
            "/usr/local/lib/python3.7/dist-packages/julia/magic.py:174: UserWarning: Incompatible upstream libraries. Got ImportError: cannot import name 'Completion' from 'IPython.core.completer' (/usr/local/lib/python3.7/dist-packages/IPython/core/completer.py)\n",
            "  warnings.warn(template.format(err))\n"
          ]
        }
      ]
    },
    {
      "cell_type": "code",
      "source": [
        "%%julia\n",
        "using Pkg\n",
        "Pkg.add(\"StatsBase\")\n",
        "Pkg.add(\"GLM\")\n",
        "Pkg.add(\"Effects\")\n",
        "Pkg.add(\"RDatasets\")"
      ],
      "metadata": {
        "id": "BjRoQQZULLL0"
      },
      "execution_count": null,
      "outputs": []
    },
    {
      "cell_type": "code",
      "source": [
        "%%julia\n",
        "using StatsBase\n",
        "using GLM\n",
        "using Effects\n",
        "using RDatasets"
      ],
      "metadata": {
        "id": "1qK2LC_wMLcv"
      },
      "execution_count": 9,
      "outputs": []
    },
    {
      "cell_type": "markdown",
      "source": [
        "## Soultion in R"
      ],
      "metadata": {
        "id": "IKKw8xHJNWVR"
      }
    },
    {
      "cell_type": "code",
      "source": [
        "%%R\n",
        "model1 <- lm(formula = mpg ~ cyl, data = mtcars)\n",
        "summary(model1)"
      ],
      "metadata": {
        "colab": {
          "base_uri": "https://localhost:8080/"
        },
        "id": "sUe6f1iDNYhR",
        "outputId": "828bcaa8-6060-4f08-fa4b-41079c2daa9f"
      },
      "execution_count": 11,
      "outputs": [
        {
          "output_type": "stream",
          "name": "stdout",
          "text": [
            "\n",
            "Call:\n",
            "lm(formula = mpg ~ cyl, data = mtcars)\n",
            "\n",
            "Residuals:\n",
            "    Min      1Q  Median      3Q     Max \n",
            "-4.9814 -2.1185  0.2217  1.0717  7.5186 \n",
            "\n",
            "Coefficients:\n",
            "            Estimate Std. Error t value Pr(>|t|)    \n",
            "(Intercept)  37.8846     2.0738   18.27  < 2e-16 ***\n",
            "cyl          -2.8758     0.3224   -8.92 6.11e-10 ***\n",
            "---\n",
            "Signif. codes:  0 ‘***’ 0.001 ‘**’ 0.01 ‘*’ 0.05 ‘.’ 0.1 ‘ ’ 1\n",
            "\n",
            "Residual standard error: 3.206 on 30 degrees of freedom\n",
            "Multiple R-squared:  0.7262,\tAdjusted R-squared:  0.7171 \n",
            "F-statistic: 79.56 on 1 and 30 DF,  p-value: 6.113e-10\n",
            "\n"
          ]
        }
      ]
    },
    {
      "cell_type": "code",
      "source": [
        "%%R\n",
        "mtcars$cyl_f <- as.factor(mtcars$cyl)"
      ],
      "metadata": {
        "id": "hDnm1FXxNf_v"
      },
      "execution_count": 12,
      "outputs": []
    },
    {
      "cell_type": "code",
      "source": [
        "%%R\n",
        "model2 <- lm(formula = mpg ~ cyl_f, data = mtcars)\n",
        "summary(model2)"
      ],
      "metadata": {
        "colab": {
          "base_uri": "https://localhost:8080/"
        },
        "id": "FJ2ogWNdNioz",
        "outputId": "934b75cb-afd4-4b11-ad04-59415b0ed47a"
      },
      "execution_count": 13,
      "outputs": [
        {
          "output_type": "stream",
          "name": "stdout",
          "text": [
            "\n",
            "Call:\n",
            "lm(formula = mpg ~ cyl_f, data = mtcars)\n",
            "\n",
            "Residuals:\n",
            "    Min      1Q  Median      3Q     Max \n",
            "-5.2636 -1.8357  0.0286  1.3893  7.2364 \n",
            "\n",
            "Coefficients:\n",
            "            Estimate Std. Error t value Pr(>|t|)    \n",
            "(Intercept)  26.6636     0.9718  27.437  < 2e-16 ***\n",
            "cyl_f6       -6.9208     1.5583  -4.441 0.000119 ***\n",
            "cyl_f8      -11.5636     1.2986  -8.905 8.57e-10 ***\n",
            "---\n",
            "Signif. codes:  0 ‘***’ 0.001 ‘**’ 0.01 ‘*’ 0.05 ‘.’ 0.1 ‘ ’ 1\n",
            "\n",
            "Residual standard error: 3.223 on 29 degrees of freedom\n",
            "Multiple R-squared:  0.7325,\tAdjusted R-squared:  0.714 \n",
            "F-statistic:  39.7 on 2 and 29 DF,  p-value: 4.979e-09\n",
            "\n"
          ]
        }
      ]
    },
    {
      "cell_type": "code",
      "source": [
        "%%R\n",
        "model3 <- lm(formula = mpg ~ relevel(cyl_f, ref = \"8\"), data = mtcars)\n",
        "summary(model3)"
      ],
      "metadata": {
        "colab": {
          "base_uri": "https://localhost:8080/"
        },
        "id": "vGn2MCdbNloe",
        "outputId": "569f0109-2a68-4607-b2bb-8bdc660278cd"
      },
      "execution_count": 14,
      "outputs": [
        {
          "output_type": "stream",
          "name": "stdout",
          "text": [
            "\n",
            "Call:\n",
            "lm(formula = mpg ~ relevel(cyl_f, ref = \"8\"), data = mtcars)\n",
            "\n",
            "Residuals:\n",
            "    Min      1Q  Median      3Q     Max \n",
            "-5.2636 -1.8357  0.0286  1.3893  7.2364 \n",
            "\n",
            "Coefficients:\n",
            "                           Estimate Std. Error t value Pr(>|t|)    \n",
            "(Intercept)                 15.1000     0.8614  17.529  < 2e-16 ***\n",
            "relevel(cyl_f, ref = \"8\")4  11.5636     1.2986   8.905 8.57e-10 ***\n",
            "relevel(cyl_f, ref = \"8\")6   4.6429     1.4920   3.112  0.00415 ** \n",
            "---\n",
            "Signif. codes:  0 ‘***’ 0.001 ‘**’ 0.01 ‘*’ 0.05 ‘.’ 0.1 ‘ ’ 1\n",
            "\n",
            "Residual standard error: 3.223 on 29 degrees of freedom\n",
            "Multiple R-squared:  0.7325,\tAdjusted R-squared:  0.714 \n",
            "F-statistic:  39.7 on 2 and 29 DF,  p-value: 4.979e-09\n",
            "\n"
          ]
        }
      ]
    },
    {
      "cell_type": "code",
      "source": [
        "%%R\n",
        "model1 <- lm(mpg ~ wt, mtcars)\n",
        "model2 <- lm(mpg ~ wt + I(wt^2), mtcars) ## I() allows for transformations within formula"
      ],
      "metadata": {
        "id": "O9-VVJnlNqHD"
      },
      "execution_count": 15,
      "outputs": []
    },
    {
      "cell_type": "code",
      "source": [
        "%%R\n",
        "print(coef(model1))"
      ],
      "metadata": {
        "colab": {
          "base_uri": "https://localhost:8080/"
        },
        "id": "EamDHoC1Ns8t",
        "outputId": "d5a2ad9e-b2dc-4bf3-df8f-96f1a2fc6211"
      },
      "execution_count": 16,
      "outputs": [
        {
          "output_type": "stream",
          "name": "stdout",
          "text": [
            "(Intercept)          wt \n",
            "  37.285126   -5.344472 \n"
          ]
        }
      ]
    },
    {
      "cell_type": "code",
      "source": [
        "%%R\n",
        "summary(margins(model1))"
      ],
      "metadata": {
        "colab": {
          "base_uri": "https://localhost:8080/"
        },
        "id": "Figi5IkrNuZ1",
        "outputId": "9db79049-9a32-484e-ba2c-056c280f625c"
      },
      "execution_count": 17,
      "outputs": [
        {
          "output_type": "stream",
          "name": "stdout",
          "text": [
            " factor     AME     SE       z      p   lower   upper\n",
            "     wt -5.3445 0.5591 -9.5590 0.0000 -6.4403 -4.2487\n"
          ]
        }
      ]
    },
    {
      "cell_type": "code",
      "source": [
        "%%R\n",
        "print(coef(model2))"
      ],
      "metadata": {
        "colab": {
          "base_uri": "https://localhost:8080/"
        },
        "id": "T2GCWIzzNwoG",
        "outputId": "228f6b7a-3da8-4a08-dd0d-960c14d6c75d"
      },
      "execution_count": 18,
      "outputs": [
        {
          "output_type": "stream",
          "name": "stdout",
          "text": [
            "(Intercept)          wt     I(wt^2) \n",
            "  49.930811  -13.380337    1.171087 \n"
          ]
        }
      ]
    },
    {
      "cell_type": "code",
      "source": [
        "%%R\n",
        "summary(margins(model2))"
      ],
      "metadata": {
        "colab": {
          "base_uri": "https://localhost:8080/"
        },
        "id": "LACIkOs6NyVh",
        "outputId": "b47c36c1-98f4-48bf-b78f-d1c96c4b22db"
      },
      "execution_count": 19,
      "outputs": [
        {
          "output_type": "stream",
          "name": "stdout",
          "text": [
            " factor     AME     SE        z      p   lower   upper\n",
            "     wt -5.8450 0.5102 -11.4557 0.0000 -6.8450 -4.8450\n"
          ]
        }
      ]
    },
    {
      "cell_type": "code",
      "source": [
        "%%R\n",
        "model3 <- lm(mpg ~ factor(cyl)*factor(am), mtcars)\n",
        "summary(model3)"
      ],
      "metadata": {
        "colab": {
          "base_uri": "https://localhost:8080/"
        },
        "id": "qwcJrrhkN3vW",
        "outputId": "f7b25386-8883-4203-b061-e526979dad1a"
      },
      "execution_count": 20,
      "outputs": [
        {
          "output_type": "stream",
          "name": "stdout",
          "text": [
            "\n",
            "Call:\n",
            "lm(formula = mpg ~ factor(cyl) * factor(am), data = mtcars)\n",
            "\n",
            "Residuals:\n",
            "    Min      1Q  Median      3Q     Max \n",
            "-6.6750 -1.1000  0.1125  1.6875  5.8250 \n",
            "\n",
            "Coefficients:\n",
            "                         Estimate Std. Error t value Pr(>|t|)    \n",
            "(Intercept)                22.900      1.751  13.081 6.06e-13 ***\n",
            "factor(cyl)6               -3.775      2.316  -1.630 0.115155    \n",
            "factor(cyl)8               -7.850      1.957  -4.011 0.000455 ***\n",
            "factor(am)1                 5.175      2.053   2.521 0.018176 *  \n",
            "factor(cyl)6:factor(am)1   -3.733      3.095  -1.206 0.238553    \n",
            "factor(cyl)8:factor(am)1   -4.825      3.095  -1.559 0.131069    \n",
            "---\n",
            "Signif. codes:  0 ‘***’ 0.001 ‘**’ 0.01 ‘*’ 0.05 ‘.’ 0.1 ‘ ’ 1\n",
            "\n",
            "Residual standard error: 3.032 on 26 degrees of freedom\n",
            "Multiple R-squared:  0.7877,\tAdjusted R-squared:  0.7469 \n",
            "F-statistic: 19.29 on 5 and 26 DF,  p-value: 5.179e-08\n",
            "\n"
          ]
        }
      ]
    },
    {
      "cell_type": "code",
      "source": [
        "%%R\n",
        "summary(margins(model3))"
      ],
      "metadata": {
        "colab": {
          "base_uri": "https://localhost:8080/"
        },
        "id": "VdxY1qkiN59x",
        "outputId": "9fc45c32-f672-4f4a-dd6c-334c7ff2456c"
      },
      "execution_count": 22,
      "outputs": [
        {
          "output_type": "stream",
          "name": "stdout",
          "text": [
            " factor     AME     SE       z      p    lower   upper\n",
            "    am1  2.2474 1.3346  1.6839 0.0922  -0.3684  4.8632\n",
            "   cyl6 -5.2917 1.6082 -3.2904 0.0010  -8.4437 -2.1396\n",
            "   cyl8 -9.8102 1.5163 -6.4700 0.0000 -12.7820 -6.8384\n"
          ]
        }
      ]
    },
    {
      "cell_type": "markdown",
      "source": [
        "## Solution in Python"
      ],
      "metadata": {
        "id": "H095aJM9OBRk"
      }
    },
    {
      "cell_type": "code",
      "source": [
        "mtcars = sm.datasets.get_rdataset(\"mtcars\", \"datasets\").data\n",
        "mtcars.head(n=2)"
      ],
      "metadata": {
        "colab": {
          "base_uri": "https://localhost:8080/",
          "height": 112
        },
        "id": "XQUrTLRaOCrM",
        "outputId": "bea85f94-9bac-441c-e33c-69e7d45fbe53"
      },
      "execution_count": 24,
      "outputs": [
        {
          "output_type": "execute_result",
          "data": {
            "text/plain": [
              "                mpg  cyl   disp   hp  drat     wt   qsec  vs  am  gear  carb\n",
              "Mazda RX4      21.0    6  160.0  110   3.9  2.620  16.46   0   1     4     4\n",
              "Mazda RX4 Wag  21.0    6  160.0  110   3.9  2.875  17.02   0   1     4     4"
            ],
            "text/html": [
              "\n",
              "  <div id=\"df-c7a0b820-3dc2-4472-865d-06a5fc345ec5\">\n",
              "    <div class=\"colab-df-container\">\n",
              "      <div>\n",
              "<style scoped>\n",
              "    .dataframe tbody tr th:only-of-type {\n",
              "        vertical-align: middle;\n",
              "    }\n",
              "\n",
              "    .dataframe tbody tr th {\n",
              "        vertical-align: top;\n",
              "    }\n",
              "\n",
              "    .dataframe thead th {\n",
              "        text-align: right;\n",
              "    }\n",
              "</style>\n",
              "<table border=\"1\" class=\"dataframe\">\n",
              "  <thead>\n",
              "    <tr style=\"text-align: right;\">\n",
              "      <th></th>\n",
              "      <th>mpg</th>\n",
              "      <th>cyl</th>\n",
              "      <th>disp</th>\n",
              "      <th>hp</th>\n",
              "      <th>drat</th>\n",
              "      <th>wt</th>\n",
              "      <th>qsec</th>\n",
              "      <th>vs</th>\n",
              "      <th>am</th>\n",
              "      <th>gear</th>\n",
              "      <th>carb</th>\n",
              "    </tr>\n",
              "  </thead>\n",
              "  <tbody>\n",
              "    <tr>\n",
              "      <th>Mazda RX4</th>\n",
              "      <td>21.0</td>\n",
              "      <td>6</td>\n",
              "      <td>160.0</td>\n",
              "      <td>110</td>\n",
              "      <td>3.9</td>\n",
              "      <td>2.620</td>\n",
              "      <td>16.46</td>\n",
              "      <td>0</td>\n",
              "      <td>1</td>\n",
              "      <td>4</td>\n",
              "      <td>4</td>\n",
              "    </tr>\n",
              "    <tr>\n",
              "      <th>Mazda RX4 Wag</th>\n",
              "      <td>21.0</td>\n",
              "      <td>6</td>\n",
              "      <td>160.0</td>\n",
              "      <td>110</td>\n",
              "      <td>3.9</td>\n",
              "      <td>2.875</td>\n",
              "      <td>17.02</td>\n",
              "      <td>0</td>\n",
              "      <td>1</td>\n",
              "      <td>4</td>\n",
              "      <td>4</td>\n",
              "    </tr>\n",
              "  </tbody>\n",
              "</table>\n",
              "</div>\n",
              "      <button class=\"colab-df-convert\" onclick=\"convertToInteractive('df-c7a0b820-3dc2-4472-865d-06a5fc345ec5')\"\n",
              "              title=\"Convert this dataframe to an interactive table.\"\n",
              "              style=\"display:none;\">\n",
              "        \n",
              "  <svg xmlns=\"http://www.w3.org/2000/svg\" height=\"24px\"viewBox=\"0 0 24 24\"\n",
              "       width=\"24px\">\n",
              "    <path d=\"M0 0h24v24H0V0z\" fill=\"none\"/>\n",
              "    <path d=\"M18.56 5.44l.94 2.06.94-2.06 2.06-.94-2.06-.94-.94-2.06-.94 2.06-2.06.94zm-11 1L8.5 8.5l.94-2.06 2.06-.94-2.06-.94L8.5 2.5l-.94 2.06-2.06.94zm10 10l.94 2.06.94-2.06 2.06-.94-2.06-.94-.94-2.06-.94 2.06-2.06.94z\"/><path d=\"M17.41 7.96l-1.37-1.37c-.4-.4-.92-.59-1.43-.59-.52 0-1.04.2-1.43.59L10.3 9.45l-7.72 7.72c-.78.78-.78 2.05 0 2.83L4 21.41c.39.39.9.59 1.41.59.51 0 1.02-.2 1.41-.59l7.78-7.78 2.81-2.81c.8-.78.8-2.07 0-2.86zM5.41 20L4 18.59l7.72-7.72 1.47 1.35L5.41 20z\"/>\n",
              "  </svg>\n",
              "      </button>\n",
              "      \n",
              "  <style>\n",
              "    .colab-df-container {\n",
              "      display:flex;\n",
              "      flex-wrap:wrap;\n",
              "      gap: 12px;\n",
              "    }\n",
              "\n",
              "    .colab-df-convert {\n",
              "      background-color: #E8F0FE;\n",
              "      border: none;\n",
              "      border-radius: 50%;\n",
              "      cursor: pointer;\n",
              "      display: none;\n",
              "      fill: #1967D2;\n",
              "      height: 32px;\n",
              "      padding: 0 0 0 0;\n",
              "      width: 32px;\n",
              "    }\n",
              "\n",
              "    .colab-df-convert:hover {\n",
              "      background-color: #E2EBFA;\n",
              "      box-shadow: 0px 1px 2px rgba(60, 64, 67, 0.3), 0px 1px 3px 1px rgba(60, 64, 67, 0.15);\n",
              "      fill: #174EA6;\n",
              "    }\n",
              "\n",
              "    [theme=dark] .colab-df-convert {\n",
              "      background-color: #3B4455;\n",
              "      fill: #D2E3FC;\n",
              "    }\n",
              "\n",
              "    [theme=dark] .colab-df-convert:hover {\n",
              "      background-color: #434B5C;\n",
              "      box-shadow: 0px 1px 3px 1px rgba(0, 0, 0, 0.15);\n",
              "      filter: drop-shadow(0px 1px 2px rgba(0, 0, 0, 0.3));\n",
              "      fill: #FFFFFF;\n",
              "    }\n",
              "  </style>\n",
              "\n",
              "      <script>\n",
              "        const buttonEl =\n",
              "          document.querySelector('#df-c7a0b820-3dc2-4472-865d-06a5fc345ec5 button.colab-df-convert');\n",
              "        buttonEl.style.display =\n",
              "          google.colab.kernel.accessAllowed ? 'block' : 'none';\n",
              "\n",
              "        async function convertToInteractive(key) {\n",
              "          const element = document.querySelector('#df-c7a0b820-3dc2-4472-865d-06a5fc345ec5');\n",
              "          const dataTable =\n",
              "            await google.colab.kernel.invokeFunction('convertToInteractive',\n",
              "                                                     [key], {});\n",
              "          if (!dataTable) return;\n",
              "\n",
              "          const docLinkHtml = 'Like what you see? Visit the ' +\n",
              "            '<a target=\"_blank\" href=https://colab.research.google.com/notebooks/data_table.ipynb>data table notebook</a>'\n",
              "            + ' to learn more about interactive tables.';\n",
              "          element.innerHTML = '';\n",
              "          dataTable['output_type'] = 'display_data';\n",
              "          await google.colab.output.renderOutput(dataTable, element);\n",
              "          const docLink = document.createElement('div');\n",
              "          docLink.innerHTML = docLinkHtml;\n",
              "          element.appendChild(docLink);\n",
              "        }\n",
              "      </script>\n",
              "    </div>\n",
              "  </div>\n",
              "  "
            ]
          },
          "metadata": {},
          "execution_count": 24
        }
      ]
    },
    {
      "cell_type": "code",
      "source": [
        "model1 = smf.ols(\"mpg ~ cyl\", data = mtcars).fit()\n",
        "print(model1.summary())"
      ],
      "metadata": {
        "colab": {
          "base_uri": "https://localhost:8080/"
        },
        "id": "6x7WR4dvOsk1",
        "outputId": "97ea144a-e9c4-4d48-ebe1-c4dad44755ce"
      },
      "execution_count": 27,
      "outputs": [
        {
          "output_type": "stream",
          "name": "stdout",
          "text": [
            "                            OLS Regression Results                            \n",
            "==============================================================================\n",
            "Dep. Variable:                    mpg   R-squared:                       0.726\n",
            "Model:                            OLS   Adj. R-squared:                  0.717\n",
            "Method:                 Least Squares   F-statistic:                     79.56\n",
            "Date:                Sat, 09 Apr 2022   Prob (F-statistic):           6.11e-10\n",
            "Time:                        21:29:36   Log-Likelihood:                -81.653\n",
            "No. Observations:                  32   AIC:                             167.3\n",
            "Df Residuals:                      30   BIC:                             170.2\n",
            "Df Model:                           1                                         \n",
            "Covariance Type:            nonrobust                                         \n",
            "==============================================================================\n",
            "                 coef    std err          t      P>|t|      [0.025      0.975]\n",
            "------------------------------------------------------------------------------\n",
            "Intercept     37.8846      2.074     18.268      0.000      33.649      42.120\n",
            "cyl           -2.8758      0.322     -8.920      0.000      -3.534      -2.217\n",
            "==============================================================================\n",
            "Omnibus:                        1.007   Durbin-Watson:                   1.670\n",
            "Prob(Omnibus):                  0.604   Jarque-Bera (JB):                0.874\n",
            "Skew:                           0.380   Prob(JB):                        0.646\n",
            "Kurtosis:                       2.720   Cond. No.                         24.1\n",
            "==============================================================================\n",
            "\n",
            "Warnings:\n",
            "[1] Standard Errors assume that the covariance matrix of the errors is correctly specified.\n"
          ]
        }
      ]
    },
    {
      "cell_type": "code",
      "source": [
        "mtcars[\"cyl_f\"] =  mtcars[\"cyl\"].astype(\"category\")\n",
        "model2 = smf.ols(\"mpg ~ cyl_f\", data = mtcars).fit()\n",
        "print(model2.summary())"
      ],
      "metadata": {
        "colab": {
          "base_uri": "https://localhost:8080/"
        },
        "id": "PlVGfngNO_B8",
        "outputId": "232cbb28-aad7-4ff2-a988-b18452c91acd"
      },
      "execution_count": 28,
      "outputs": [
        {
          "output_type": "stream",
          "name": "stdout",
          "text": [
            "                            OLS Regression Results                            \n",
            "==============================================================================\n",
            "Dep. Variable:                    mpg   R-squared:                       0.732\n",
            "Model:                            OLS   Adj. R-squared:                  0.714\n",
            "Method:                 Least Squares   F-statistic:                     39.70\n",
            "Date:                Sat, 09 Apr 2022   Prob (F-statistic):           4.98e-09\n",
            "Time:                        21:31:17   Log-Likelihood:                -81.282\n",
            "No. Observations:                  32   AIC:                             168.6\n",
            "Df Residuals:                      29   BIC:                             173.0\n",
            "Df Model:                           2                                         \n",
            "Covariance Type:            nonrobust                                         \n",
            "==============================================================================\n",
            "                 coef    std err          t      P>|t|      [0.025      0.975]\n",
            "------------------------------------------------------------------------------\n",
            "Intercept     26.6636      0.972     27.437      0.000      24.676      28.651\n",
            "cyl_f[T.6]    -6.9208      1.558     -4.441      0.000     -10.108      -3.734\n",
            "cyl_f[T.8]   -11.5636      1.299     -8.905      0.000     -14.220      -8.908\n",
            "==============================================================================\n",
            "Omnibus:                        0.252   Durbin-Watson:                   1.694\n",
            "Prob(Omnibus):                  0.882   Jarque-Bera (JB):                0.305\n",
            "Skew:                           0.187   Prob(JB):                        0.859\n",
            "Kurtosis:                       2.702   Cond. No.                         3.81\n",
            "==============================================================================\n",
            "\n",
            "Warnings:\n",
            "[1] Standard Errors assume that the covariance matrix of the errors is correctly specified.\n"
          ]
        }
      ]
    },
    {
      "cell_type": "markdown",
      "source": [
        "## Solution in Julia"
      ],
      "metadata": {
        "id": "W2caw-roOUTt"
      }
    },
    {
      "cell_type": "code",
      "source": [
        "%%julia\n",
        "mtcars = dataset(\"datasets\", \"mtcars\")\n",
        "first(mtcars, 2)"
      ],
      "metadata": {
        "colab": {
          "base_uri": "https://localhost:8080/"
        },
        "id": "X6oYhhhaOVs-",
        "outputId": "97237dbb-6b60-43c7-fb08-d34c8a359c14"
      },
      "execution_count": 26,
      "outputs": [
        {
          "output_type": "execute_result",
          "data": {
            "text/plain": [
              "<PyCall.jlwrap 2×12 DataFrame\n",
              " Row │ Model          MPG      Cyl    Disp     HP     DRat     WT       QSec     VS     AM     Gear   Carb\n",
              "     │ String31       Float64  Int64  Float64  Int64  Float64  Float64  Float64  Int64  Int64  Int64  Int64\n",
              "─────┼──────────────────────────────────────────────────────────────────────────────────────────────────────\n",
              "   1 │ Mazda RX4         21.0      6    160.0    110      3.9    2.62     16.46      0      1      4      4\n",
              "   2 │ Mazda RX4 Wag     21.0      6    160.0    110      3.9    2.875    17.02      0      1      4      4>"
            ]
          },
          "metadata": {},
          "execution_count": 26
        }
      ]
    }
  ]
}