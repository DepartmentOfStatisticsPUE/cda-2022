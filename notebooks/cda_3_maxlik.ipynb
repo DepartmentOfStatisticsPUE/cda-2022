{
  "nbformat": 4,
  "nbformat_minor": 0,
  "metadata": {
    "colab": {
      "name": "cda_3-maxlik.ipynb",
      "provenance": [],
      "collapsed_sections": [],
      "authorship_tag": "ABX9TyMw51+OiQkoNUKwRgjfquZc",
      "include_colab_link": true
    },
    "kernelspec": {
      "name": "python3",
      "display_name": "Python 3"
    },
    "language_info": {
      "name": "python"
    }
  },
  "cells": [
    {
      "cell_type": "markdown",
      "metadata": {
        "id": "view-in-github",
        "colab_type": "text"
      },
      "source": [
        "<a href=\"https://colab.research.google.com/github/DepartmentOfStatisticsPUE/cda-2022/blob/main/notebooks/cda_3_maxlik.ipynb\" target=\"_parent\"><img src=\"https://colab.research.google.com/assets/colab-badge.svg\" alt=\"Open In Colab\"/></a>"
      ]
    },
    {
      "cell_type": "markdown",
      "source": [
        "## Setup environment"
      ],
      "metadata": {
        "id": "eMsfxLOjKlZx"
      }
    },
    {
      "cell_type": "markdown",
      "source": [
        "### Python libraries"
      ],
      "metadata": {
        "id": "KEK0jKAsKsMT"
      }
    },
    {
      "cell_type": "code",
      "execution_count": null,
      "metadata": {
        "id": "8F0ElKTqJ7es"
      },
      "outputs": [],
      "source": [
        "import scipy.stats as st\n",
        "import numpy as np\n",
        "import pandas as pd\n",
        "from scipy.optimize import minimize\n",
        "from scipy.optimize import fsolve ## finding root(s) of a function -- for scalar parameter"
      ]
    },
    {
      "cell_type": "markdown",
      "source": [
        "## Setup R via Python"
      ],
      "metadata": {
        "id": "16RfmbcsLN3s"
      }
    },
    {
      "cell_type": "code",
      "source": [
        "%load_ext rpy2.ipython"
      ],
      "metadata": {
        "id": "GGfrhkDpLOO0"
      },
      "execution_count": null,
      "outputs": []
    },
    {
      "cell_type": "code",
      "source": [
        "%%R\n",
        "install.packages(\"maxLik\")\n",
        "install.packages(\"rootSolve\")"
      ],
      "metadata": {
        "id": "WXns-mZCLWQm"
      },
      "execution_count": null,
      "outputs": []
    },
    {
      "cell_type": "code",
      "source": [
        "%%R\n",
        "library(maxLik)\n",
        "library(rootSolve)"
      ],
      "metadata": {
        "id": "VsEkBGGULnlZ"
      },
      "execution_count": null,
      "outputs": []
    },
    {
      "cell_type": "markdown",
      "source": [
        "## Setup Julia via Python"
      ],
      "metadata": {
        "id": "INy-Pn8MLSIP"
      }
    },
    {
      "cell_type": "code",
      "source": [
        "%%bash\n",
        "wget -q https://julialang-s3.julialang.org/bin/linux/x64/1.7/julia-1.7.2-linux-x86_64.tar.gz\n",
        "tar zxvf julia-1.7.2-linux-x86_64.tar.gz\n",
        "## python's module\n",
        "pip install julia"
      ],
      "metadata": {
        "id": "RRkNID2hLO9X"
      },
      "execution_count": null,
      "outputs": []
    },
    {
      "cell_type": "code",
      "source": [
        "import julia\n",
        "julia.install(julia = \"/content/julia-1.7.2/bin/julia\")\n",
        "from julia import Julia\n",
        "jl = Julia(runtime=\"/content/julia-1.7.2/bin/julia\",compiled_modules=False)\n",
        "%load_ext julia.magic"
      ],
      "metadata": {
        "colab": {
          "base_uri": "https://localhost:8080/"
        },
        "id": "UoYH31SCL6xw",
        "outputId": "4f9d00a4-c2e9-422a-f152-62edd43f89b2"
      },
      "execution_count": null,
      "outputs": [
        {
          "output_type": "stream",
          "name": "stderr",
          "text": [
            "\n",
            "Precompiling PyCall...\n",
            "Precompiling PyCall... DONE\n",
            "PyCall is installed and built successfully.\n",
            "\n",
            "PyCall is setup for non-default Julia runtime (executable) `/content/julia-1.7.2/bin/julia`.\n",
            "To use this Julia runtime, PyJulia has to be initialized first by\n",
            "    from julia import Julia\n",
            "    Julia(runtime='/content/julia-1.7.2/bin/julia')\n"
          ]
        },
        {
          "output_type": "stream",
          "name": "stdout",
          "text": [
            "Initializing Julia interpreter. This may take some time...\n"
          ]
        },
        {
          "output_type": "stream",
          "name": "stderr",
          "text": [
            "/usr/local/lib/python3.7/dist-packages/julia/magic.py:166: UserWarning: Incompatible upstream libraries. Got ImportError: No module named 'prompt_toolkit.lexers'\n",
            "  warnings.warn(template.format(err))\n",
            "/usr/local/lib/python3.7/dist-packages/julia/magic.py:174: UserWarning: Incompatible upstream libraries. Got ImportError: cannot import name 'Completion' from 'IPython.core.completer' (/usr/local/lib/python3.7/dist-packages/IPython/core/completer.py)\n",
            "  warnings.warn(template.format(err))\n"
          ]
        }
      ]
    },
    {
      "cell_type": "code",
      "source": [
        "%%julia\n",
        "using Pkg\n",
        "Pkg.add(\"Distributions\")\n",
        "Pkg.add(\"DataFrames\")\n",
        "Pkg.add(\"Optim\")\n",
        "Pkg.add(\"Roots\")\n",
        "using Distributions\n",
        "using DataFrames\n",
        "using Random\n",
        "using Optim\n",
        "using Roots\n",
        "Pkg.status()"
      ],
      "metadata": {
        "id": "F-DK7RODL8xa"
      },
      "execution_count": null,
      "outputs": []
    },
    {
      "cell_type": "markdown",
      "source": [
        "## Exercise -- zero-truncated Poisson distribution"
      ],
      "metadata": {
        "id": "WQYBqTJsLOwP"
      }
    },
    {
      "cell_type": "markdown",
      "source": [
        "We start with likelihood function\n",
        "\n",
        "\\begin{equation}\n",
        "    L = \\prod_i \\frac{\\lambda^x_i}{(e^\\lambda-1)x_i!},\n",
        "\\end{equation}\n",
        "\n",
        "then we compute log-likelihood\n",
        "\n",
        "\\begin{equation}\n",
        "   \\log L = \\sum_i x_i \\log \\lambda - \\sum_i \\log(e^\\lambda-1) - \\sum_i \\log(x_i!) \n",
        "\\end{equation}\n",
        "\n",
        "In order to get estimate of $\\lambda$ we need to calculate derivatives with respect to this parameter. Thus, gradient is given by \n",
        "\n",
        "\\begin{equation}\n",
        "    \\frac{\\partial \\log L}{\\partial \\lambda} = \\frac{\\sum_i x_i}{\\lambda} - \\frac{n e^\\lambda}{e^\\lambda - 1} = \n",
        "    \\frac{\\sum_i x_i}{\\lambda} - n \\frac{e^\\lambda}{e^\\lambda - 1}.    \n",
        "\\end{equation}\n",
        "\n",
        "We can also calculate second derivative (hessian)\n",
        "\n",
        "\\begin{equation}\n",
        "    \\frac{\\partial^2 \\log L}{\\partial \\lambda^2} =  - \\frac{\\sum_i x_i}{\\lambda^2} + n \\frac{e^\\lambda}{(e^\\lambda-1)^2}.\n",
        "\\end{equation}\n"
      ],
      "metadata": {
        "id": "YU4MD6jFMiiz"
      }
    },
    {
      "cell_type": "markdown",
      "source": [
        "## Solution in R"
      ],
      "metadata": {
        "id": "-VUWuFGcNRal"
      }
    },
    {
      "cell_type": "markdown",
      "source": [
        "#### Newton-Rapson method"
      ],
      "metadata": {
        "id": "gHPY4x6vuezc"
      }
    },
    {
      "cell_type": "code",
      "source": [
        "%%R\n",
        "## log-likelihood function\n",
        "ll <- function(par, x) {\n",
        "  m <- sum(x)*log(par)-length(x)*log(exp(par)-1)\n",
        "  m\n",
        "}\n",
        "\n",
        "## gradient\n",
        "grad <- function(par, x)  {\n",
        "  g <- sum(x) / par - length(x)*exp(par)/(exp(par)-1)\n",
        "  g\n",
        "}\n",
        "\n",
        "\n",
        "## hessian\n",
        "hess <- function(par, x) {\n",
        "  h <- -sum(x)/par^2 + length(x)*exp(par)/(exp(par)-1)^2 \n",
        "  h\n",
        "}\n",
        "\n",
        "d <-  c(1645,183,37, 13,1,1)\n",
        "x <- rep(1:6,d)\n",
        "\n",
        "## with gradient and hessian\n",
        "res2 <- maxLik(logLik = ll,  grad = grad, \n",
        "            hess = hess, start = 1, x = x, method = \"NR\")\n",
        "\n",
        "summary(res2)"
      ],
      "metadata": {
        "colab": {
          "base_uri": "https://localhost:8080/"
        },
        "id": "ABtYiCpZMhpU",
        "outputId": "67bcbf73-5cbe-4994-d545-ca3107963e0c"
      },
      "execution_count": null,
      "outputs": [
        {
          "output_type": "stream",
          "name": "stdout",
          "text": [
            "--------------------------------------------\n",
            "Maximum Likelihood estimation\n",
            "Newton-Raphson maximisation, 6 iterations\n",
            "Return code 8: successive function values within relative tolerance limit (reltol)\n",
            "Log-Likelihood: -656.1294 \n",
            "1  free parameters\n",
            "Estimates:\n",
            "     Estimate Std. error t value Pr(> t)    \n",
            "[1,]  0.30862    0.01726   17.88  <2e-16 ***\n",
            "---\n",
            "Signif. codes:  0 ‘***’ 0.001 ‘**’ 0.01 ‘*’ 0.05 ‘.’ 0.1 ‘ ’ 1\n",
            "--------------------------------------------\n"
          ]
        }
      ]
    },
    {
      "cell_type": "markdown",
      "source": [
        "#### Finding a root of a function using `rootSolve` package"
      ],
      "metadata": {
        "id": "J0o3bG_muh3c"
      }
    },
    {
      "cell_type": "code",
      "source": [
        "%%R\n",
        "uniroot(grad, lower = 0.1, upper = 0.9, x = x) ## using stats::uniroot"
      ],
      "metadata": {
        "colab": {
          "base_uri": "https://localhost:8080/"
        },
        "id": "bJGaQ1a4uhsl",
        "outputId": "9c000a1a-53b5-4a7f-d8c9-9aa22beca19d"
      },
      "execution_count": null,
      "outputs": [
        {
          "output_type": "stream",
          "name": "stdout",
          "text": [
            "$root\n",
            "[1] 0.3085964\n",
            "\n",
            "$f.root\n",
            "[1] 0.075653\n",
            "\n",
            "$iter\n",
            "[1] 7\n",
            "\n",
            "$init.it\n",
            "[1] NA\n",
            "\n",
            "$estim.prec\n",
            "[1] 6.103516e-05\n",
            "\n"
          ]
        }
      ]
    },
    {
      "cell_type": "code",
      "source": [
        "%%R\n",
        "multiroot(grad, start = 0.1, x = x) ## using rootSolve::multiroot"
      ],
      "metadata": {
        "colab": {
          "base_uri": "https://localhost:8080/"
        },
        "id": "kkY9ycu1vRcS",
        "outputId": "f2cbc5d0-0337-4d59-a09a-f446a81bd1a3"
      },
      "execution_count": null,
      "outputs": [
        {
          "output_type": "stream",
          "name": "stdout",
          "text": [
            "$root\n",
            "[1] 0.308619\n",
            "\n",
            "$f.root\n",
            "[1] 5.159563e-09\n",
            "\n",
            "$iter\n",
            "[1] 7\n",
            "\n",
            "$estim.precis\n",
            "[1] 5.159563e-09\n",
            "\n"
          ]
        }
      ]
    },
    {
      "cell_type": "markdown",
      "source": [
        "#### using base functions with pdf"
      ],
      "metadata": {
        "id": "-oeUCc2CdsZ_"
      }
    },
    {
      "cell_type": "code",
      "source": [
        "%%R\n",
        "pdf_ztpois <- function(lambda, x) {\n",
        "    pdfztpoiss <- dpois(x, lambda)/(1-dpois(0, lambda))\n",
        "    return(-sum(log(pdfztpoiss)))\n",
        "}\n",
        "\n",
        "cat(\"===== using optimize =====\\n\")\n",
        "optimize(pdf_ztpois, x = x, interval = c(0.1, 0.9)) |> print()\n",
        "\n",
        "cat(\"===== using optim and method Brent for onedim optim =====\\n\")\n",
        "optim(fn = pdf_ztpois, par = 0.4,  x = x, method = \"Brent\", lower = 0.1, upper = 0.9) |> print()"
      ],
      "metadata": {
        "colab": {
          "base_uri": "https://localhost:8080/"
        },
        "id": "3tgeko6UdvFF",
        "outputId": "cafdcd11-7ea5-49ef-c867-e67160f88ee1"
      },
      "execution_count": null,
      "outputs": [
        {
          "output_type": "stream",
          "name": "stdout",
          "text": [
            "===== using optimize =====\n",
            "$minimum\n",
            "[1] 0.3086196\n",
            "\n",
            "$objective\n",
            "[1] 901.9519\n",
            "\n",
            "===== using optim and method Brent for onedim optim =====\n",
            "$par\n",
            "[1] 0.308619\n",
            "\n",
            "$value\n",
            "[1] 901.9519\n",
            "\n",
            "$counts\n",
            "function gradient \n",
            "      NA       NA \n",
            "\n",
            "$convergence\n",
            "[1] 0\n",
            "\n",
            "$message\n",
            "NULL\n",
            "\n"
          ]
        }
      ]
    },
    {
      "cell_type": "markdown",
      "source": [
        "## Solution in Python"
      ],
      "metadata": {
        "id": "WktclUjkNW2X"
      }
    },
    {
      "cell_type": "markdown",
      "source": [
        "#### Newton-Raphson method"
      ],
      "metadata": {
        "id": "7isu1DBjsCl6"
      }
    },
    {
      "cell_type": "code",
      "source": [
        "## python does minimization so we need to have -logL\n",
        "def ll(par,x):\n",
        "  m = np.sum(x)*np.log(par)-len(x)*np.log(np.exp(par)-1)\n",
        "  return -m\n",
        "\n",
        "## gradient\n",
        "def grad(par,x):\n",
        "  g = np.sum(x) / par - len(x)*np.exp(par)/(np.exp(par)-1)\n",
        "  return -g\n",
        "\n",
        "## hessian\n",
        "def hess(par,x):\n",
        "  h = -np.sum(x)/par**2 + len(x)*np.exp(par)/(np.exp(par)-1)**2 \n",
        "  return h\n",
        "\n",
        "d = np.array([1645,183,37, 13,1,1])\n",
        "x = np.repeat(np.arange(1,7), d)\n",
        "res = minimize(fun=ll, x0=[0.5], method = \"Newton-CG\", jac = grad, hess = hess, args = (x))\n",
        "res"
      ],
      "metadata": {
        "colab": {
          "base_uri": "https://localhost:8080/"
        },
        "id": "klY8KT_7NZEi",
        "outputId": "f20d8fd5-3915-4434-de66-e1b2eae0ada8"
      },
      "execution_count": null,
      "outputs": [
        {
          "output_type": "execute_result",
          "data": {
            "text/plain": [
              "     fun: 656.1294299023266\n",
              "     jac: array([-0.00187348])\n",
              " message: 'Optimization terminated successfully.'\n",
              "    nfev: 7\n",
              "    nhev: 5\n",
              "     nit: 5\n",
              "    njev: 11\n",
              "  status: 0\n",
              " success: True\n",
              "       x: array([0.30861895])"
            ]
          },
          "metadata": {},
          "execution_count": 12
        }
      ]
    },
    {
      "cell_type": "markdown",
      "source": [
        "#### Finding root for functions\n",
        "\n",
        "This solves the following equation $f(\\theta) = 0$"
      ],
      "metadata": {
        "id": "qsLfySY0sUnk"
      }
    },
    {
      "cell_type": "code",
      "source": [
        "res = fsolve(func = grad, x0 = 1, fprime = hess, args = (x,), full_output = True)\n",
        "res"
      ],
      "metadata": {
        "colab": {
          "base_uri": "https://localhost:8080/"
        },
        "id": "3ELUTzndsZYk",
        "outputId": "9f2b1ebc-268a-4451-a321-ac5dce8e0aa2"
      },
      "execution_count": null,
      "outputs": [
        {
          "output_type": "execute_result",
          "data": {
            "text/plain": [
              "(array([0.30861895]),\n",
              " {'fjac': array([[-1.]]),\n",
              "  'fvec': array([1.8189894e-12]),\n",
              "  'nfev': 14,\n",
              "  'njev': 2,\n",
              "  'qtf': array([1.39406438e-07]),\n",
              "  'r': array([-3358.1664002])},\n",
              " 1,\n",
              " 'The solution converged.')"
            ]
          },
          "metadata": {},
          "execution_count": 13
        }
      ]
    },
    {
      "cell_type": "code",
      "source": [
        "## standard error \n",
        "np.sqrt(1/np.abs(hess(res[0], x)))"
      ],
      "metadata": {
        "colab": {
          "base_uri": "https://localhost:8080/"
        },
        "id": "c1pdK1_JuI1E",
        "outputId": "0d9a531e-7a50-42b6-9353-d64bdc35d93c"
      },
      "execution_count": null,
      "outputs": [
        {
          "output_type": "execute_result",
          "data": {
            "text/plain": [
              "array([0.01725634])"
            ]
          },
          "metadata": {},
          "execution_count": 14
        }
      ]
    },
    {
      "cell_type": "markdown",
      "source": [
        "#### using base functions with pdf"
      ],
      "metadata": {
        "id": "OLulSHAtfmwV"
      }
    },
    {
      "cell_type": "code",
      "source": [
        "def pdf_ztpois(lam, x):\n",
        "  pdfztpoiss = st.poisson(lam).pmf(x) / (1 - st.poisson(lam).pmf(0))\n",
        "  return -np.sum(np.log(pdfztpoiss))\n",
        "\n",
        "res = minimize(fun=pdf_ztpois, x0=[0.5], args = (x), method = \"Nelder-Mead\")\n",
        "res"
      ],
      "metadata": {
        "colab": {
          "base_uri": "https://localhost:8080/"
        },
        "id": "5ry-KXzBfnYM",
        "outputId": "e4527fef-49ff-43ef-d122-2f8ef4a3fc06"
      },
      "execution_count": null,
      "outputs": [
        {
          "output_type": "execute_result",
          "data": {
            "text/plain": [
              " final_simplex: (array([[0.30859375],\n",
              "       [0.30869141]]), array([901.95190812, 901.95191587]))\n",
              "           fun: 901.9519081219914\n",
              "       message: 'Optimization terminated successfully.'\n",
              "          nfev: 26\n",
              "           nit: 13\n",
              "        status: 0\n",
              "       success: True\n",
              "             x: array([0.30859375])"
            ]
          },
          "metadata": {},
          "execution_count": 15
        }
      ]
    },
    {
      "cell_type": "markdown",
      "source": [
        "## Solution in Julia"
      ],
      "metadata": {
        "id": "D4b2KH6TRIbu"
      }
    },
    {
      "cell_type": "markdown",
      "source": [
        "#### Newton-Raphson method"
      ],
      "metadata": {
        "id": "Nnd43NTZwWFt"
      }
    },
    {
      "cell_type": "code",
      "source": [
        "%%julia\n",
        "## logL - minimization\n",
        "function ll(par, x)\n",
        "  par = par[1]\n",
        "  m = sum(x)*log(par)-length(x)*log(exp(par)-1)\n",
        "  return -m\n",
        "end\n",
        "\n",
        "\n",
        "## gradient\n",
        "function grad!(G,par,x) \n",
        "  par = par[1]\n",
        "  G[1] = -(sum(x) / par - length(x)*exp(par)/(exp(par)-1))\n",
        "  return G\n",
        "end \n",
        "\n",
        "## hessian\n",
        "function hess!(H,par, x)\n",
        "  par = par[1]\n",
        "  H[1] = -sum(x)/par^2 + length(x)*exp(par)/(exp(par)-1)^2 \n",
        "  return H\n",
        "end"
      ],
      "metadata": {
        "colab": {
          "base_uri": "https://localhost:8080/"
        },
        "id": "FfzqugrON07i",
        "outputId": "0d0544bb-48b1-4cf0-e56c-058fa736d311"
      },
      "execution_count": null,
      "outputs": [
        {
          "output_type": "execute_result",
          "data": {
            "text/plain": [
              "<PyCall.jlwrap hess!>"
            ]
          },
          "metadata": {},
          "execution_count": 16
        }
      ]
    },
    {
      "cell_type": "code",
      "source": [
        "%%julia\n",
        "d = [1645,183,37, 13,1,1]\n",
        "x = vcat(fill.(1:6, d)...)\n",
        "fun_opt = TwiceDifferentiable(par -> ll(par, x), \n",
        "                              (G, par) -> grad!(G, par, x), \n",
        "                              (H, par) -> hess!(H, par, x), \n",
        "                              [0.5])\n",
        "\n",
        "res = optimize(fun_opt, [0.5])"
      ],
      "metadata": {
        "colab": {
          "base_uri": "https://localhost:8080/"
        },
        "id": "SqAr1FMQShGp",
        "outputId": "62dd6e54-24e9-4b02-8ed9-6fb165620273"
      },
      "execution_count": null,
      "outputs": [
        {
          "output_type": "execute_result",
          "data": {
            "text/plain": [
              "<PyCall.jlwrap  * Status: success\n",
              "\n",
              " * Candidate solution\n",
              "    Final objective value:     6.561294e+02\n",
              "\n",
              " * Found with\n",
              "    Algorithm:     Newton's Method\n",
              "\n",
              " * Convergence measures\n",
              "    |x - x'|               = 1.06e-07 ≰ 0.0e+00\n",
              "    |x - x'|/|x'|          = 3.44e-07 ≰ 0.0e+00\n",
              "    |f(x) - f(x')|         = 1.96e-11 ≰ 0.0e+00\n",
              "    |f(x) - f(x')|/|f(x')| = 2.98e-14 ≰ 0.0e+00\n",
              "    |g(x)|                 = 0.00e+00 ≤ 1.0e-08\n",
              "\n",
              " * Work counters\n",
              "    Seconds run:   1  (vs limit Inf)\n",
              "    Iterations:    4\n",
              "    f(x) calls:    9\n",
              "    ∇f(x) calls:   9\n",
              "    ∇²f(x) calls:  4\n",
              ">"
            ]
          },
          "metadata": {},
          "execution_count": 17
        }
      ]
    },
    {
      "cell_type": "code",
      "source": [
        "%%julia\n",
        "Optim.minimizer(res)"
      ],
      "metadata": {
        "colab": {
          "base_uri": "https://localhost:8080/"
        },
        "id": "F63kzLHRzmf8",
        "outputId": "09b5b894-b6c9-41d0-b5a1-4537145bf918"
      },
      "execution_count": null,
      "outputs": [
        {
          "output_type": "execute_result",
          "data": {
            "text/plain": [
              "array([0.30861895])"
            ]
          },
          "metadata": {},
          "execution_count": 18
        }
      ]
    },
    {
      "cell_type": "markdown",
      "source": [
        "#### Finding a root of a function using `Roots` package"
      ],
      "metadata": {
        "id": "19Sl4qwFwcJm"
      }
    },
    {
      "cell_type": "code",
      "source": [
        "%%julia\n",
        "\n",
        "function grad(par,x) \n",
        "  par = par[1]\n",
        "  g = -(sum(x) / par - length(x)*exp(par)/(exp(par)-1))\n",
        "  return g\n",
        "end \n",
        "\n",
        "find_zero(z -> grad(z, x), 0.2)"
      ],
      "metadata": {
        "colab": {
          "base_uri": "https://localhost:8080/"
        },
        "id": "byXIH8PQwfHg",
        "outputId": "90475f80-7d30-4a09-aecc-a2afb5ef02d1"
      },
      "execution_count": null,
      "outputs": [
        {
          "output_type": "execute_result",
          "data": {
            "text/plain": [
              "0.3086189511886689"
            ]
          },
          "metadata": {},
          "execution_count": 19
        }
      ]
    }
  ]
}