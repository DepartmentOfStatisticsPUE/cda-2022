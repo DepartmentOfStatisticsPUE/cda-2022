{
  "nbformat": 4,
  "nbformat_minor": 0,
  "metadata": {
    "colab": {
      "name": "cda_8_glm.ipynb",
      "provenance": [],
      "collapsed_sections": [],
      "authorship_tag": "ABX9TyPGuuIDu+Qrxjtkxq86HQv2",
      "include_colab_link": true
    },
    "kernelspec": {
      "name": "python3",
      "display_name": "Python 3"
    },
    "language_info": {
      "name": "python"
    }
  },
  "cells": [
    {
      "cell_type": "markdown",
      "metadata": {
        "id": "view-in-github",
        "colab_type": "text"
      },
      "source": [
        "<a href=\"https://colab.research.google.com/github/DepartmentOfStatisticsPUE/cda-2022/blob/main/notebooks/cda_8_glm.ipynb\" target=\"_parent\"><img src=\"https://colab.research.google.com/assets/colab-badge.svg\" alt=\"Open In Colab\"/></a>"
      ]
    },
    {
      "cell_type": "markdown",
      "source": [
        "Python settings"
      ],
      "metadata": {
        "id": "qzvb7wDU4ZHS"
      }
    },
    {
      "cell_type": "code",
      "execution_count": 1,
      "metadata": {
        "colab": {
          "base_uri": "https://localhost:8080/"
        },
        "id": "MjLixKGOzAz5",
        "outputId": "821976ce-ac9b-4efa-fe54-11acdbf0d9ca"
      },
      "outputs": [
        {
          "output_type": "stream",
          "name": "stderr",
          "text": [
            "/usr/local/lib/python3.7/dist-packages/statsmodels/tools/_testing.py:19: FutureWarning: pandas.util.testing is deprecated. Use the functions in the public API at pandas.testing instead.\n",
            "  import pandas.util.testing as tm\n"
          ]
        }
      ],
      "source": [
        "import pandas as pd\n",
        "import numpy as np\n",
        "import statsmodels.api as sm\n",
        "import statsmodels.formula.api as smf"
      ]
    },
    {
      "cell_type": "markdown",
      "source": [
        "## GLM in R"
      ],
      "metadata": {
        "id": "nNcH5tv04bkc"
      }
    },
    {
      "cell_type": "code",
      "source": [
        "%load_ext rpy2.ipython"
      ],
      "metadata": {
        "id": "OPcpfp164bDg"
      },
      "execution_count": 2,
      "outputs": []
    },
    {
      "cell_type": "code",
      "source": [
        "%%R\n",
        "df <- read.csv(\"https://raw.githubusercontent.com/DepartmentOfStatisticsPUE/cda-2022/main/data/count-data.csv\")\n",
        "df$occup1 <- as.factor(df$occup1)\n",
        "df$prof = df$occup1 == 2\n",
        "head(df, 2)"
      ],
      "metadata": {
        "colab": {
          "base_uri": "https://localhost:8080/"
        },
        "id": "HIUe_3UoN2bg",
        "outputId": "37723eeb-3f02-4dc7-c3f9-d423ec4ef030"
      },
      "execution_count": 5,
      "outputs": [
        {
          "output_type": "stream",
          "name": "stdout",
          "text": [
            "      id year occup1 woj nace technical math artistic computer cognitive\n",
            "1 626307 2014      5   4    M         0    0        1        0         0\n",
            "2 626305 2014      5  12    M         0    0        0        0         0\n",
            "  managerial interpersonal individual physical availability office total_skills\n",
            "1          0             0          1        0            0      0            2\n",
            "2          0             0          0        0            0      0            0\n",
            "   prof\n",
            "1 FALSE\n",
            "2 FALSE\n"
          ]
        }
      ]
    },
    {
      "cell_type": "code",
      "source": [
        "%%R\n",
        "barplot(table(df$total_skills))"
      ],
      "metadata": {
        "colab": {
          "base_uri": "https://localhost:8080/",
          "height": 497
        },
        "id": "FN29Pj-gOPvv",
        "outputId": "3b30d0ee-2dc4-4974-bc9e-39f2b0280956"
      },
      "execution_count": 8,
      "outputs": [
        {
          "output_type": "display_data",
          "data": {
            "image/png": "[encoded data removed]"
          },
          "metadata": {}
        }
      ]
    },
    {
      "cell_type": "code",
      "source": [
        "%%R\n",
        "c(mean = mean(df$total_skills), var = var(df$total_skills))"
      ],
      "metadata": {
        "colab": {
          "base_uri": "https://localhost:8080/"
        },
        "id": "reXnUE67OTre",
        "outputId": "04c20960-7df6-4eef-8445-48ad68c80a73"
      },
      "execution_count": 10,
      "outputs": [
        {
          "output_type": "stream",
          "name": "stdout",
          "text": [
            "    mean      var \n",
            "2.689639 2.492068 \n"
          ]
        }
      ]
    },
    {
      "cell_type": "code",
      "source": [
        "%%R\n",
        "m1 <- glm(formula = total_skills ~ prof, data = df, family = poisson)\n",
        "summary(m1)"
      ],
      "metadata": {
        "colab": {
          "base_uri": "https://localhost:8080/"
        },
        "id": "Xl979Rf7ONQH",
        "outputId": "391fba9a-fa4f-4000-9123-8fbcfe1db17e"
      },
      "execution_count": 11,
      "outputs": [
        {
          "output_type": "stream",
          "name": "stdout",
          "text": [
            "\n",
            "Call:\n",
            "glm(formula = total_skills ~ prof, family = poisson, data = df)\n",
            "\n",
            "Deviance Residuals: \n",
            "    Min       1Q   Median       3Q      Max  \n",
            "-2.3785  -0.5203   0.2232   0.6552   2.9139  \n",
            "\n",
            "Coefficients:\n",
            "            Estimate Std. Error z value Pr(>|z|)    \n",
            "(Intercept)  0.96690    0.00649  148.97  < 2e-16 ***\n",
            "profTRUE     0.07290    0.01154    6.32 2.62e-10 ***\n",
            "---\n",
            "Signif. codes:  0 ‘***’ 0.001 ‘**’ 0.01 ‘*’ 0.05 ‘.’ 0.1 ‘ ’ 1\n",
            "\n",
            "(Dispersion parameter for poisson family taken to be 1)\n",
            "\n",
            "    Null deviance: 15551  on 12913  degrees of freedom\n",
            "Residual deviance: 15512  on 12912  degrees of freedom\n",
            "AIC: 48615\n",
            "\n",
            "Number of Fisher Scoring iterations: 5\n",
            "\n"
          ]
        }
      ]
    },
    {
      "cell_type": "markdown",
      "source": [
        "## GLM in Julia"
      ],
      "metadata": {
        "id": "F8TI1p7m4dgV"
      }
    },
    {
      "cell_type": "code",
      "source": [
        "%%bash\n",
        "wget -q https://julialang-s3.julialang.org/bin/linux/x64/1.7/julia-1.7.2-linux-x86_64.tar.gz\n",
        "tar zxvf julia-1.7.2-linux-x86_64.tar.gz\n",
        "## python's module\n",
        "pip install julia"
      ],
      "metadata": {
        "id": "wH0MdZud4eN5"
      },
      "execution_count": null,
      "outputs": []
    },
    {
      "cell_type": "code",
      "source": [
        "import julia\n",
        "julia.install(julia = \"/content/julia-1.7.2/bin/julia\")\n",
        "from julia import Julia\n",
        "jl = Julia(runtime=\"/content/julia-1.7.2/bin/julia\",compiled_modules=False)\n",
        "%load_ext julia.magic"
      ],
      "metadata": {
        "id": "KtOkvML44f4_"
      },
      "execution_count": null,
      "outputs": []
    },
    {
      "cell_type": "code",
      "source": [
        "%%julia\n",
        "using Pkg\n",
        "Pkg.add(\"StatsBase\")\n",
        "Pkg.add(\"GLM\")\n",
        "Pkg.add(\"DataFrames\")\n",
        "Pkg.add(\"CategoricalArrays\")\n",
        "Pkg.add(\"CSV\")"
      ],
      "metadata": {
        "id": "CpxhOoI44hpY"
      },
      "execution_count": null,
      "outputs": []
    },
    {
      "cell_type": "code",
      "source": [
        "%%julia\n",
        "using StatsBase\n",
        "using GLM\n",
        "using CategoricalArrays\n",
        "using Statistics\n",
        "using CSV\n",
        "using DataFrames"
      ],
      "metadata": {
        "id": "I6RB4_gB4l3a"
      },
      "execution_count": 18,
      "outputs": []
    },
    {
      "cell_type": "code",
      "source": [
        "%%julia\n",
        "df = CSV.read(download(\"https://raw.githubusercontent.com/DepartmentOfStatisticsPUE/cda-2022/main/data/count-data.csv\"), DataFrame)\n",
        "first(df,2)"
      ],
      "metadata": {
        "colab": {
          "base_uri": "https://localhost:8080/"
        },
        "id": "psqGtGE2QtEa",
        "outputId": "8f9b2a14-6a23-49d1-afd5-aa01bba0b650"
      },
      "execution_count": 25,
      "outputs": [
        {
          "output_type": "execute_result",
          "data": {
            "text/plain": [
              "<PyCall.jlwrap 2×17 DataFrame\n",
              " Row │ id      year   occup1  woj    nace     technical  math   artistic  computer  cognitive  managerial  interpersonal  individual  physical  availability  office  total_skills\n",
              "     │ Int64   Int64  Int64   Int64  String1  Int64      Int64  Int64     Int64     Int64      Int64       Int64          Int64       Int64     Int64         Int64   Int64\n",
              "─────┼─────────────────────────────────────────────────────────────────────────────────────────────────────────────────────────────────────────────────────────────────────────────\n",
              "   1 │ 626307   2014       5      4  M                0      0         1         0          0           0              0           1         0             0       0             2\n",
              "   2 │ 626305   2014       5     12  M                0      0         0         0          0           0              0           0         0             0       0             0>"
            ]
          },
          "metadata": {},
          "execution_count": 25
        }
      ]
    },
    {
      "cell_type": "code",
      "source": [
        "%%julia\n",
        "df.occup1 = categorical(df.occup1)\n",
        "df.prof = df.occup1 .== 2"
      ],
      "metadata": {
        "colab": {
          "base_uri": "https://localhost:8080/"
        },
        "id": "D_1ezprpQ2D2",
        "outputId": "034b4018-1444-4f09-fccd-d9d54a00e029"
      },
      "execution_count": 28,
      "outputs": [
        {
          "output_type": "execute_result",
          "data": {
            "text/plain": [
              "array([False, False, False, ..., False,  True,  True])"
            ]
          },
          "metadata": {},
          "execution_count": 28
        }
      ]
    },
    {
      "cell_type": "code",
      "source": [
        "%%julia\n",
        "model1 = glm(@formula(total_skills ~ prof), df, Poisson())"
      ],
      "metadata": {
        "colab": {
          "base_uri": "https://localhost:8080/"
        },
        "id": "qzHniVImROQ4",
        "outputId": "be6edd9e-21b0-4f57-d061-a6a94deb185b"
      },
      "execution_count": 31,
      "outputs": [
        {
          "output_type": "execute_result",
          "data": {
            "text/plain": [
              "<PyCall.jlwrap StatsModels.TableRegressionModel{GeneralizedLinearModel{GLM.GlmResp{Vector{Float64}, Poisson{Float64}, LogLink}, GLM.DensePredChol{Float64, LinearAlgebra.Cholesky{Float64, Matrix{Float64}}}}, Matrix{Float64}}\n",
              "\n",
              "total_skills ~ 1 + prof\n",
              "\n",
              "Coefficients:\n",
              "──────────────────────────────────────────────────────────────────────────\n",
              "                 Coef.  Std. Error       z  Pr(>|z|)  Lower 95%  Upper 95%\n",
              "──────────────────────────────────────────────────────────────────────────\n",
              "(Intercept)  0.966899   0.00648961  148.99    <1e-99  0.95418    0.979619\n",
              "prof         0.0729038  0.0115351     6.32    <1e-09  0.0502954  0.0955122\n",
              "──────────────────────────────────────────────────────────────────────────>"
            ]
          },
          "metadata": {},
          "execution_count": 31
        }
      ]
    },
    {
      "cell_type": "markdown",
      "source": [
        "## GLM in Python"
      ],
      "metadata": {
        "id": "XFN-yvt97N-Z"
      }
    },
    {
      "cell_type": "code",
      "source": [
        "df= pd.read_csv(\"https://raw.githubusercontent.com/DepartmentOfStatisticsPUE/cda-2022/main/data/count-data.csv\")\n",
        "df[\"occup1\"].astype(\"category\")\n",
        "df[\"prof\"] = df[\"occup1\"] == 2\n",
        "df.head()"
      ],
      "metadata": {
        "colab": {
          "base_uri": "https://localhost:8080/",
          "height": 270
        },
        "id": "PfzrLAX07QON",
        "outputId": "0809cb8c-ae3f-45b4-ee59-e883b9abe259"
      },
      "execution_count": null,
      "outputs": [
        {
          "output_type": "execute_result",
          "data": {
            "text/plain": [
              "       id  year  occup1  woj nace  technical  math  artistic  computer  \\\n",
              "0  626307  2014       5    4    M          0     0         1         0   \n",
              "1  626305  2014       5   12    M          0     0         0         0   \n",
              "2  617154  2014       7   14    C          0     0         0         0   \n",
              "3  617155  2014       7   14    C          0     0         0         0   \n",
              "4  632044  2014       3   24    C          0     0         0         0   \n",
              "\n",
              "   cognitive  managerial  interpersonal  individual  physical  availability  \\\n",
              "0          0           0              0           1         0             0   \n",
              "1          0           0              0           0         0             0   \n",
              "2          0           0              0           0         0             0   \n",
              "3          0           0              0           0         0             0   \n",
              "4          0           0              1           0         1             0   \n",
              "\n",
              "   office  total_skills   prof  \n",
              "0       0             2  False  \n",
              "1       0             0  False  \n",
              "2       0             0  False  \n",
              "3       0             0  False  \n",
              "4       0             2  False  "
            ],
            "text/html": [
              "\n",
              "  <div id=\"df-8e26b01a-4c7e-449a-ab6f-ab5dcf600642\">\n",
              "    <div class=\"colab-df-container\">\n",
              "      <div>\n",
              "<style scoped>\n",
              "    .dataframe tbody tr th:only-of-type {\n",
              "        vertical-align: middle;\n",
              "    }\n",
              "\n",
              "    .dataframe tbody tr th {\n",
              "        vertical-align: top;\n",
              "    }\n",
              "\n",
              "    .dataframe thead th {\n",
              "        text-align: right;\n",
              "    }\n",
              "</style>\n",
              "<table border=\"1\" class=\"dataframe\">\n",
              "  <thead>\n",
              "    <tr style=\"text-align: right;\">\n",
              "      <th></th>\n",
              "      <th>id</th>\n",
              "      <th>year</th>\n",
              "      <th>occup1</th>\n",
              "      <th>woj</th>\n",
              "      <th>nace</th>\n",
              "      <th>technical</th>\n",
              "      <th>math</th>\n",
              "      <th>artistic</th>\n",
              "      <th>computer</th>\n",
              "      <th>cognitive</th>\n",
              "      <th>managerial</th>\n",
              "      <th>interpersonal</th>\n",
              "      <th>individual</th>\n",
              "      <th>physical</th>\n",
              "      <th>availability</th>\n",
              "      <th>office</th>\n",
              "      <th>total_skills</th>\n",
              "      <th>prof</th>\n",
              "    </tr>\n",
              "  </thead>\n",
              "  <tbody>\n",
              "    <tr>\n",
              "      <th>0</th>\n",
              "      <td>626307</td>\n",
              "      <td>2014</td>\n",
              "      <td>5</td>\n",
              "      <td>4</td>\n",
              "      <td>M</td>\n",
              "      <td>0</td>\n",
              "      <td>0</td>\n",
              "      <td>1</td>\n",
              "      <td>0</td>\n",
              "      <td>0</td>\n",
              "      <td>0</td>\n",
              "      <td>0</td>\n",
              "      <td>1</td>\n",
              "      <td>0</td>\n",
              "      <td>0</td>\n",
              "      <td>0</td>\n",
              "      <td>2</td>\n",
              "      <td>False</td>\n",
              "    </tr>\n",
              "    <tr>\n",
              "      <th>1</th>\n",
              "      <td>626305</td>\n",
              "      <td>2014</td>\n",
              "      <td>5</td>\n",
              "      <td>12</td>\n",
              "      <td>M</td>\n",
              "      <td>0</td>\n",
              "      <td>0</td>\n",
              "      <td>0</td>\n",
              "      <td>0</td>\n",
              "      <td>0</td>\n",
              "      <td>0</td>\n",
              "      <td>0</td>\n",
              "      <td>0</td>\n",
              "      <td>0</td>\n",
              "      <td>0</td>\n",
              "      <td>0</td>\n",
              "      <td>0</td>\n",
              "      <td>False</td>\n",
              "    </tr>\n",
              "    <tr>\n",
              "      <th>2</th>\n",
              "      <td>617154</td>\n",
              "      <td>2014</td>\n",
              "      <td>7</td>\n",
              "      <td>14</td>\n",
              "      <td>C</td>\n",
              "      <td>0</td>\n",
              "      <td>0</td>\n",
              "      <td>0</td>\n",
              "      <td>0</td>\n",
              "      <td>0</td>\n",
              "      <td>0</td>\n",
              "      <td>0</td>\n",
              "      <td>0</td>\n",
              "      <td>0</td>\n",
              "      <td>0</td>\n",
              "      <td>0</td>\n",
              "      <td>0</td>\n",
              "      <td>False</td>\n",
              "    </tr>\n",
              "    <tr>\n",
              "      <th>3</th>\n",
              "      <td>617155</td>\n",
              "      <td>2014</td>\n",
              "      <td>7</td>\n",
              "      <td>14</td>\n",
              "      <td>C</td>\n",
              "      <td>0</td>\n",
              "      <td>0</td>\n",
              "      <td>0</td>\n",
              "      <td>0</td>\n",
              "      <td>0</td>\n",
              "      <td>0</td>\n",
              "      <td>0</td>\n",
              "      <td>0</td>\n",
              "      <td>0</td>\n",
              "      <td>0</td>\n",
              "      <td>0</td>\n",
              "      <td>0</td>\n",
              "      <td>False</td>\n",
              "    </tr>\n",
              "    <tr>\n",
              "      <th>4</th>\n",
              "      <td>632044</td>\n",
              "      <td>2014</td>\n",
              "      <td>3</td>\n",
              "      <td>24</td>\n",
              "      <td>C</td>\n",
              "      <td>0</td>\n",
              "      <td>0</td>\n",
              "      <td>0</td>\n",
              "      <td>0</td>\n",
              "      <td>0</td>\n",
              "      <td>0</td>\n",
              "      <td>1</td>\n",
              "      <td>0</td>\n",
              "      <td>1</td>\n",
              "      <td>0</td>\n",
              "      <td>0</td>\n",
              "      <td>2</td>\n",
              "      <td>False</td>\n",
              "    </tr>\n",
              "  </tbody>\n",
              "</table>\n",
              "</div>\n",
              "      <button class=\"colab-df-convert\" onclick=\"convertToInteractive('df-8e26b01a-4c7e-449a-ab6f-ab5dcf600642')\"\n",
              "              title=\"Convert this dataframe to an interactive table.\"\n",
              "              style=\"display:none;\">\n",
              "        \n",
              "  <svg xmlns=\"http://www.w3.org/2000/svg\" height=\"24px\"viewBox=\"0 0 24 24\"\n",
              "       width=\"24px\">\n",
              "    <path d=\"M0 0h24v24H0V0z\" fill=\"none\"/>\n",
              "    <path d=\"M18.56 5.44l.94 2.06.94-2.06 2.06-.94-2.06-.94-.94-2.06-.94 2.06-2.06.94zm-11 1L8.5 8.5l.94-2.06 2.06-.94-2.06-.94L8.5 2.5l-.94 2.06-2.06.94zm10 10l.94 2.06.94-2.06 2.06-.94-2.06-.94-.94-2.06-.94 2.06-2.06.94z\"/><path d=\"M17.41 7.96l-1.37-1.37c-.4-.4-.92-.59-1.43-.59-.52 0-1.04.2-1.43.59L10.3 9.45l-7.72 7.72c-.78.78-.78 2.05 0 2.83L4 21.41c.39.39.9.59 1.41.59.51 0 1.02-.2 1.41-.59l7.78-7.78 2.81-2.81c.8-.78.8-2.07 0-2.86zM5.41 20L4 18.59l7.72-7.72 1.47 1.35L5.41 20z\"/>\n",
              "  </svg>\n",
              "      </button>\n",
              "      \n",
              "  <style>\n",
              "    .colab-df-container {\n",
              "      display:flex;\n",
              "      flex-wrap:wrap;\n",
              "      gap: 12px;\n",
              "    }\n",
              "\n",
              "    .colab-df-convert {\n",
              "      background-color: #E8F0FE;\n",
              "      border: none;\n",
              "      border-radius: 50%;\n",
              "      cursor: pointer;\n",
              "      display: none;\n",
              "      fill: #1967D2;\n",
              "      height: 32px;\n",
              "      padding: 0 0 0 0;\n",
              "      width: 32px;\n",
              "    }\n",
              "\n",
              "    .colab-df-convert:hover {\n",
              "      background-color: #E2EBFA;\n",
              "      box-shadow: 0px 1px 2px rgba(60, 64, 67, 0.3), 0px 1px 3px 1px rgba(60, 64, 67, 0.15);\n",
              "      fill: #174EA6;\n",
              "    }\n",
              "\n",
              "    [theme=dark] .colab-df-convert {\n",
              "      background-color: #3B4455;\n",
              "      fill: #D2E3FC;\n",
              "    }\n",
              "\n",
              "    [theme=dark] .colab-df-convert:hover {\n",
              "      background-color: #434B5C;\n",
              "      box-shadow: 0px 1px 3px 1px rgba(0, 0, 0, 0.15);\n",
              "      filter: drop-shadow(0px 1px 2px rgba(0, 0, 0, 0.3));\n",
              "      fill: #FFFFFF;\n",
              "    }\n",
              "  </style>\n",
              "\n",
              "      <script>\n",
              "        const buttonEl =\n",
              "          document.querySelector('#df-8e26b01a-4c7e-449a-ab6f-ab5dcf600642 button.colab-df-convert');\n",
              "        buttonEl.style.display =\n",
              "          google.colab.kernel.accessAllowed ? 'block' : 'none';\n",
              "\n",
              "        async function convertToInteractive(key) {\n",
              "          const element = document.querySelector('#df-8e26b01a-4c7e-449a-ab6f-ab5dcf600642');\n",
              "          const dataTable =\n",
              "            await google.colab.kernel.invokeFunction('convertToInteractive',\n",
              "                                                     [key], {});\n",
              "          if (!dataTable) return;\n",
              "\n",
              "          const docLinkHtml = 'Like what you see? Visit the ' +\n",
              "            '<a target=\"_blank\" href=https://colab.research.google.com/notebooks/data_table.ipynb>data table notebook</a>'\n",
              "            + ' to learn more about interactive tables.';\n",
              "          element.innerHTML = '';\n",
              "          dataTable['output_type'] = 'display_data';\n",
              "          await google.colab.output.renderOutput(dataTable, element);\n",
              "          const docLink = document.createElement('div');\n",
              "          docLink.innerHTML = docLinkHtml;\n",
              "          element.appendChild(docLink);\n",
              "        }\n",
              "      </script>\n",
              "    </div>\n",
              "  </div>\n",
              "  "
            ]
          },
          "metadata": {},
          "execution_count": 6
        }
      ]
    },
    {
      "cell_type": "code",
      "source": [
        "mod1 = smf.glm(formula=\"total_skills ~ prof\", data=df, family=sm.families.Poisson()).fit()\n",
        "print(mod1.summary())"
      ],
      "metadata": {
        "colab": {
          "base_uri": "https://localhost:8080/"
        },
        "id": "YCCrQibd7Y2K",
        "outputId": "294fa58b-3e56-4fbe-e96b-1cb2c552d7ea"
      },
      "execution_count": null,
      "outputs": [
        {
          "output_type": "stream",
          "name": "stdout",
          "text": [
            "                 Generalized Linear Model Regression Results                  \n",
            "==============================================================================\n",
            "Dep. Variable:           total_skills   No. Observations:                12914\n",
            "Model:                            GLM   Df Residuals:                    12912\n",
            "Model Family:                 Poisson   Df Model:                            1\n",
            "Link Function:                    log   Scale:                          1.0000\n",
            "Method:                          IRLS   Log-Likelihood:                -24305.\n",
            "Date:                Wed, 13 Apr 2022   Deviance:                       15512.\n",
            "Time:                        07:58:33   Pearson chi2:                 1.20e+04\n",
            "No. Iterations:                     4                                         \n",
            "Covariance Type:            nonrobust                                         \n",
            "================================================================================\n",
            "                   coef    std err          z      P>|z|      [0.025      0.975]\n",
            "--------------------------------------------------------------------------------\n",
            "Intercept        0.9669      0.006    148.975      0.000       0.954       0.980\n",
            "prof[T.True]     0.0729      0.012      6.320      0.000       0.050       0.096\n",
            "================================================================================\n"
          ]
        }
      ]
    },
    {
      "cell_type": "code",
      "source": [
        "np.exp(mod1.params)"
      ],
      "metadata": {
        "colab": {
          "base_uri": "https://localhost:8080/"
        },
        "id": "tJhwXpH67n8F",
        "outputId": "9f8a497b-2c7f-42cf-813f-4e42a612a2d2"
      },
      "execution_count": null,
      "outputs": [
        {
          "output_type": "execute_result",
          "data": {
            "text/plain": [
              "Intercept       2.629777\n",
              "prof[T.True]    1.075627\n",
              "dtype: float64"
            ]
          },
          "metadata": {},
          "execution_count": 9
        }
      ]
    },
    {
      "cell_type": "markdown",
      "source": [
        "Get details about given family"
      ],
      "metadata": {
        "id": "T5-pNWbg8rtL"
      }
    },
    {
      "cell_type": "code",
      "source": [
        "list(filter(lambda k: '_' not in k, dir(sm.families.Poisson())))"
      ],
      "metadata": {
        "colab": {
          "base_uri": "https://localhost:8080/"
        },
        "id": "Po27lqut8h4O",
        "outputId": "6ef085eb-5dc5-47d7-bcda-8cabadfe41b0"
      },
      "execution_count": null,
      "outputs": [
        {
          "output_type": "execute_result",
          "data": {
            "text/plain": [
              "['deviance',\n",
              " 'fitted',\n",
              " 'link',\n",
              " 'links',\n",
              " 'loglike',\n",
              " 'predict',\n",
              " 'valid',\n",
              " 'variance',\n",
              " 'weights']"
            ]
          },
          "metadata": {},
          "execution_count": 21
        }
      ]
    },
    {
      "cell_type": "code",
      "source": [
        "sm.families.Poisson().links"
      ],
      "metadata": {
        "colab": {
          "base_uri": "https://localhost:8080/"
        },
        "id": "g83MwvrT9NVP",
        "outputId": "edcfa836-f434-4503-b8ff-e2215ff1528f"
      },
      "execution_count": null,
      "outputs": [
        {
          "output_type": "execute_result",
          "data": {
            "text/plain": [
              "[statsmodels.genmod.families.links.log,\n",
              " statsmodels.genmod.families.links.identity,\n",
              " statsmodels.genmod.families.links.sqrt]"
            ]
          },
          "metadata": {},
          "execution_count": 27
        }
      ]
    }
  ]
}